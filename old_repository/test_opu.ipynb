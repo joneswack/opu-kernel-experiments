{
 "cells": [
  {
   "cell_type": "code",
   "execution_count": 3,
   "metadata": {},
   "outputs": [],
   "source": [
    "import numpy as np\n",
    "import matplotlib.pyplot as plt\n",
    "\n",
    "import torch\n",
    "\n",
    "from sklearn.svm import SVC\n",
    "from sklearn.svm import LinearSVC\n",
    "from sklearn.kernel_ridge import KernelRidge\n",
    "from sklearn.linear_model import RidgeClassifier\n",
    "from sklearn.kernel_approximation import RBFSampler\n",
    "\n",
    "from sklearn.linear_model import RidgeClassifier\n",
    "\n",
    "import matplotlib.pyplot as plt\n",
    "\n",
    "import time"
   ]
  },
  {
   "cell_type": "code",
   "execution_count": 2,
   "metadata": {},
   "outputs": [],
   "source": [
    "from lightonml.datasets import FashionMNIST"
   ]
  },
  {
   "cell_type": "code",
   "execution_count": 5,
   "metadata": {},
   "outputs": [],
   "source": [
    "import pandas as pd"
   ]
  },
  {
   "cell_type": "code",
   "execution_count": 3,
   "metadata": {},
   "outputs": [],
   "source": [
    "# import os\n",
    "\n",
    "# os.environ[\"CUDA_VISIBLE_DEVICES\"]=\"1\""
   ]
  },
  {
   "cell_type": "code",
   "execution_count": 12,
   "metadata": {},
   "outputs": [],
   "source": [
    "active_pixels = train_data_bin.sum(axis=1, keepdims=True)"
   ]
  },
  {
   "cell_type": "code",
   "execution_count": 105,
   "metadata": {},
   "outputs": [],
   "source": [
    "opu_features_400_train = np.load('fashion_mnist_features_opu/exposure_500/no_dummy/train_100K.npy')"
   ]
  },
  {
   "cell_type": "code",
   "execution_count": 17,
   "metadata": {},
   "outputs": [],
   "source": [
    "opu_features_400_test = np.load('fashion_mnist_features_opu/exposure_700/no_dummy/test_100K.npy')"
   ]
  },
  {
   "cell_type": "code",
   "execution_count": 106,
   "metadata": {},
   "outputs": [],
   "source": [
    "raw_scale = (opu_features_400 / active_pixels).mean(axis=1).mean(axis=0)"
   ]
  },
  {
   "cell_type": "code",
   "execution_count": 107,
   "metadata": {},
   "outputs": [
    {
     "data": {
      "text/plain": [
       "0.0889688902844589"
      ]
     },
     "execution_count": 107,
     "metadata": {},
     "output_type": "execute_result"
    }
   ],
   "source": [
    "raw_scale"
   ]
  },
  {
   "cell_type": "code",
   "execution_count": null,
   "metadata": {},
   "outputs": [],
   "source": [
    "opu_features_400"
   ]
  },
  {
   "cell_type": "code",
   "execution_count": 108,
   "metadata": {},
   "outputs": [
    {
     "data": {
      "image/png": "[encoded data removed]",
      "text/plain": [
       "<Figure size 432x288 with 1 Axes>"
      ]
     },
     "metadata": {
      "needs_background": "light"
     },
     "output_type": "display_data"
    }
   ],
   "source": [
    "plt.hist(opu_features_400_train[1] / raw_scale, bins=100)\n",
    "plt.show()"
   ]
  },
  {
   "cell_type": "code",
   "execution_count": 83,
   "metadata": {},
   "outputs": [
    {
     "data": {
      "text/plain": [
       "(70000, 1000)"
      ]
     },
     "execution_count": 83,
     "metadata": {},
     "output_type": "execute_result"
    }
   ],
   "source": [
    "np_projection.shape"
   ]
  },
  {
   "cell_type": "code",
   "execution_count": 95,
   "metadata": {},
   "outputs": [],
   "source": [
    "raw_scale_np = (np_projection[:60000] / active_pixels).mean(axis=1).mean(axis=0)"
   ]
  },
  {
   "cell_type": "code",
   "execution_count": 96,
   "metadata": {},
   "outputs": [
    {
     "data": {
      "text/plain": [
       "0.035247306920411114"
      ]
     },
     "execution_count": 96,
     "metadata": {},
     "output_type": "execute_result"
    }
   ],
   "source": [
    "raw_scale_np"
   ]
  },
  {
   "cell_type": "code",
   "execution_count": 97,
   "metadata": {},
   "outputs": [
    {
     "data": {
      "text/plain": [
       "0.03571428571428571"
      ]
     },
     "execution_count": 97,
     "metadata": {},
     "output_type": "execute_result"
    }
   ],
   "source": [
    "1/np.sqrt(784)"
   ]
  },
  {
   "cell_type": "code",
   "execution_count": 100,
   "metadata": {},
   "outputs": [
    {
     "data": {
      "image/png": "[encoded data removed]",
      "text/plain": [
       "<Figure size 432x288 with 1 Axes>"
      ]
     },
     "metadata": {
      "needs_background": "light"
     },
     "output_type": "display_data"
    }
   ],
   "source": [
    "plt.hist(np_projection[1] / raw_scale_np, bins=100)\n",
    "plt.show()"
   ]
  },
  {
   "cell_type": "markdown",
   "metadata": {},
   "source": [
    "## Loading the data"
   ]
  },
  {
   "cell_type": "code",
   "execution_count": 76,
   "metadata": {},
   "outputs": [],
   "source": [
    "(train_data, train_labels), (test_data, test_labels) = FashionMNIST()\n",
    "\n",
    "# train_data = np.load('../datasets/export/fashion_mnist/numpy/train_data_fashion_mnist.npy').astype('uint8')\n",
    "# test_data = np.load('../datasets/export/fashion_mnist/numpy/test_data_fashion_mnist.npy').astype('uint8')\n",
    "# train_labels = np.load('../datasets/export/fashion_mnist/numpy/train_targets_fashion_mnist.npy').astype('uint8')\n",
    "# test_labels = np.load('../datasets/export/fashion_mnist/numpy/test_targets_fashion_mnist.npy').astype('uint8')\n",
    "\n",
    "# Convert one-hot to integers\n",
    "# train_labels = np.argmax(train_labels, axis=1)\n",
    "# test_labels = np.argmax(test_labels, axis=1)\n",
    "\n",
    "D = train_data[0].reshape(-1).shape[0]\n",
    "\n",
    "# Flatten the images\n",
    "train_data = train_data.reshape(-1, D)\n",
    "test_data = test_data.reshape(-1, D)"
   ]
  },
  {
   "cell_type": "code",
   "execution_count": 77,
   "metadata": {},
   "outputs": [],
   "source": [
    "def threshold_binarize(data, threshold):\n",
    "    data_bin = np.where(data>threshold, 1, 0).astype('uint8')\n",
    "    return data_bin"
   ]
  },
  {
   "cell_type": "code",
   "execution_count": 78,
   "metadata": {},
   "outputs": [],
   "source": [
    "# fashion mnist has values between 0 and 255\n",
    "threshold = 10\n",
    "\n",
    "train_data_bin = threshold_binarize(train_data, threshold)\n",
    "test_data_bin = threshold_binarize(test_data, threshold)"
   ]
  },
  {
   "cell_type": "markdown",
   "metadata": {},
   "source": [
    "## OPU Projection"
   ]
  },
  {
   "cell_type": "code",
   "execution_count": 7,
   "metadata": {},
   "outputs": [],
   "source": [
    "from lightonml.projections.sklearn import OPUMap"
   ]
  },
  {
   "cell_type": "code",
   "execution_count": 2,
   "metadata": {},
   "outputs": [],
   "source": [
    "?? OPUMap"
   ]
  },
  {
   "cell_type": "code",
   "execution_count": 4,
   "metadata": {},
   "outputs": [],
   "source": [
    "?? OPU"
   ]
  },
  {
   "cell_type": "code",
   "execution_count": 7,
   "metadata": {},
   "outputs": [],
   "source": [
    "n_components = 1000 # number of random projections\n",
    "random_mapping = OPUMap(n_components=n_components, ndims=1)"
   ]
  },
  {
   "cell_type": "code",
   "execution_count": 7,
   "metadata": {},
   "outputs": [
    {
     "data": {
      "text/plain": [
       "['_OPU__check_booking',\n",
       " '_OPU__opu_config',\n",
       " '_OPU__transform',\n",
       " '_TransformSetup',\n",
       " '__class__',\n",
       " '__delattr__',\n",
       " '__dict__',\n",
       " '__dir__',\n",
       " '__doc__',\n",
       " '__enter__',\n",
       " '__eq__',\n",
       " '__exit__',\n",
       " '__format__',\n",
       " '__ge__',\n",
       " '__getattribute__',\n",
       " '__gt__',\n",
       " '__hash__',\n",
       " '__init__',\n",
       " '__le__',\n",
       " '__lt__',\n",
       " '__module__',\n",
       " '__ne__',\n",
       " '__new__',\n",
       " '__reduce__',\n",
       " '__reduce_ex__',\n",
       " '__repr__',\n",
       " '__setattr__',\n",
       " '__sizeof__',\n",
       " '__str__',\n",
       " '__subclasshook__',\n",
       " '__weakref__',\n",
       " '_allowed_roi',\n",
       " '_cam_roi',\n",
       " '_count_ones',\n",
       " '_dmd_roi',\n",
       " '_max_n_features',\n",
       " '_min_batch_size',\n",
       " '_min_components',\n",
       " '_n_components',\n",
       " '_n_count',\n",
       " '_n_samples_by_pass',\n",
       " '_print',\n",
       " '_projection_times',\n",
       " '_resize_rnd_matrix',\n",
       " 'batch_transform',\n",
       " 'close',\n",
       " 'device',\n",
       " 'dmd_strategy',\n",
       " 'features_fmt',\n",
       " 'is_simulated',\n",
       " 'max_n_components',\n",
       " 'max_n_features',\n",
       " 'n_components',\n",
       " 'n_samples_by_pass',\n",
       " 'open',\n",
       " 'transform',\n",
       " 'transform1d',\n",
       " 'transform2d',\n",
       " 'verbose',\n",
       " 'version']"
      ]
     },
     "execution_count": 7,
     "metadata": {},
     "output_type": "execute_result"
    }
   ],
   "source": [
    "dir(random_mapping.opu)"
   ]
  },
  {
   "cell_type": "code",
   "execution_count": 8,
   "metadata": {},
   "outputs": [
    {
     "data": {
      "text/plain": [
       "1039680"
      ]
     },
     "execution_count": 8,
     "metadata": {},
     "output_type": "execute_result"
    }
   ],
   "source": [
    "random_mapping.opu._max_n_features"
   ]
  },
  {
   "cell_type": "code",
   "execution_count": 10,
   "metadata": {},
   "outputs": [
    {
     "data": {
      "text/plain": [
       "[[960, 0], [960, 1080]]"
      ]
     },
     "execution_count": 10,
     "metadata": {},
     "output_type": "execute_result"
    }
   ],
   "source": [
    "random_mapping.opu._cam_roi.allowed_roi"
   ]
  },
  {
   "cell_type": "code",
   "execution_count": 8,
   "metadata": {},
   "outputs": [
    {
     "data": {
      "text/plain": [
       "400"
      ]
     },
     "execution_count": 8,
     "metadata": {},
     "output_type": "execute_result"
    }
   ],
   "source": [
    "random_mapping.opu.device.exposure_us"
   ]
  },
  {
   "cell_type": "code",
   "execution_count": 17,
   "metadata": {},
   "outputs": [
    {
     "data": {
      "text/plain": [
       "500"
      ]
     },
     "execution_count": 17,
     "metadata": {},
     "output_type": "execute_result"
    }
   ],
   "source": [
    "random_mapping.opu.device.frametime_us"
   ]
  },
  {
   "cell_type": "code",
   "execution_count": 18,
   "metadata": {},
   "outputs": [
    {
     "data": {
      "text/plain": [
       "([1270, 348], [341, 384])"
      ]
     },
     "execution_count": 18,
     "metadata": {},
     "output_type": "execute_result"
    }
   ],
   "source": [
    "random_mapping.opu.device.cam_ROI"
   ]
  },
  {
   "cell_type": "code",
   "execution_count": 15,
   "metadata": {},
   "outputs": [
    {
     "data": {
      "text/plain": [
       "['_OpuDevice__opu',\n",
       " '__class__',\n",
       " '__deepcopy__',\n",
       " '__delattr__',\n",
       " '__dict__',\n",
       " '__dir__',\n",
       " '__doc__',\n",
       " '__enter__',\n",
       " '__eq__',\n",
       " '__exit__',\n",
       " '__format__',\n",
       " '__ge__',\n",
       " '__getattribute__',\n",
       " '__getstate__',\n",
       " '__gt__',\n",
       " '__hash__',\n",
       " '__init__',\n",
       " '__le__',\n",
       " '__lt__',\n",
       " '__module__',\n",
       " '__ne__',\n",
       " '__new__',\n",
       " '__reduce__',\n",
       " '__reduce_ex__',\n",
       " '__repr__',\n",
       " '__setattr__',\n",
       " '__setstate__',\n",
       " '__sizeof__',\n",
       " '__str__',\n",
       " '__subclasshook__',\n",
       " '__weakref__',\n",
       " '_cam_ROI_off',\n",
       " '_cam_roi_increment',\n",
       " '_cam_shape_max',\n",
       " '_cam_strategy',\n",
       " '_exposure_us_off',\n",
       " '_frametime_us_off',\n",
       " '_gain_dB_off',\n",
       " '_reserved_off',\n",
       " '_sequence_nb_prelim',\n",
       " 'acquire_seq',\n",
       " 'acquiring',\n",
       " 'active',\n",
       " 'cam_ROI',\n",
       " 'cam_readout_us',\n",
       " 'cam_roi_increment',\n",
       " 'cam_roi_strategy',\n",
       " 'cam_shape',\n",
       " 'cam_shape_max',\n",
       " 'close',\n",
       " 'dmd_shape',\n",
       " 'exposure_us',\n",
       " 'fill_dmd',\n",
       " 'frametime_us',\n",
       " 'gain_dB',\n",
       " 'input_size',\n",
       " 'nb_features',\n",
       " 'open',\n",
       " 'opu_type',\n",
       " 'reserve',\n",
       " 'transform1',\n",
       " 'transform2',\n",
       " 'transform_single',\n",
       " 'verbose',\n",
       " 'versions']"
      ]
     },
     "execution_count": 15,
     "metadata": {},
     "output_type": "execute_result"
    }
   ],
   "source": [
    "dir(random_mapping.opu.device)"
   ]
  },
  {
   "cell_type": "markdown",
   "metadata": {},
   "source": [
    "## Good exp distribution"
   ]
  },
  {
   "cell_type": "code",
   "execution_count": 79,
   "metadata": {},
   "outputs": [],
   "source": [
    "class OPUModuleNumpy(object):\n",
    "    def __init__(self, input_features, output_features, activation=None, bias=False, initial_log_scale='auto', dtype='float32'):\n",
    "        super(OPUModuleNumpy, self).__init__()\n",
    "        \n",
    "        self.real_matrix = np.random.normal(loc=0.0, scale=np.sqrt(0.5), size=(input_features, output_features)).astype(dtype)\n",
    "        self.img_matrix = np.random.normal(loc=0.0, scale=np.sqrt(0.5), size=(input_features, output_features)).astype(dtype)\n",
    "        \n",
    "        if bias:\n",
    "            self.bias = np.random.uniform(low=0.0, high=2 * np.pi, size=(1, output_features))\n",
    "        else:\n",
    "            self.bias = None\n",
    "            \n",
    "        self.activation = activation\n",
    "        \n",
    "        if initial_log_scale == 'auto':\n",
    "            self.log_scale = -0.5 * np.log(input_features)\n",
    "        else:\n",
    "            self.log_scale = initial_log_scale\n",
    "        \n",
    "    def project(self, data, matrix):\n",
    "        return np.dot(data, matrix)\n",
    "        \n",
    "    def forward(self, data):\n",
    "        out_real = self.project(data, self.real_matrix) ** 2\n",
    "        out_img = self.project(data, self.img_matrix) ** 2\n",
    "        \n",
    "        output = (out_real + out_img)\n",
    "        if self.bias is not None:\n",
    "            output += self.bias\n",
    "        if self.activation is not None:\n",
    "            output = self.activation(output)\n",
    "\n",
    "        return np.exp(self.log_scale) * output"
   ]
  },
  {
   "cell_type": "code",
   "execution_count": 93,
   "metadata": {},
   "outputs": [],
   "source": [
    "opm = OPUModuleNumpy(784, 10000)"
   ]
  },
  {
   "cell_type": "code",
   "execution_count": 94,
   "metadata": {},
   "outputs": [],
   "source": [
    "np_projection = opm.forward(np.vstack([train_data_bin, test_data_bin]))"
   ]
  },
  {
   "cell_type": "code",
   "execution_count": 26,
   "metadata": {},
   "outputs": [],
   "source": [
    "from scipy.stats import expon"
   ]
  },
  {
   "cell_type": "code",
   "execution_count": 31,
   "metadata": {},
   "outputs": [
    {
     "data": {
      "text/plain": [
       "array([1.60288773e+001, 7.22381549e-008, 3.25559360e-016, 1.46721489e-024,\n",
       "       6.61237185e-033, 2.98003119e-041, 1.34302579e-049, 6.05268249e-058,\n",
       "       2.72779314e-066, 1.22934838e-074, 5.54036677e-083, 2.49690522e-091,\n",
       "       1.12529295e-099, 5.07141487e-108, 2.28556029e-116, 1.03004506e-124,\n",
       "       4.64215635e-133, 2.09210417e-141, 9.42859207e-150, 4.24923145e-158,\n",
       "       1.91502271e-166, 8.63053007e-175, 3.88956480e-183, 1.75292992e-191,\n",
       "       7.90001824e-200, 3.56034133e-208, 1.60455710e-216, 7.23133894e-225,\n",
       "       3.25898423e-233, 1.46874297e-241, 6.61925850e-250, 2.98313483e-258,\n",
       "       1.34442452e-266, 6.05898623e-275, 2.73063408e-283, 1.23062872e-291,\n",
       "       5.54613695e-300, 2.49950569e-308, 1.12646513e-316, 0.00000000e+000,\n",
       "       0.00000000e+000, 0.00000000e+000, 0.00000000e+000, 0.00000000e+000,\n",
       "       0.00000000e+000, 0.00000000e+000, 0.00000000e+000, 0.00000000e+000,\n",
       "       0.00000000e+000, 0.00000000e+000, 0.00000000e+000, 0.00000000e+000,\n",
       "       0.00000000e+000, 0.00000000e+000, 0.00000000e+000, 0.00000000e+000,\n",
       "       0.00000000e+000, 0.00000000e+000, 0.00000000e+000, 0.00000000e+000,\n",
       "       0.00000000e+000, 0.00000000e+000, 0.00000000e+000, 0.00000000e+000,\n",
       "       0.00000000e+000, 0.00000000e+000, 0.00000000e+000, 0.00000000e+000,\n",
       "       0.00000000e+000, 0.00000000e+000, 0.00000000e+000, 0.00000000e+000,\n",
       "       0.00000000e+000, 0.00000000e+000, 0.00000000e+000, 0.00000000e+000,\n",
       "       0.00000000e+000, 0.00000000e+000, 0.00000000e+000, 0.00000000e+000,\n",
       "       0.00000000e+000, 0.00000000e+000, 0.00000000e+000, 0.00000000e+000,\n",
       "       0.00000000e+000, 0.00000000e+000, 0.00000000e+000, 0.00000000e+000,\n",
       "       0.00000000e+000, 0.00000000e+000, 0.00000000e+000, 0.00000000e+000,\n",
       "       0.00000000e+000, 0.00000000e+000, 0.00000000e+000, 0.00000000e+000,\n",
       "       0.00000000e+000, 0.00000000e+000, 0.00000000e+000, 0.00000000e+000])"
      ]
     },
     "execution_count": 31,
     "metadata": {},
     "output_type": "execute_result"
    }
   ],
   "source": [
    "expon.pdf(x, scale=1/exp_mean)"
   ]
  },
  {
   "cell_type": "code",
   "execution_count": 32,
   "metadata": {},
   "outputs": [
    {
     "data": {
      "text/plain": [
       "1000"
      ]
     },
     "execution_count": 32,
     "metadata": {},
     "output_type": "execute_result"
    }
   ],
   "source": [
    "len(np_projection[1])"
   ]
  },
  {
   "cell_type": "code",
   "execution_count": 44,
   "metadata": {},
   "outputs": [
    {
     "data": {
      "text/plain": [
       "(array([0.07667223, 0.05055312, 0.05223821, 0.04971056, 0.04297016,\n",
       "        0.03370207, 0.0387574 , 0.03285952, 0.03707228, 0.03454463,\n",
       "        0.02527656, 0.02527656, 0.01853614, 0.02527656, 0.0210638 ,\n",
       "        0.01600849, 0.01853614, 0.01432338, 0.01432338, 0.01937869,\n",
       "        0.0126383 , 0.01516593, 0.01516593, 0.00589786, 0.01011062,\n",
       "        0.00758297, 0.00926807, 0.01263828, 0.00674041, 0.00674041,\n",
       "        0.00421276, 0.00421276, 0.00674041, 0.00674041, 0.00505531,\n",
       "        0.00505531, 0.00421276, 0.00421276, 0.0016851 , 0.00674041,\n",
       "        0.0016851 , 0.0016851 , 0.00252766, 0.0016851 , 0.0016851 ,\n",
       "        0.00337021, 0.00337022, 0.00421276, 0.0016851 , 0.00252766,\n",
       "        0.0016851 , 0.0016851 , 0.0016851 , 0.0016851 , 0.00168511,\n",
       "        0.        , 0.00337022, 0.        , 0.00084255, 0.        ,\n",
       "        0.        , 0.00084255, 0.00084255, 0.        , 0.00084255,\n",
       "        0.        , 0.        , 0.00084255, 0.        , 0.        ,\n",
       "        0.        , 0.00084255, 0.        , 0.        , 0.        ,\n",
       "        0.00084255, 0.        , 0.        , 0.        , 0.        ,\n",
       "        0.        , 0.        , 0.        , 0.        , 0.        ,\n",
       "        0.00084255, 0.        , 0.        , 0.        , 0.        ,\n",
       "        0.00084255, 0.        , 0.        , 0.        , 0.        ,\n",
       "        0.        , 0.        , 0.        , 0.        , 0.00084255]),\n",
       " array([8.18182062e-03, 1.19505227e+00, 2.38192272e+00, 3.56879330e+00,\n",
       "        4.75566387e+00, 5.94253397e+00, 7.12940454e+00, 8.31627464e+00,\n",
       "        9.50314522e+00, 1.06900158e+01, 1.18768864e+01, 1.30637569e+01,\n",
       "        1.42506275e+01, 1.54374981e+01, 1.66243687e+01, 1.78112392e+01,\n",
       "        1.89981098e+01, 2.01849804e+01, 2.13718510e+01, 2.25587215e+01,\n",
       "        2.37455921e+01, 2.49324608e+01, 2.61193314e+01, 2.73062019e+01,\n",
       "        2.84930725e+01, 2.96799431e+01, 3.08668137e+01, 3.20536842e+01,\n",
       "        3.32405548e+01, 3.44274254e+01, 3.56142960e+01, 3.68011665e+01,\n",
       "        3.79880371e+01, 3.91749077e+01, 4.03617783e+01, 4.15486488e+01,\n",
       "        4.27355194e+01, 4.39223900e+01, 4.51092606e+01, 4.62961311e+01,\n",
       "        4.74830017e+01, 4.86698723e+01, 4.98567429e+01, 5.10436134e+01,\n",
       "        5.22304840e+01, 5.34173546e+01, 5.46042252e+01, 5.57910919e+01,\n",
       "        5.69779625e+01, 5.81648331e+01, 5.93517036e+01, 6.05385742e+01,\n",
       "        6.17254448e+01, 6.29123154e+01, 6.40991898e+01, 6.52860565e+01,\n",
       "        6.64729309e+01, 6.76597977e+01, 6.88466721e+01, 7.00335388e+01,\n",
       "        7.12204132e+01, 7.24072800e+01, 7.35941544e+01, 7.47810211e+01,\n",
       "        7.59678955e+01, 7.71547623e+01, 7.83416290e+01, 7.95285034e+01,\n",
       "        8.07153702e+01, 8.19022446e+01, 8.30891113e+01, 8.42759857e+01,\n",
       "        8.54628525e+01, 8.66497269e+01, 8.78365936e+01, 8.90234680e+01,\n",
       "        9.02103348e+01, 9.13972092e+01, 9.25840759e+01, 9.37709503e+01,\n",
       "        9.49578171e+01, 9.61446915e+01, 9.73315582e+01, 9.85184326e+01,\n",
       "        9.97052994e+01, 1.00892174e+02, 1.02079041e+02, 1.03265915e+02,\n",
       "        1.04452782e+02, 1.05639656e+02, 1.06826523e+02, 1.08013397e+02,\n",
       "        1.09200264e+02, 1.10387138e+02, 1.11574005e+02, 1.12760880e+02,\n",
       "        1.13947746e+02, 1.15134621e+02, 1.16321487e+02, 1.17508362e+02,\n",
       "        1.18695229e+02], dtype=float32),\n",
       " <a list of 100 Patch objects>)"
      ]
     },
     "execution_count": 44,
     "metadata": {},
     "output_type": "execute_result"
    },
    {
     "data": {
      "image/png": "[encoded data removed]",
      "text/plain": [
       "<Figure size 432x288 with 1 Axes>"
      ]
     },
     "metadata": {
      "needs_background": "light"
     },
     "output_type": "display_data"
    }
   ],
   "source": [
    "exp_mean = np_projection[1].mean()\n",
    "x = np.linspace(0, np_projection[1].max(), num=100)\n",
    "\n",
    "plt.plot(x, expon.pdf(x, scale=exp_mean))\n",
    "plt.hist(np_projection[1], bins=100, normed=True)"
   ]
  },
  {
   "cell_type": "code",
   "execution_count": 66,
   "metadata": {},
   "outputs": [],
   "source": [
    "import pandas as pd\n",
    "import os\n",
    "train_random_features = np.load(os.path.join('fashion_mnist_features_opu', 'exposure_400', 'no_dummy', 'train_100K.npy')).astype('float32')"
   ]
  },
  {
   "cell_type": "code",
   "execution_count": 10,
   "metadata": {},
   "outputs": [
    {
     "data": {
      "text/html": [
       "<div>\n",
       "<style scoped>\n",
       "    .dataframe tbody tr th:only-of-type {\n",
       "        vertical-align: middle;\n",
       "    }\n",
       "\n",
       "    .dataframe tbody tr th {\n",
       "        vertical-align: top;\n",
       "    }\n",
       "\n",
       "    .dataframe thead th {\n",
       "        text-align: right;\n",
       "    }\n",
       "</style>\n",
       "<table border=\"1\" class=\"dataframe\">\n",
       "  <thead>\n",
       "    <tr style=\"text-align: right;\">\n",
       "      <th></th>\n",
       "      <th>activation</th>\n",
       "      <th>alpha</th>\n",
       "      <th>dummy_input</th>\n",
       "      <th>exposure_us</th>\n",
       "      <th>inversion_warning</th>\n",
       "      <th>output_dim</th>\n",
       "      <th>seed</th>\n",
       "      <th>test_score</th>\n",
       "      <th>training_time</th>\n",
       "    </tr>\n",
       "  </thead>\n",
       "  <tbody>\n",
       "    <tr>\n",
       "      <th>0</th>\n",
       "      <td>NaN</td>\n",
       "      <td>0.0</td>\n",
       "      <td>0.0</td>\n",
       "      <td>1000.0</td>\n",
       "      <td>0.0</td>\n",
       "      <td>10.0</td>\n",
       "      <td>0.0</td>\n",
       "      <td>0.5493</td>\n",
       "      <td>0.030739</td>\n",
       "    </tr>\n",
       "    <tr>\n",
       "      <th>1</th>\n",
       "      <td>NaN</td>\n",
       "      <td>0.0</td>\n",
       "      <td>0.0</td>\n",
       "      <td>1000.0</td>\n",
       "      <td>0.0</td>\n",
       "      <td>10.0</td>\n",
       "      <td>1.0</td>\n",
       "      <td>0.5510</td>\n",
       "      <td>0.029758</td>\n",
       "    </tr>\n",
       "    <tr>\n",
       "      <th>2</th>\n",
       "      <td>NaN</td>\n",
       "      <td>0.0</td>\n",
       "      <td>0.0</td>\n",
       "      <td>1000.0</td>\n",
       "      <td>0.0</td>\n",
       "      <td>10.0</td>\n",
       "      <td>2.0</td>\n",
       "      <td>0.5677</td>\n",
       "      <td>0.028203</td>\n",
       "    </tr>\n",
       "    <tr>\n",
       "      <th>3</th>\n",
       "      <td>NaN</td>\n",
       "      <td>0.0</td>\n",
       "      <td>0.0</td>\n",
       "      <td>1000.0</td>\n",
       "      <td>0.0</td>\n",
       "      <td>10.0</td>\n",
       "      <td>3.0</td>\n",
       "      <td>0.5267</td>\n",
       "      <td>0.027017</td>\n",
       "    </tr>\n",
       "    <tr>\n",
       "      <th>4</th>\n",
       "      <td>NaN</td>\n",
       "      <td>0.0</td>\n",
       "      <td>0.0</td>\n",
       "      <td>1000.0</td>\n",
       "      <td>0.0</td>\n",
       "      <td>10.0</td>\n",
       "      <td>4.0</td>\n",
       "      <td>0.5469</td>\n",
       "      <td>0.027806</td>\n",
       "    </tr>\n",
       "  </tbody>\n",
       "</table>\n",
       "</div>"
      ],
      "text/plain": [
       "   activation  alpha  dummy_input  exposure_us  inversion_warning  output_dim  \\\n",
       "0         NaN    0.0          0.0       1000.0                0.0        10.0   \n",
       "1         NaN    0.0          0.0       1000.0                0.0        10.0   \n",
       "2         NaN    0.0          0.0       1000.0                0.0        10.0   \n",
       "3         NaN    0.0          0.0       1000.0                0.0        10.0   \n",
       "4         NaN    0.0          0.0       1000.0                0.0        10.0   \n",
       "\n",
       "   seed  test_score  training_time  \n",
       "0   0.0      0.5493       0.030739  \n",
       "1   1.0      0.5510       0.029758  \n",
       "2   2.0      0.5677       0.028203  \n",
       "3   3.0      0.5267       0.027017  \n",
       "4   4.0      0.5469       0.027806  "
      ]
     },
     "execution_count": 10,
     "metadata": {},
     "output_type": "execute_result"
    }
   ],
   "source": [
    "train_random_features.head()"
   ]
  },
  {
   "cell_type": "code",
   "execution_count": 67,
   "metadata": {},
   "outputs": [
    {
     "data": {
      "text/plain": [
       "(array([8.06451762e-04, 7.17741792e-03, 3.13709735e-02, 3.26209612e-02,\n",
       "        3.37096836e-02, 2.36290366e-02, 3.47580442e-02, 1.89919390e-02,\n",
       "        2.60080693e-02, 2.43951658e-02, 1.23387120e-02, 1.29032282e-02,\n",
       "        1.47177220e-02, 1.13709698e-02, 1.50403254e-02, 7.90322727e-03,\n",
       "        1.07661310e-02, 6.45161409e-03, 8.83064679e-03, 6.57258186e-03,\n",
       "        7.29837722e-03, 4.75806539e-03, 5.52419457e-03, 3.30645731e-03,\n",
       "        3.42741472e-03, 3.79031745e-03, 2.45968166e-03, 3.79031745e-03,\n",
       "        2.33871371e-03, 2.94354440e-03, 1.61290600e-03, 2.49999662e-03,\n",
       "        1.08871155e-03, 2.49999662e-03, 1.08870820e-03, 1.73387395e-03,\n",
       "        1.08870820e-03, 1.49193805e-03, 6.85482943e-04, 9.27420953e-04,\n",
       "        7.25805469e-04, 1.08870820e-03, 2.82258551e-04, 7.66127995e-04,\n",
       "        2.82258551e-04, 6.45160417e-04, 2.41935901e-04, 7.66127995e-04,\n",
       "        5.24192839e-04, 8.06453002e-05, 4.03226501e-04, 1.61289608e-04,\n",
       "        5.24194451e-04, 2.41935901e-04, 3.22581201e-04, 1.20967206e-04,\n",
       "        1.61290600e-04, 4.03226501e-05, 8.06448040e-05, 8.06453002e-05,\n",
       "        8.06453002e-05, 4.03226501e-05, 1.20967206e-04, 4.03226501e-05,\n",
       "        1.20967950e-04, 0.00000000e+00, 4.03224020e-05, 4.03226501e-05,\n",
       "        4.03226501e-05, 8.06448040e-05, 0.00000000e+00, 0.00000000e+00,\n",
       "        8.06453002e-05, 8.06448040e-05, 0.00000000e+00, 4.03226501e-05,\n",
       "        0.00000000e+00, 4.03226501e-05, 4.03226501e-05, 4.03226501e-05,\n",
       "        0.00000000e+00, 0.00000000e+00, 0.00000000e+00, 0.00000000e+00,\n",
       "        0.00000000e+00, 0.00000000e+00, 0.00000000e+00, 0.00000000e+00,\n",
       "        0.00000000e+00, 0.00000000e+00, 0.00000000e+00, 0.00000000e+00,\n",
       "        0.00000000e+00, 0.00000000e+00, 0.00000000e+00, 0.00000000e+00,\n",
       "        0.00000000e+00, 0.00000000e+00, 0.00000000e+00, 4.03226501e-05]),\n",
       " array([  7.  ,   9.48,  11.96,  14.44,  16.92,  19.4 ,  21.88,  24.36,\n",
       "         26.84,  29.32,  31.8 ,  34.28,  36.76,  39.24,  41.72,  44.2 ,\n",
       "         46.68,  49.16,  51.64,  54.12,  56.6 ,  59.08,  61.56,  64.04,\n",
       "         66.52,  69.  ,  71.48,  73.96,  76.44,  78.92,  81.4 ,  83.88,\n",
       "         86.36,  88.84,  91.32,  93.8 ,  96.28,  98.76, 101.24, 103.72,\n",
       "        106.2 , 108.68, 111.16, 113.64, 116.12, 118.6 , 121.08, 123.56,\n",
       "        126.04, 128.52, 131.  , 133.48, 135.96, 138.44, 140.92, 143.4 ,\n",
       "        145.88, 148.36, 150.84, 153.32, 155.8 , 158.28, 160.76, 163.24,\n",
       "        165.72, 168.2 , 170.68, 173.16, 175.64, 178.12, 180.6 , 183.08,\n",
       "        185.56, 188.04, 190.52, 193.  , 195.48, 197.96, 200.44, 202.92,\n",
       "        205.4 , 207.88, 210.36, 212.84, 215.32, 217.8 , 220.28, 222.76,\n",
       "        225.24, 227.72, 230.2 , 232.68, 235.16, 237.64, 240.12, 242.6 ,\n",
       "        245.08, 247.56, 250.04, 252.52, 255.  ], dtype=float32),\n",
       " <a list of 100 Patch objects>)"
      ]
     },
     "execution_count": 67,
     "metadata": {},
     "output_type": "execute_result"
    },
    {
     "data": {
      "image/png": "[encoded data removed]",
      "text/plain": [
       "<Figure size 432x288 with 1 Axes>"
      ]
     },
     "metadata": {
      "needs_background": "light"
     },
     "output_type": "display_data"
    }
   ],
   "source": [
    "data = train_random_features[100, :10000]\n",
    "\n",
    "exp_mean = data.mean()\n",
    "x = np.linspace(0, data.max(), num=100)\n",
    "\n",
    "plt.plot(x, expon.pdf(x, scale=exp_mean))\n",
    "\n",
    "plt.hist(data, bins=100, normed=True)"
   ]
  },
  {
   "cell_type": "code",
   "execution_count": 12,
   "metadata": {},
   "outputs": [
    {
     "data": {
      "text/plain": [
       "array([ 912, 1140])"
      ]
     },
     "execution_count": 12,
     "metadata": {},
     "output_type": "execute_result"
    }
   ],
   "source": [
    "random_mapping.opu._dmd_roi.dmd_shape"
   ]
  },
  {
   "cell_type": "code",
   "execution_count": null,
   "metadata": {},
   "outputs": [],
   "source": [
    "random_mapping.opu.device.cam_roi_increment"
   ]
  },
  {
   "cell_type": "code",
   "execution_count": 9,
   "metadata": {},
   "outputs": [],
   "source": [
    "random_mapping.opu.device.exposure_us = 2000\n",
    "random_mapping.opu.device.frametime_us = 2100"
   ]
  },
  {
   "cell_type": "code",
   "execution_count": 8,
   "metadata": {},
   "outputs": [
    {
     "data": {
      "text/plain": [
       "[341, 384]"
      ]
     },
     "execution_count": 8,
     "metadata": {},
     "output_type": "execute_result"
    }
   ],
   "source": [
    "random_mapping.opu.device.cam_shape"
   ]
  },
  {
   "cell_type": "code",
   "execution_count": 9,
   "metadata": {},
   "outputs": [],
   "source": [
    "random_mapping.opu.close()"
   ]
  },
  {
   "cell_type": "code",
   "execution_count": 14,
   "metadata": {},
   "outputs": [],
   "source": [
    "from lightonopu.opu import OPU\n",
    "\n",
    "with OPU(n_components=1000) as opu_dev:\n",
    "\n",
    "    random_mapping = OPUMap(opu=opu_dev, n_components=1000, ndims=1)\n",
    "    random_mapping.opu.device.exposure_us = 900\n",
    "    random_mapping.opu.device.frametime_us = 1000\n",
    "    train_random_features = random_mapping.transform(train_data_bin)\n",
    "    test_random_features = random_mapping.transform(test_data_bin)"
   ]
  },
  {
   "cell_type": "code",
   "execution_count": 39,
   "metadata": {},
   "outputs": [],
   "source": [
    "np.save('opu_fashion_mnist_features/train_{}K.npy'.format(n_components//1000), train_random_features)"
   ]
  },
  {
   "cell_type": "code",
   "execution_count": 40,
   "metadata": {},
   "outputs": [],
   "source": [
    "np.save('opu_fashion_mnist_features/test_{}K.npy'.format(n_components//1000), test_random_features)"
   ]
  },
  {
   "cell_type": "code",
   "execution_count": 47,
   "metadata": {},
   "outputs": [
    {
     "data": {
      "text/plain": [
       "array([[1, 1],\n",
       "       [2, 2],\n",
       "       [3, 3],\n",
       "       [4, 4]])"
      ]
     },
     "execution_count": 47,
     "metadata": {},
     "output_type": "execute_result"
    }
   ],
   "source": [
    "np.hstack([np.array([1,2,3,4]).reshape((-1, 1)), np.array([1,2,3,4]).reshape((-1, 1))])"
   ]
  },
  {
   "cell_type": "markdown",
   "metadata": {},
   "source": [
    "## Ridge Classifier"
   ]
  },
  {
   "cell_type": "code",
   "execution_count": 63,
   "metadata": {},
   "outputs": [],
   "source": [
    "# Rescaled OPU: dim=1k\n",
    "train_random_features = opu_features_400_train[:50000, :10000]\n",
    "val_random_features = opu_features_400_train[50000:, :10000]\n",
    "test_random_features = opu_features_400_test[:, :10000]\n",
    "train_labels_sub = train_labels[:50000]\n",
    "val_labels = train_labels[50000:]"
   ]
  },
  {
   "cell_type": "code",
   "execution_count": 27,
   "metadata": {},
   "outputs": [],
   "source": [
    "clf = RidgeClassifier(alpha=1.0)\n",
    "clf.fit(train_random_features, train_labels)\n",
    "score = clf.score(test_random_features, test_labels)"
   ]
  },
  {
   "cell_type": "code",
   "execution_count": 28,
   "metadata": {},
   "outputs": [
    {
     "data": {
      "text/plain": [
       "0.8775"
      ]
     },
     "execution_count": 28,
     "metadata": {},
     "output_type": "execute_result"
    }
   ],
   "source": [
    "# without rescaling\n",
    "score"
   ]
  },
  {
   "cell_type": "code",
   "execution_count": 30,
   "metadata": {},
   "outputs": [
    {
     "data": {
      "text/plain": [
       "0.4014244259998856"
      ]
     },
     "execution_count": 30,
     "metadata": {},
     "output_type": "execute_result"
    }
   ],
   "source": [
    "factor"
   ]
  },
  {
   "cell_type": "code",
   "execution_count": 37,
   "metadata": {},
   "outputs": [
    {
     "data": {
      "text/plain": [
       "0.0889688902844589"
      ]
     },
     "execution_count": 37,
     "metadata": {},
     "output_type": "execute_result"
    }
   ],
   "source": [
    "raw_scale"
   ]
  },
  {
   "cell_type": "code",
   "execution_count": 43,
   "metadata": {},
   "outputs": [
    {
     "data": {
      "text/plain": [
       "(array([ 11.,  24.,  21., 100.,   0.,  69.,  29.,  48.,  27.,  55.,  41.,\n",
       "         26.,  46.,  21.,  38.,  19.,  29.,  11.,  36.,  12.,  20.,  25.,\n",
       "         12.,  28.,  27.,  10.,  13.,  14.,   5.,  16.,  12.,   7.,  16.,\n",
       "          2.,  10.,   1.,  13.,   5.,   6.,   5.,   8.,   6.,   1.,   8.,\n",
       "          4.,   4.,   1.,   2.,   1.,   1.,   4.,   3.,   4.,   2.,   3.,\n",
       "          4.,   2.,   3.,   2.,   1.,   1.,   1.,   1.,   0.,   3.,   2.,\n",
       "          1.,   2.,   0.,   1.,   2.,   0.,   3.,   0.,   0.,   0.,   0.,\n",
       "          0.,   1.,   2.,   1.,   0.,   0.,   1.,   0.,   0.,   0.,   0.,\n",
       "          0.,   0.,   1.,   0.,   0.,   0.,   0.,   1.,   1.,   0.,   0.,\n",
       "          1.]),\n",
       " array([  9.  ,  10.55,  12.1 ,  13.65,  15.2 ,  16.75,  18.3 ,  19.85,\n",
       "         21.4 ,  22.95,  24.5 ,  26.05,  27.6 ,  29.15,  30.7 ,  32.25,\n",
       "         33.8 ,  35.35,  36.9 ,  38.45,  40.  ,  41.55,  43.1 ,  44.65,\n",
       "         46.2 ,  47.75,  49.3 ,  50.85,  52.4 ,  53.95,  55.5 ,  57.05,\n",
       "         58.6 ,  60.15,  61.7 ,  63.25,  64.8 ,  66.35,  67.9 ,  69.45,\n",
       "         71.  ,  72.55,  74.1 ,  75.65,  77.2 ,  78.75,  80.3 ,  81.85,\n",
       "         83.4 ,  84.95,  86.5 ,  88.05,  89.6 ,  91.15,  92.7 ,  94.25,\n",
       "         95.8 ,  97.35,  98.9 , 100.45, 102.  , 103.55, 105.1 , 106.65,\n",
       "        108.2 , 109.75, 111.3 , 112.85, 114.4 , 115.95, 117.5 , 119.05,\n",
       "        120.6 , 122.15, 123.7 , 125.25, 126.8 , 128.35, 129.9 , 131.45,\n",
       "        133.  , 134.55, 136.1 , 137.65, 139.2 , 140.75, 142.3 , 143.85,\n",
       "        145.4 , 146.95, 148.5 , 150.05, 151.6 , 153.15, 154.7 , 156.25,\n",
       "        157.8 , 159.35, 160.9 , 162.45, 164.  ]),\n",
       " <a list of 100 Patch objects>)"
      ]
     },
     "execution_count": 43,
     "metadata": {},
     "output_type": "execute_result"
    },
    {
     "data": {
      "image/png": "[encoded data removed]",
      "text/plain": [
       "<Figure size 432x288 with 1 Axes>"
      ]
     },
     "metadata": {
      "needs_background": "light"
     },
     "output_type": "display_data"
    }
   ],
   "source": [
    "plt.hist(train_random_features[0, :1000], bins=100)"
   ]
  },
  {
   "cell_type": "code",
   "execution_count": 52,
   "metadata": {},
   "outputs": [
    {
     "data": {
      "text/plain": [
       "(60000, 1000)"
      ]
     },
     "execution_count": 52,
     "metadata": {},
     "output_type": "execute_result"
    }
   ],
   "source": [
    "train_random_features.shape"
   ]
  },
  {
   "cell_type": "code",
   "execution_count": null,
   "metadata": {},
   "outputs": [],
   "source": [
    "train_labels"
   ]
  },
  {
   "cell_type": "code",
   "execution_count": 54,
   "metadata": {},
   "outputs": [
    {
     "data": {
      "text/plain": [
       "0.0889688902844589"
      ]
     },
     "execution_count": 54,
     "metadata": {},
     "output_type": "execute_result"
    }
   ],
   "source": [
    "raw_scale"
   ]
  },
  {
   "cell_type": "code",
   "execution_count": 56,
   "metadata": {},
   "outputs": [
    {
     "data": {
      "text/plain": [
       "(50000, 1000)"
      ]
     },
     "execution_count": 56,
     "metadata": {},
     "output_type": "execute_result"
    }
   ],
   "source": [
    "train_random_features.shape"
   ]
  },
  {
   "cell_type": "code",
   "execution_count": 57,
   "metadata": {},
   "outputs": [
    {
     "data": {
      "text/plain": [
       "(60000,)"
      ]
     },
     "execution_count": 57,
     "metadata": {},
     "output_type": "execute_result"
    }
   ],
   "source": [
    "train_labels.shape"
   ]
  },
  {
   "cell_type": "code",
   "execution_count": 69,
   "metadata": {},
   "outputs": [],
   "source": [
    "factor = 0.001 / raw_scale"
   ]
  },
  {
   "cell_type": "code",
   "execution_count": 70,
   "metadata": {},
   "outputs": [
    {
     "data": {
      "text/plain": [
       "0.011239883927996798"
      ]
     },
     "execution_count": 70,
     "metadata": {},
     "output_type": "execute_result"
    }
   ],
   "source": [
    "factor"
   ]
  },
  {
   "cell_type": "code",
   "execution_count": 72,
   "metadata": {},
   "outputs": [
    {
     "data": {
      "text/plain": [
       "2.787491214143206"
      ]
     },
     "execution_count": 72,
     "metadata": {},
     "output_type": "execute_result"
    }
   ],
   "source": [
    "factor * np.dot(train_random_features[1], train_random_features[1])"
   ]
  },
  {
   "cell_type": "code",
   "execution_count": null,
   "metadata": {},
   "outputs": [],
   "source": [
    "factor * train_random_features"
   ]
  },
  {
   "cell_type": "code",
   "execution_count": 65,
   "metadata": {},
   "outputs": [
    {
     "name": "stdout",
     "output_type": "stream",
     "text": [
      "1 0.876\n",
      "0.1 0.876\n",
      "0.01 0.8761\n",
      "0.001 0.8777\n",
      "0.0001 0.8744\n",
      "1e-05 0.8297\n"
     ]
    }
   ],
   "source": [
    "# rescaled\n",
    "for variance in [1, 0.1, 0.01, 0.001, 0.0001, 0.00001]:\n",
    "    # variance = np.arange(0.01, 0.1, 0.01)\n",
    "\n",
    "    # factor = 1./np.sqrt(784) / raw_scale\n",
    "    factor = variance / raw_scale\n",
    "\n",
    "    clf = RidgeClassifier(alpha=1.0)\n",
    "    clf.fit(factor * train_random_features, train_labels_sub)\n",
    "    score = clf.score(factor * val_random_features, val_labels)\n",
    "    print(variance, score)"
   ]
  },
  {
   "cell_type": "code",
   "execution_count": 66,
   "metadata": {},
   "outputs": [
    {
     "name": "stdout",
     "output_type": "stream",
     "text": [
      "1e-05 0.8766\n",
      "1e-05 0.8777\n",
      "1e-05 0.8788\n",
      "1e-05 0.8744\n"
     ]
    }
   ],
   "source": [
    "# alpha\n",
    "for alpha in [0.1, 1, 10, 100]:\n",
    "    # variance = np.arange(0.01, 0.1, 0.01)\n",
    "\n",
    "    # factor = 1./np.sqrt(784) / raw_scale\n",
    "    factor = 0.001 / raw_scale\n",
    "\n",
    "    clf = RidgeClassifier(alpha=alpha)\n",
    "    clf.fit(factor * train_random_features, train_labels_sub)\n",
    "    score = clf.score(factor * val_random_features, val_labels)\n",
    "    print(variance, score)"
   ]
  },
  {
   "cell_type": "code",
   "execution_count": 28,
   "metadata": {},
   "outputs": [
    {
     "name": "stdout",
     "output_type": "stream",
     "text": [
      "Score: 0.8444\n",
      "Time: 0.8923864364624023\n"
     ]
    }
   ],
   "source": [
    "# OPU: dim=1K, std_dev=0.5, 32bits\n",
    "since = time.time()\n",
    "\n",
    "clf = RidgeClassifier(alpha=1.0)\n",
    "clf.fit(train_random_features, train_labels)\n",
    "score = clf.score(test_random_features, test_labels)\n",
    "\n",
    "elapsed = time.time() - since\n",
    "\n",
    "print('Score:', score)\n",
    "print('Time:', elapsed)"
   ]
  },
  {
   "cell_type": "code",
   "execution_count": 11,
   "metadata": {},
   "outputs": [
    {
     "name": "stdout",
     "output_type": "stream",
     "text": [
      "Score: 0.8773\n",
      "Time: 35.18646216392517\n"
     ]
    }
   ],
   "source": [
    "# OPU: dim=10K, std_dev=0.5, 32bits\n",
    "since = time.time()\n",
    "\n",
    "clf = RidgeClassifier(alpha=1.0)\n",
    "clf.fit(train_random_features, train_labels)\n",
    "score = clf.score(test_random_features, test_labels)\n",
    "\n",
    "elapsed = time.time() - since\n",
    "\n",
    "print('Score:', score)\n",
    "print('Time:', elapsed)"
   ]
  },
  {
   "cell_type": "code",
   "execution_count": 41,
   "metadata": {},
   "outputs": [
    {
     "name": "stdout",
     "output_type": "stream",
     "text": [
      "Score: 0.8671\n",
      "Time: 130.62805652618408\n"
     ]
    }
   ],
   "source": [
    "# OPU: dim=20K, std_dev=0.5, 32bits\n",
    "since = time.time()\n",
    "\n",
    "clf = RidgeClassifier(alpha=1.0)\n",
    "clf.fit(train_random_features, train_labels)\n",
    "score = clf.score(test_random_features, test_labels)\n",
    "\n",
    "elapsed = time.time() - since\n",
    "\n",
    "print('Score:', score)\n",
    "print('Time:', elapsed)"
   ]
  },
  {
   "cell_type": "code",
   "execution_count": null,
   "metadata": {},
   "outputs": [],
   "source": []
  }
 ],
 "metadata": {
  "kernelspec": {
   "display_name": "Python 3 (LightOn OPU)",
   "language": "python",
   "name": "lighton_python3"
  },
  "language_info": {
   "codemirror_mode": {
    "name": "ipython",
    "version": 3
   },
   "file_extension": ".py",
   "mimetype": "text/x-python",
   "name": "python",
   "nbconvert_exporter": "python",
   "pygments_lexer": "ipython3",
   "version": "3.5.2"
  }
 },
 "nbformat": 4,
 "nbformat_minor": 2
}
