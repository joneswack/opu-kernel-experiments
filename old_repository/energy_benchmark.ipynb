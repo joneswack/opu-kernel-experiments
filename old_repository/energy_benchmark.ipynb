{
 "cells": [
  {
   "cell_type": "code",
   "execution_count": 5,
   "metadata": {},
   "outputs": [
    {
     "name": "stdout",
     "output_type": "stream",
     "text": [
      "energy_benchmark_cpu-gpu.py  power_info.py  test.py\n",
      "energy_benchmark_opu.py      results\n"
     ]
    }
   ],
   "source": [
    "! ls ../opu-gpu_energy/"
   ]
  },
  {
   "cell_type": "code",
   "execution_count": 7,
   "metadata": {},
   "outputs": [],
   "source": [
    "import sys"
   ]
  },
  {
   "cell_type": "code",
   "execution_count": 8,
   "metadata": {},
   "outputs": [],
   "source": [
    "sys.path.append(\"../opu-gpu_energy/\")"
   ]
  },
  {
   "cell_type": "code",
   "execution_count": 9,
   "metadata": {},
   "outputs": [],
   "source": [
    "from power_info import EnergyMonitor"
   ]
  },
  {
   "cell_type": "code",
   "execution_count": 18,
   "metadata": {},
   "outputs": [
    {
     "name": "stdout",
     "output_type": "stream",
     "text": [
      "Detected GPU(s): GPU 0 (37.06 W), GPU 1 (29.77 W), GPU 2 (30.02 W), GPU 3 (30.75 W).\n"
     ]
    }
   ],
   "source": [
    "# period in seconds (frequency to check)\n",
    "# 2 seconds small exp\n",
    "# 10 seconds big\n",
    "e = EnergyMonitor(period=2)"
   ]
  },
  {
   "cell_type": "code",
   "execution_count": 19,
   "metadata": {},
   "outputs": [
    {
     "name": "stdout",
     "output_type": "stream",
     "text": [
      "Starting GPU energy monitoring in background... OK.\n"
     ]
    },
    {
     "data": {
      "text/plain": [
       "Energy(numpy.datetime64('2019-09-17T14:08:06.263'),\n",
       "{'2': 5.61374, '3': 5.62725, '1': 5.71584, '0': 7.300820000000001})"
      ]
     },
     "execution_count": 19,
     "metadata": {},
     "output_type": "execute_result"
    }
   ],
   "source": [
    "# Point estimate\n",
    "e.energy()"
   ]
  },
  {
   "cell_type": "code",
   "execution_count": 12,
   "metadata": {},
   "outputs": [],
   "source": [
    "one = e.energy()"
   ]
  },
  {
   "cell_type": "code",
   "execution_count": 13,
   "metadata": {},
   "outputs": [],
   "source": [
    "two = e.energy()"
   ]
  },
  {
   "cell_type": "code",
   "execution_count": 14,
   "metadata": {},
   "outputs": [
    {
     "data": {
      "text/plain": [
       "Energy(numpy.timedelta64(5031,'ms'),\n",
       "{'2': 149.82317999999987, '3': 154.70325000000003, '0': 186.44885999999997, '1': 148.5420650000001})"
      ]
     },
     "execution_count": 14,
     "metadata": {},
     "output_type": "execute_result"
    }
   ],
   "source": [
    "# joule after integration\n",
    "two - one"
   ]
  },
  {
   "cell_type": "code",
   "execution_count": null,
   "metadata": {},
   "outputs": [],
   "source": [
    "# energy_benchmark_cpu-gpu shows graph"
   ]
  },
  {
   "cell_type": "code",
   "execution_count": 15,
   "metadata": {},
   "outputs": [
    {
     "data": {
      "text/plain": [
       "(array([['2019-09-17T14:02:48.695', '2019-09-17T14:02:58.717',\n",
       "         '2019-09-17T14:03:08.738', '2019-09-17T14:03:18.756',\n",
       "         '2019-09-17T14:03:28.776', '2019-09-17T14:03:38.795',\n",
       "         '2019-09-17T14:03:48.815', '2019-09-17T14:03:58.846',\n",
       "         '2019-09-17T14:04:08.866', '2019-09-17T14:04:18.887',\n",
       "         '2019-09-17T14:04:28.906', '2019-09-17T14:04:38.930',\n",
       "         '2019-09-17T14:04:48.951', '2019-09-17T14:04:58.972',\n",
       "         '2019-09-17T14:05:08.992', '2019-09-17T14:05:19.013',\n",
       "         '2019-09-17T14:05:29.034', '2019-09-17T14:05:39.053',\n",
       "         '2019-09-17T14:05:49.076', '2019-09-17T14:05:59.096',\n",
       "         '2019-09-17T14:06:09.121', '2019-09-17T14:06:19.145'],\n",
       "        ['2019-09-17T14:02:48.700', '2019-09-17T14:02:58.722',\n",
       "         '2019-09-17T14:03:08.742', '2019-09-17T14:03:18.761',\n",
       "         '2019-09-17T14:03:28.781', '2019-09-17T14:03:38.801',\n",
       "         '2019-09-17T14:03:48.830', '2019-09-17T14:03:58.851',\n",
       "         '2019-09-17T14:04:08.870', '2019-09-17T14:04:18.892',\n",
       "         '2019-09-17T14:04:28.912', '2019-09-17T14:04:38.934',\n",
       "         '2019-09-17T14:04:48.956', '2019-09-17T14:04:58.977',\n",
       "         '2019-09-17T14:05:08.997', '2019-09-17T14:05:19.018',\n",
       "         '2019-09-17T14:05:29.039', '2019-09-17T14:05:39.058',\n",
       "         '2019-09-17T14:05:49.080', '2019-09-17T14:05:59.101',\n",
       "         '2019-09-17T14:06:09.128', '2019-09-17T14:06:19.149'],\n",
       "        ['2019-09-17T14:02:48.704', '2019-09-17T14:02:58.726',\n",
       "         '2019-09-17T14:03:08.747', '2019-09-17T14:03:18.766',\n",
       "         '2019-09-17T14:03:28.785', '2019-09-17T14:03:38.805',\n",
       "         '2019-09-17T14:03:48.836', '2019-09-17T14:03:58.855',\n",
       "         '2019-09-17T14:04:08.877', '2019-09-17T14:04:18.896',\n",
       "         '2019-09-17T14:04:28.919', '2019-09-17T14:04:38.939',\n",
       "         '2019-09-17T14:04:48.961', '2019-09-17T14:04:58.981',\n",
       "         '2019-09-17T14:05:09.002', '2019-09-17T14:05:19.024',\n",
       "         '2019-09-17T14:05:29.043', '2019-09-17T14:05:39.066',\n",
       "         '2019-09-17T14:05:49.086', '2019-09-17T14:05:59.108',\n",
       "         '2019-09-17T14:06:09.132', '2019-09-17T14:06:19.154'],\n",
       "        ['2019-09-17T14:02:48.709', '2019-09-17T14:02:58.730',\n",
       "         '2019-09-17T14:03:08.751', '2019-09-17T14:03:18.770',\n",
       "         '2019-09-17T14:03:28.790', '2019-09-17T14:03:38.810',\n",
       "         '2019-09-17T14:03:48.841', '2019-09-17T14:03:58.860',\n",
       "         '2019-09-17T14:04:08.882', '2019-09-17T14:04:18.901',\n",
       "         '2019-09-17T14:04:28.924', '2019-09-17T14:04:38.944',\n",
       "         '2019-09-17T14:04:48.966', '2019-09-17T14:04:58.986',\n",
       "         '2019-09-17T14:05:09.007', '2019-09-17T14:05:19.029',\n",
       "         '2019-09-17T14:05:29.048', '2019-09-17T14:05:39.071',\n",
       "         '2019-09-17T14:05:49.090', '2019-09-17T14:05:59.115',\n",
       "         '2019-09-17T14:06:09.137', '2019-09-17T14:06:19.159']],\n",
       "       dtype='datetime64[ms]'),\n",
       " array([[37.06, 37.06, 37.06, 37.06, 37.06, 37.06, 37.06, 37.06, 37.06,\n",
       "         37.06, 37.06, 37.06, 37.06, 37.06, 37.06, 37.06, 37.06, 37.06,\n",
       "         37.06, 37.06, 37.06, 37.06],\n",
       "        [29.53, 29.53, 29.77, 29.53, 30.01, 29.54, 29.53, 30.01, 29.54,\n",
       "         30.01, 30.01, 30.01, 29.77, 30.26, 29.77, 29.77, 29.77, 29.53,\n",
       "         29.53, 30.01, 30.01, 29.77],\n",
       "        [30.02, 29.78, 30.02, 30.02, 30.02, 29.78, 29.78, 29.78, 29.78,\n",
       "         29.78, 29.78, 30.02, 29.78, 30.02, 30.02, 30.02, 29.78, 30.02,\n",
       "         29.78, 30.02, 29.78, 30.02],\n",
       "        [30.75, 30.75, 30.75, 30.75, 30.75, 30.75, 30.75, 30.75, 30.75,\n",
       "         30.75, 30.75, 30.75, 30.75, 30.75, 30.75, 30.75, 30.75, 30.75,\n",
       "         30.75, 30.75, 30.75, 30.51]]),\n",
       " ['0', '1', '2', '3'])"
      ]
     },
     "execution_count": 15,
     "metadata": {},
     "output_type": "execute_result"
    }
   ],
   "source": [
    "e.to_numpy()"
   ]
  },
  {
   "cell_type": "code",
   "execution_count": 16,
   "metadata": {},
   "outputs": [
    {
     "name": "stdout",
     "output_type": "stream",
     "text": [
      "Stop monitoring GPUs.\n"
     ]
    }
   ],
   "source": [
    "del e"
   ]
  },
  {
   "cell_type": "code",
   "execution_count": null,
   "metadata": {},
   "outputs": [],
   "source": []
  }
 ],
 "metadata": {
  "kernelspec": {
   "display_name": "Python 3",
   "language": "python",
   "name": "python3"
  },
  "language_info": {
   "codemirror_mode": {
    "name": "ipython",
    "version": 3
   },
   "file_extension": ".py",
   "mimetype": "text/x-python",
   "name": "python",
   "nbconvert_exporter": "python",
   "pygments_lexer": "ipython3",
   "version": "3.5.2"
  }
 },
 "nbformat": 4,
 "nbformat_minor": 2
}
