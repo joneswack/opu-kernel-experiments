{
 "cells": [
  {
   "cell_type": "code",
   "execution_count": 18,
   "metadata": {},
   "outputs": [],
   "source": [
    "\n",
    "import numpy as np\n",
    "import matplotlib.pyplot as plt\n",
    "\n",
    "import torch\n",
    "\n",
    "from sklearn.svm import SVC\n",
    "from sklearn.svm import LinearSVC\n",
    "from sklearn.kernel_ridge import KernelRidge\n",
    "from sklearn.linear_model import RidgeClassifier\n",
    "from sklearn.kernel_approximation import RBFSampler\n",
    "from sklearn.preprocessing import LabelBinarizer\n",
    "\n",
    "import time\n",
    "from gpu_energy.power_info import EnergyMonitor\n",
    "\n",
    "\n",
    "import synthetic_opu\n",
    "from multiple_regression_solver import MultipleRegressionSolver\n",
    "\n"
   ]
  },
  {
   "cell_type": "code",
   "execution_count": 19,
   "metadata": {},
   "outputs": [],
   "source": [
    "# (train_data, train_labels), (test_data, test_labels) = FashionMNIST()\n",
    "#dataset_folder = \"../../datasets/export\" \n",
    "dataset_folder = \"../Datasets\"\n",
    "train_data = np.load(dataset_folder+'/fashion_mnist/numpy/train_data_fashion_mnist.npy').astype('uint8')\n",
    "test_data = np.load(dataset_folder+'/fashion_mnist/numpy/test_data_fashion_mnist.npy').astype('uint8')\n",
    "train_labels = np.load(dataset_folder+'/fashion_mnist/numpy/train_targets_fashion_mnist.npy').astype('uint8')\n",
    "test_labels = np.load(dataset_folder+'/fashion_mnist/numpy/test_targets_fashion_mnist.npy').astype('uint8')\n",
    "\n",
    "# Convert one-hot to integers\n",
    "train_labels = np.argmax(train_labels, axis=1)\n",
    "test_labels = np.argmax(test_labels, axis=1)\n",
    "\n",
    "D = train_data[0].reshape(-1).shape[0]\n",
    "\n",
    "# Flatten the images\n",
    "train_data = train_data.reshape(-1, D)\n",
    "test_data = test_data.reshape(-1, D)"
   ]
  },
  {
   "cell_type": "code",
   "execution_count": 21,
   "metadata": {},
   "outputs": [
    {
     "name": "stdout",
     "output_type": "stream",
     "text": [
      "Detected GPU(s): GPU 0 (161.69 W), GPU 1 (30.26 W), GPU 2 (32.2 W).\n",
      "Stop monitoring GPUs.\n"
     ]
    }
   ],
   "source": [
    "EM = EnergyMonitor()"
   ]
  },
  {
   "cell_type": "markdown",
   "metadata": {},
   "source": [
    "## Project the data"
   ]
  },
  {
   "cell_type": "code",
   "execution_count": 22,
   "metadata": {},
   "outputs": [],
   "source": [
    "def threshold_binarize(data, threshold):\n",
    "    data_bin = np.where(data>threshold, 1, 0).astype('uint8')\n",
    "    return data_bin"
   ]
  },
  {
   "cell_type": "code",
   "execution_count": 23,
   "metadata": {},
   "outputs": [],
   "source": [
    "# fashion mnist has values between 0 and 255\n",
    "threshold = 10\n",
    "\n",
    "train_data_bin = threshold_binarize(train_data, threshold)\n",
    "test_data_bin = threshold_binarize(test_data, threshold)"
   ]
  },
  {
   "cell_type": "code",
   "execution_count": 24,
   "metadata": {},
   "outputs": [],
   "source": [
    "train_data_bin = threshold_binarize(train_data, 10)\n",
    "test_data_bin = threshold_binarize(test_data, 10)\n",
    "# we need to work with flot32 or float64 for some reason.\n",
    "# otherwise numpy freezes\n",
    "all_data = np.vstack([train_data_bin, test_data_bin]).astype('float32')"
   ]
  },
  {
   "cell_type": "code",
   "execution_count": 25,
   "metadata": {},
   "outputs": [
    {
     "name": "stdout",
     "output_type": "stream",
     "text": [
      "Starting GPU energy monitoring in background... OK.\n",
      "Processing chunk of size: torch.Size([5000, 784])\n",
      "Processing chunk of size: torch.Size([5000, 784])\n",
      "Processing chunk of size: torch.Size([5000, 784])\n",
      "Processing chunk of size: torch.Size([5000, 784])\n",
      "Processing chunk of size: torch.Size([5000, 784])\n",
      "Processing chunk of size: torch.Size([5000, 784])\n",
      "Processing chunk of size: torch.Size([5000, 784])\n",
      "Processing chunk of size: torch.Size([5000, 784])\n",
      "Processing chunk of size: torch.Size([5000, 784])\n",
      "Processing chunk of size: torch.Size([5000, 784])\n",
      "Processing chunk of size: torch.Size([5000, 784])\n",
      "Processing chunk of size: torch.Size([5000, 784])\n",
      "Processing chunk of size: torch.Size([5000, 784])\n",
      "Processing chunk of size: torch.Size([5000, 784])\n",
      "Total time elapsed (seconds): 14.751839876174927\n",
      "Time per chunk (seconds): 1.0537028482982091\n"
     ]
    }
   ],
   "source": [
    "out_dim = 10000\n",
    "ener1 = EM.energy()\n",
    "data_proj = synthetic_opu.project_big_np_matrix(all_data, out_dim=10000, chunk_size=5000, projection='opu',\n",
    "                          framework='pytorch', dtype=torch.FloatTensor, cuda=True)"
   ]
  },
  {
   "cell_type": "code",
   "execution_count": 26,
   "metadata": {},
   "outputs": [],
   "source": [
    "train_proj = data_proj[:len(train_data_bin)]\n",
    "test_proj = data_proj[len(train_data_bin):]"
   ]
  },
  {
   "cell_type": "code",
   "execution_count": null,
   "metadata": {},
   "outputs": [],
   "source": []
  },
  {
   "cell_type": "markdown",
   "metadata": {},
   "source": [
    "## Regression on the features"
   ]
  },
  {
   "cell_type": "code",
   "execution_count": 27,
   "metadata": {},
   "outputs": [],
   "source": [
    "# like one-hot encoding with 0 corresponding to -1\n",
    "label_binarizer = LabelBinarizer(pos_label=1, neg_label=-1)\n",
    "train_labels_bin = label_binarizer.fit_transform(train_labels)\n",
    "test_labels_bin = label_binarizer.fit_transform(test_labels)"
   ]
  },
  {
   "cell_type": "code",
   "execution_count": 28,
   "metadata": {},
   "outputs": [],
   "source": [
    "solver = MultipleRegressionSolver(train_proj, train_labels_bin, batch_size=128, cuda=True)"
   ]
  },
  {
   "cell_type": "code",
   "execution_count": 29,
   "metadata": {},
   "outputs": [
    {
     "name": "stdout",
     "output_type": "stream",
     "text": [
      " GPU | Energy (J) | Avg. pow (W)\n",
      "   0 |    1265.30 |       126.34\n",
      "   2 |     325.62 |        32.51\n",
      "   1 |     304.28 |        30.38\n",
      " over a period of 10015 milliseconds.\n"
     ]
    }
   ],
   "source": [
    "ener2 = EM.energy()\n",
    "print(ener2-ener1)"
   ]
  },
  {
   "cell_type": "markdown",
   "metadata": {},
   "source": [
    "## Synthetic OPU"
   ]
  },
  {
   "cell_type": "markdown",
   "metadata": {},
   "source": [
    "### 1K Features"
   ]
  },
  {
   "cell_type": "code",
   "execution_count": 14,
   "metadata": {},
   "outputs": [],
   "source": [
    "optimizer = torch.optim.Adam(solver.model.parameters(), lr=1e-3)"
   ]
  },
  {
   "cell_type": "code",
   "execution_count": 15,
   "metadata": {},
   "outputs": [
    {
     "name": "stdout",
     "output_type": "stream",
     "text": [
      "Epoch: 0 Loss: 58.79425048828125 Accuracy: 12.5\n",
      "Epoch: 1 Loss: 1.1396335363388062 Accuracy: 49.21875\n",
      "Epoch: 2 Loss: 0.5425878167152405 Accuracy: 78.125\n",
      "Epoch: 3 Loss: 0.757494330406189 Accuracy: 69.53125\n",
      "Epoch: 4 Loss: 4.021361351013184 Accuracy: 20.3125\n",
      "Epoch: 5 Loss: 2.530369281768799 Accuracy: 41.40625\n",
      "Epoch: 6 Loss: 2.572263717651367 Accuracy: 38.28125\n",
      "Epoch: 7 Loss: 1.3776670694351196 Accuracy: 52.34375\n",
      "Epoch: 8 Loss: 1.5671007633209229 Accuracy: 49.21875\n",
      "Epoch: 9 Loss: 5.898340702056885 Accuracy: 15.625\n",
      "Epoch: 10 Loss: 4.693675518035889 Accuracy: 35.9375\n",
      "Epoch: 11 Loss: 1.8051496744155884 Accuracy: 51.5625\n",
      "Epoch: 12 Loss: 1.6415901184082031 Accuracy: 35.9375\n",
      "Epoch: 13 Loss: 1.3518457412719727 Accuracy: 45.3125\n",
      "Epoch: 14 Loss: 5.09631872177124 Accuracy: 14.84375\n",
      "Epoch: 15 Loss: 1.6905406713485718 Accuracy: 43.75\n",
      "Epoch: 16 Loss: 5.776478290557861 Accuracy: 15.625\n",
      "Epoch: 17 Loss: 1.8163782358169556 Accuracy: 56.25\n",
      "Epoch: 18 Loss: 13.81782054901123 Accuracy: 32.8125\n",
      "Epoch: 19 Loss: 3.8467628955841064 Accuracy: 50.78125\n",
      "Epoch: 20 Loss: 1.3795758485794067 Accuracy: 60.15625\n",
      "Epoch: 21 Loss: 2.209519147872925 Accuracy: 52.34375\n",
      "Epoch: 22 Loss: 2.7470812797546387 Accuracy: 65.625\n",
      "Epoch: 23 Loss: 26.542272567749023 Accuracy: 6.25\n",
      "Epoch: 24 Loss: 4.141961574554443 Accuracy: 24.21875\n",
      "Epoch: 25 Loss: 2.951876163482666 Accuracy: 28.90625\n",
      "Epoch: 26 Loss: 2.728762149810791 Accuracy: 22.65625\n",
      "Epoch: 27 Loss: 4.007211685180664 Accuracy: 28.90625\n",
      "Epoch: 28 Loss: 4.814054012298584 Accuracy: 44.53125\n",
      "Epoch: 29 Loss: 3.6821517944335938 Accuracy: 14.0625\n",
      "Epoch: 30 Loss: 4.029627799987793 Accuracy: 22.65625\n",
      "Epoch: 31 Loss: 1.599780797958374 Accuracy: 27.34375\n",
      "Epoch: 32 Loss: 2.5445780754089355 Accuracy: 14.0625\n",
      "Epoch: 33 Loss: 3.8015856742858887 Accuracy: 16.40625\n",
      "Epoch: 34 Loss: 5.414088249206543 Accuracy: 26.5625\n",
      "Epoch: 35 Loss: 8.51508903503418 Accuracy: 38.28125\n",
      "Epoch: 36 Loss: 3.2794127464294434 Accuracy: 54.6875\n",
      "Epoch: 37 Loss: 4.24887752532959 Accuracy: 28.90625\n",
      "Epoch: 38 Loss: 12.067586898803711 Accuracy: 25.78125\n",
      "Epoch: 39 Loss: 22.49577522277832 Accuracy: 16.40625\n",
      "Epoch: 40 Loss: 0.945656418800354 Accuracy: 64.0625\n",
      "Epoch: 41 Loss: 1.753171682357788 Accuracy: 47.65625\n",
      "Epoch: 42 Loss: 0.3675574064254761 Accuracy: 84.375\n",
      "Epoch: 43 Loss: 4.567006587982178 Accuracy: 20.3125\n",
      "Epoch: 44 Loss: 0.6480677723884583 Accuracy: 75.78125\n",
      "Epoch: 45 Loss: 0.699083685874939 Accuracy: 68.75\n",
      "Epoch: 46 Loss: 0.9154641032218933 Accuracy: 75.0\n",
      "Epoch: 47 Loss: 3.8656554222106934 Accuracy: 17.96875\n",
      "Epoch: 48 Loss: 9.031903266906738 Accuracy: 12.5\n",
      "Epoch: 49 Loss: 7.350386142730713 Accuracy: 10.9375\n"
     ]
    }
   ],
   "source": [
    "coefficients = solver.fit(optimizer, epochs=50)"
   ]
  },
  {
   "cell_type": "code",
   "execution_count": 16,
   "metadata": {},
   "outputs": [
    {
     "name": "stdout",
     "output_type": "stream",
     "text": [
      "Accuracy: 59.123333333333335\n"
     ]
    },
    {
     "data": {
      "text/plain": [
       "59.123333333333335"
      ]
     },
     "execution_count": 16,
     "metadata": {},
     "output_type": "execute_result"
    }
   ],
   "source": [
    "solver.classification_score(test_proj, test_labels_bin)"
   ]
  },
  {
   "cell_type": "code",
   "execution_count": 17,
   "metadata": {},
   "outputs": [
    {
     "name": "stdout",
     "output_type": "stream",
     "text": [
      " GPU | Energy (J) | Avg. pow (W)\n",
      "   0 |   35128.76 |       124.24\n",
      "   2 |    9199.81 |        32.54\n",
      "   1 |    8529.90 |        30.17\n",
      " over a period of 282753 milliseconds.\n"
     ]
    }
   ],
   "source": [
    "ener3 = EM.energy()\n",
    "print(ener3-ener2)"
   ]
  },
  {
   "cell_type": "markdown",
   "metadata": {},
   "source": [
    "### 10K Features"
   ]
  },
  {
   "cell_type": "code",
   "execution_count": 17,
   "metadata": {},
   "outputs": [],
   "source": [
    "optimizer = torch.optim.Adam(solver.model.parameters(), lr=1e-4)"
   ]
  },
  {
   "cell_type": "code",
   "execution_count": 18,
   "metadata": {},
   "outputs": [
    {
     "name": "stdout",
     "output_type": "stream",
     "text": [
      "Epoch: 0 Loss: 19.49797248840332 Accuracy: 12.5\n",
      "Epoch: 1 Loss: 0.9232721328735352 Accuracy: 53.125\n",
      "Epoch: 2 Loss: 0.6023041605949402 Accuracy: 64.84375\n",
      "Epoch: 3 Loss: 0.4681790769100189 Accuracy: 72.65625\n",
      "Epoch: 4 Loss: 0.4207070469856262 Accuracy: 70.3125\n",
      "Epoch: 5 Loss: 0.35498887300491333 Accuracy: 75.0\n",
      "Epoch: 6 Loss: 0.35204654932022095 Accuracy: 85.9375\n",
      "Epoch: 7 Loss: 0.3081686198711395 Accuracy: 83.59375\n",
      "Epoch: 8 Loss: 0.33145350217819214 Accuracy: 78.90625\n",
      "Epoch: 9 Loss: 0.36751434206962585 Accuracy: 76.5625\n",
      "Epoch: 10 Loss: 0.23600712418556213 Accuracy: 86.71875\n",
      "Epoch: 11 Loss: 0.2516993284225464 Accuracy: 83.59375\n",
      "Epoch: 12 Loss: 0.2738135755062103 Accuracy: 80.46875\n",
      "Epoch: 13 Loss: 0.21624425053596497 Accuracy: 88.28125\n",
      "Epoch: 14 Loss: 0.22382351756095886 Accuracy: 84.375\n",
      "Epoch: 15 Loss: 0.29099106788635254 Accuracy: 80.46875\n",
      "Epoch: 16 Loss: 0.22866110503673553 Accuracy: 86.71875\n",
      "Epoch: 17 Loss: 0.24393053352832794 Accuracy: 79.6875\n",
      "Epoch: 18 Loss: 0.22331933677196503 Accuracy: 85.15625\n",
      "Epoch: 19 Loss: 0.18983852863311768 Accuracy: 83.59375\n",
      "Epoch: 20 Loss: 0.1982002705335617 Accuracy: 83.59375\n",
      "Epoch: 21 Loss: 0.2795400619506836 Accuracy: 85.15625\n",
      "Epoch: 22 Loss: 0.20566721260547638 Accuracy: 87.5\n",
      "Epoch: 23 Loss: 0.19598543643951416 Accuracy: 82.03125\n",
      "Epoch: 24 Loss: 0.16655340790748596 Accuracy: 85.15625\n",
      "Epoch: 25 Loss: 0.20098277926445007 Accuracy: 85.15625\n",
      "Epoch: 26 Loss: 0.1704641878604889 Accuracy: 85.9375\n",
      "Epoch: 27 Loss: 0.14496883749961853 Accuracy: 91.40625\n",
      "Epoch: 28 Loss: 0.18617942929267883 Accuracy: 89.0625\n",
      "Epoch: 29 Loss: 0.16198155283927917 Accuracy: 84.375\n",
      "Epoch: 30 Loss: 0.263420969247818 Accuracy: 85.15625\n",
      "Epoch: 31 Loss: 0.19892948865890503 Accuracy: 86.71875\n",
      "Epoch: 32 Loss: 0.13405656814575195 Accuracy: 93.75\n",
      "Epoch: 33 Loss: 0.3273349404335022 Accuracy: 78.125\n",
      "Epoch: 34 Loss: 0.23401400446891785 Accuracy: 82.8125\n",
      "Epoch: 35 Loss: 0.19593480229377747 Accuracy: 88.28125\n",
      "Epoch: 36 Loss: 0.18072929978370667 Accuracy: 89.0625\n",
      "Epoch: 37 Loss: 0.22714301943778992 Accuracy: 84.375\n",
      "Epoch: 38 Loss: 0.1928097903728485 Accuracy: 82.03125\n",
      "Epoch: 39 Loss: 0.19032275676727295 Accuracy: 85.15625\n",
      "Epoch: 40 Loss: 0.14572066068649292 Accuracy: 88.28125\n",
      "Epoch: 41 Loss: 0.1665055751800537 Accuracy: 83.59375\n",
      "Epoch: 42 Loss: 0.13415609300136566 Accuracy: 91.40625\n",
      "Epoch: 43 Loss: 0.15208664536476135 Accuracy: 85.9375\n",
      "Epoch: 44 Loss: 0.15534988045692444 Accuracy: 84.375\n",
      "Epoch: 45 Loss: 0.1429034173488617 Accuracy: 90.625\n",
      "Epoch: 46 Loss: 0.12471369653940201 Accuracy: 87.5\n",
      "Epoch: 47 Loss: 0.16836681962013245 Accuracy: 84.375\n",
      "Epoch: 48 Loss: 0.16401290893554688 Accuracy: 87.5\n",
      "Epoch: 49 Loss: 0.15143874287605286 Accuracy: 87.5\n"
     ]
    }
   ],
   "source": [
    "coefficients = solver.fit(optimizer, epochs=50)"
   ]
  },
  {
   "cell_type": "code",
   "execution_count": 19,
   "metadata": {},
   "outputs": [
    {
     "name": "stdout",
     "output_type": "stream",
     "text": [
      "Accuracy: 88.74666666666667\n"
     ]
    },
    {
     "data": {
      "text/plain": [
       "88.74666666666667"
      ]
     },
     "execution_count": 19,
     "metadata": {},
     "output_type": "execute_result"
    }
   ],
   "source": [
    "solver.classification_score(test_proj, test_labels_bin)"
   ]
  },
  {
   "cell_type": "markdown",
   "metadata": {},
   "source": [
    "### 100K Features"
   ]
  },
  {
   "cell_type": "code",
   "execution_count": 30,
   "metadata": {},
   "outputs": [],
   "source": [
    "optimizer = torch.optim.Adam(solver.model.parameters(), lr=1e-5)"
   ]
  },
  {
   "cell_type": "code",
   "execution_count": 31,
   "metadata": {},
   "outputs": [
    {
     "name": "stdout",
     "output_type": "stream",
     "text": [
      "Epoch: 0 Loss: 35.02031326293945 Accuracy: 21.09375\n",
      "Epoch: 1 Loss: 1.1676433086395264 Accuracy: 54.6875\n",
      "Epoch: 2 Loss: 0.6797206401824951 Accuracy: 66.40625\n",
      "Epoch: 3 Loss: 0.5919178128242493 Accuracy: 66.40625\n",
      "Epoch: 4 Loss: 0.5301603078842163 Accuracy: 67.96875\n",
      "Epoch: 5 Loss: 0.4421910345554352 Accuracy: 79.6875\n",
      "Epoch: 6 Loss: 0.4331490397453308 Accuracy: 68.75\n",
      "Epoch: 7 Loss: 0.34248507022857666 Accuracy: 78.125\n",
      "Epoch: 8 Loss: 0.33059290051460266 Accuracy: 74.21875\n",
      "Epoch: 9 Loss: 0.37924784421920776 Accuracy: 74.21875\n",
      "Epoch: 10 Loss: 0.2868381440639496 Accuracy: 81.25\n",
      "Epoch: 11 Loss: 0.2873137593269348 Accuracy: 80.46875\n",
      "Epoch: 12 Loss: 0.2708255350589752 Accuracy: 80.46875\n",
      "Epoch: 13 Loss: 0.3619306683540344 Accuracy: 74.21875\n",
      "Epoch: 14 Loss: 0.2695775032043457 Accuracy: 82.8125\n",
      "Epoch: 15 Loss: 0.36703965067863464 Accuracy: 64.0625\n",
      "Epoch: 16 Loss: 0.25032204389572144 Accuracy: 84.375\n",
      "Epoch: 17 Loss: 0.22382381558418274 Accuracy: 84.375\n",
      "Epoch: 18 Loss: 0.25698143243789673 Accuracy: 82.03125\n",
      "Epoch: 19 Loss: 0.29703855514526367 Accuracy: 80.46875\n",
      "Epoch: 20 Loss: 0.2865685522556305 Accuracy: 83.59375\n",
      "Epoch: 21 Loss: 0.29962748289108276 Accuracy: 86.71875\n",
      "Epoch: 22 Loss: 0.2418598234653473 Accuracy: 81.25\n",
      "Epoch: 23 Loss: 0.23740451037883759 Accuracy: 85.15625\n",
      "Epoch: 24 Loss: 0.24799759685993195 Accuracy: 83.59375\n",
      "Epoch: 25 Loss: 0.21698689460754395 Accuracy: 85.9375\n",
      "Epoch: 26 Loss: 0.2209160327911377 Accuracy: 88.28125\n",
      "Epoch: 27 Loss: 0.22288620471954346 Accuracy: 85.9375\n",
      "Epoch: 28 Loss: 0.1753576099872589 Accuracy: 93.75\n",
      "Epoch: 29 Loss: 0.28975796699523926 Accuracy: 81.25\n",
      "Epoch: 30 Loss: 0.2035006582736969 Accuracy: 90.625\n",
      "Epoch: 31 Loss: 0.159262016415596 Accuracy: 88.28125\n",
      "Epoch: 32 Loss: 0.22953160107135773 Accuracy: 88.28125\n",
      "Epoch: 33 Loss: 0.1768016368150711 Accuracy: 86.71875\n",
      "Epoch: 34 Loss: 0.17492318153381348 Accuracy: 87.5\n",
      "Epoch: 35 Loss: 0.23881983757019043 Accuracy: 88.28125\n",
      "Epoch: 36 Loss: 0.17523375153541565 Accuracy: 89.0625\n",
      "Epoch: 37 Loss: 0.19016648828983307 Accuracy: 88.28125\n",
      "Epoch: 38 Loss: 0.23858149349689484 Accuracy: 79.6875\n",
      "Epoch: 39 Loss: 0.18865284323692322 Accuracy: 90.625\n",
      "Epoch: 40 Loss: 0.22793233394622803 Accuracy: 84.375\n",
      "Epoch: 41 Loss: 0.17270582914352417 Accuracy: 87.5\n",
      "Epoch: 42 Loss: 0.16300222277641296 Accuracy: 92.1875\n",
      "Epoch: 43 Loss: 0.1691119223833084 Accuracy: 90.625\n",
      "Epoch: 44 Loss: 0.18986353278160095 Accuracy: 85.15625\n",
      "Epoch: 45 Loss: 0.17580075562000275 Accuracy: 89.0625\n",
      "Epoch: 46 Loss: 0.1642162948846817 Accuracy: 91.40625\n",
      "Epoch: 47 Loss: 0.14893865585327148 Accuracy: 94.53125\n",
      "Epoch: 48 Loss: 0.24034428596496582 Accuracy: 85.9375\n",
      "Epoch: 49 Loss: 0.19552338123321533 Accuracy: 89.0625\n"
     ]
    }
   ],
   "source": [
    "coefficients = solver.fit(optimizer, epochs=50)"
   ]
  },
  {
   "cell_type": "code",
   "execution_count": 32,
   "metadata": {},
   "outputs": [
    {
     "name": "stdout",
     "output_type": "stream",
     "text": [
      "Accuracy: 91.075\n"
     ]
    },
    {
     "data": {
      "text/plain": [
       "91.075"
      ]
     },
     "execution_count": 32,
     "metadata": {},
     "output_type": "execute_result"
    }
   ],
   "source": [
    "solver.classification_score(test_proj, test_labels_bin)"
   ]
  },
  {
   "cell_type": "code",
   "execution_count": null,
   "metadata": {},
   "outputs": [],
   "source": []
  }
 ],
 "metadata": {
  "kernelspec": {
   "display_name": "Python 3",
   "language": "python",
   "name": "python3"
  },
  "language_info": {
   "codemirror_mode": {
    "name": "ipython",
    "version": 3
   },
   "file_extension": ".py",
   "mimetype": "text/x-python",
   "name": "python",
   "nbconvert_exporter": "python",
   "pygments_lexer": "ipython3",
   "version": "3.5.2"
  }
 },
 "nbformat": 4,
 "nbformat_minor": 4
}
