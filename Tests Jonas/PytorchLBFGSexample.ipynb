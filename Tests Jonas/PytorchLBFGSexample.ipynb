{
 "cells": [
  {
   "cell_type": "code",
   "execution_count": 1,
   "metadata": {},
   "outputs": [],
   "source": [
    "import numpy as np\n",
    "import matplotlib.pyplot as plt\n",
    "import seaborn\n",
    "from time import time\n",
    "%matplotlib inline\n",
    "seaborn.set()"
   ]
  },
  {
   "cell_type": "code",
   "execution_count": 2,
   "metadata": {},
   "outputs": [],
   "source": [
    "n, d = 500, 1000\n",
    "X = np.random.randn(n, d)\n",
    "y = np.random.randn(n, 1)  # y needs to be of dimension (n, 1), not (n, )"
   ]
  },
  {
   "cell_type": "code",
   "execution_count": 3,
   "metadata": {},
   "outputs": [],
   "source": [
    "import torch\n",
    "from torch.autograd import Variable\n",
    "from torch.nn import Linear, Module, MSELoss\n",
    "from torch.optim import LBFGS\n",
    "\n",
    "class LinearRegressionModel(torch.nn.Module):\n",
    "    def __init__(self, d=100):\n",
    "        super(LinearRegressionModel, self).__init__()\n",
    "        self.fc = Linear(d, 1)\n",
    "    \n",
    "    def forward(self, x):\n",
    "        x = self.fc(x)\n",
    "        return x"
   ]
  },
  {
   "cell_type": "code",
   "execution_count": 7,
   "metadata": {},
   "outputs": [],
   "source": [
    "X_t = torch.FloatTensor(X)\n",
    "y_t = torch.FloatTensor(y)\n",
    "\n",
    "model = LinearRegressionModel(d=d)  # dimension = number of parameters\n",
    "# define criterion - loss function\n",
    "criterion = MSELoss()\n",
    "# define optimizer\n",
    "optimizer = LBFGS(model.parameters(), max_iter=100, history_size=10)  # change here iteratation number and history size"
   ]
  },
  {
   "cell_type": "code",
   "execution_count": 8,
   "metadata": {},
   "outputs": [],
   "source": [
    "# define model and gradient descent\n",
    "def closure():\n",
    "    Y_pred = model(Variable(X_t))\n",
    "    loss = criterion(Y_pred, Variable(y_t))\n",
    "    epoch_loss = loss.data\n",
    "    optimizer.zero_grad()\n",
    "    loss.backward()\n",
    "    return loss\n",
    "optimizer.step(closure)\n",
    "output_w = np.array(model.fc.weight.data)"
   ]
  },
  {
   "cell_type": "code",
   "execution_count": 9,
   "metadata": {},
   "outputs": [
    {
     "name": "stdout",
     "output_type": "stream",
     "text": [
      "Relative error: 0.004284457195612265\n"
     ]
    }
   ],
   "source": [
    "y_est = X @ output_w.T\n",
    "print(f\"Relative error: {np.linalg.norm(y_est-y) / np.linalg.norm(y)}\")"
   ]
  },
  {
   "cell_type": "code",
   "execution_count": null,
   "metadata": {},
   "outputs": [],
   "source": [
    "# Send it to GPU (this code has NOT been tested)\n",
    "\n",
    "X_t = torch.FloatTensor(X).cuda()\n",
    "y_t = torch.FloatTensor(y).cuda()\n",
    "\n",
    "model = LinearRegressionModel(d=d)  # dimension = number of parameters\n",
    "model.cuda()\n",
    "# define criterion - loss function\n",
    "criterion = MSELoss()\n",
    "# define optimizer\n",
    "optimizer = LBFGS(model.parameters(), max_iter=100, history_size=10)  # change here iteratation number and history size\n",
    "\n",
    "# define model and gradient descent\n",
    "def closure():\n",
    "    Y_pred = model(Variable(X_t))\n",
    "    loss = criterion(Y_pred, Variable(y_t))\n",
    "    epoch_loss = loss.data\n",
    "    optimizer.zero_grad()\n",
    "    loss.backward()\n",
    "    return loss\n",
    "optimizer.step(closure)\n",
    "output_w = np.array(model.fc.weight.data)"
   ]
  }
 ],
 "metadata": {
  "kernelspec": {
   "display_name": "Python 3",
   "language": "python",
   "name": "python3"
  },
  "language_info": {
   "codemirror_mode": {
    "name": "ipython",
    "version": 3
   },
   "file_extension": ".py",
   "mimetype": "text/x-python",
   "name": "python",
   "nbconvert_exporter": "python",
   "pygments_lexer": "ipython3",
   "version": "3.6.6"
  }
 },
 "nbformat": 4,
 "nbformat_minor": 2
}
