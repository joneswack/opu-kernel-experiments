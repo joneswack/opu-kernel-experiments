{
 "cells": [
  {
   "cell_type": "code",
   "execution_count": 1,
   "metadata": {},
   "outputs": [],
   "source": [
    "# Support for maths\n",
    "import numpy as np\n",
    "# Plotting tools\n",
    "from matplotlib import pyplot as plt\n",
    "from sklearn.preprocessing import LabelBinarizer\n",
    "# we use the following for plotting figures in jupyter\n",
    "%matplotlib inline\n",
    "\n",
    "import warnings\n",
    "warnings.filterwarnings('ignore')\n",
    "\n",
    "import time"
   ]
  },
  {
   "cell_type": "code",
   "execution_count": 2,
   "metadata": {},
   "outputs": [],
   "source": [
    "import gpflow as gpf\n",
    "\n",
    "# import gpflow.multioutput.kernels as mk\n",
    "# import gpflow.multioutput.features as mf\n",
    "\n",
    "MAXITER = gpf.test_util.notebook_niter(15000)"
   ]
  },
  {
   "cell_type": "code",
   "execution_count": 3,
   "metadata": {},
   "outputs": [],
   "source": [
    "import os\n",
    "os.environ[\"CUDA_VISIBLE_DEVICES\"]=\"1\""
   ]
  },
  {
   "cell_type": "markdown",
   "metadata": {},
   "source": [
    "## Load Data"
   ]
  },
  {
   "cell_type": "code",
   "execution_count": 4,
   "metadata": {},
   "outputs": [],
   "source": [
    "N = 60000"
   ]
  },
  {
   "cell_type": "code",
   "execution_count": 5,
   "metadata": {},
   "outputs": [],
   "source": [
    "# (train_data, train_labels), (test_data, test_labels) = FashionMNIST()\n",
    "\n",
    "train_data = np.load('../../datasets/export/fashion_mnist/numpy/train_data_fashion_mnist.npy').astype('uint8')\n",
    "test_data = np.load('../../datasets/export/fashion_mnist/numpy/test_data_fashion_mnist.npy').astype('uint8')\n",
    "train_labels = np.load('../../datasets/export/fashion_mnist/numpy/train_targets_fashion_mnist.npy').astype('uint8')\n",
    "test_labels = np.load('../../datasets/export/fashion_mnist/numpy/test_targets_fashion_mnist.npy').astype('uint8')\n",
    "\n",
    "# Convert one-hot to integers\n",
    "train_labels = np.argmax(train_labels, axis=1)[:N]\n",
    "test_labels = np.argmax(test_labels, axis=1)\n",
    "\n",
    "D = train_data[0].reshape(-1).shape[0]\n",
    "\n",
    "# Flatten the images\n",
    "train_data = train_data.reshape(-1, D)[:N]\n",
    "test_data = test_data.reshape(-1, D)"
   ]
  },
  {
   "cell_type": "code",
   "execution_count": 6,
   "metadata": {},
   "outputs": [],
   "source": [
    "def threshold_binarize(data, threshold):\n",
    "    data_bin = np.where(data>threshold, 1, 0).astype('uint8')\n",
    "    return data_bin"
   ]
  },
  {
   "cell_type": "code",
   "execution_count": 7,
   "metadata": {},
   "outputs": [],
   "source": [
    "# fashion mnist has values between 0 and 255\n",
    "threshold = 10\n",
    "\n",
    "train_data_bin = threshold_binarize(train_data, threshold).astype('float64')\n",
    "test_data_bin = threshold_binarize(test_data, threshold).astype('float64')"
   ]
  },
  {
   "cell_type": "code",
   "execution_count": 8,
   "metadata": {},
   "outputs": [],
   "source": [
    "# like one-hot encoding with 0 corresponding to -1\n",
    "label_binarizer = LabelBinarizer(pos_label=1, neg_label=-1)\n",
    "train_labels_bin = label_binarizer.fit_transform(train_labels).astype('float64')\n",
    "test_labels_bin = label_binarizer.fit_transform(test_labels).astype('float64')"
   ]
  },
  {
   "cell_type": "code",
   "execution_count": 12,
   "metadata": {},
   "outputs": [],
   "source": [
    "# custom_config = gpf.settings.get_settings()"
   ]
  },
  {
   "cell_type": "code",
   "execution_count": 14,
   "metadata": {},
   "outputs": [],
   "source": [
    "# custom_config.float_type = 'float32'"
   ]
  },
  {
   "cell_type": "markdown",
   "metadata": {},
   "source": [
    "## Debug"
   ]
  },
  {
   "cell_type": "code",
   "execution_count": 64,
   "metadata": {},
   "outputs": [],
   "source": [
    "# create multioutput kernel\n",
    "kernel = mk.SharedIndependentMok(gpf.kernels.RBF(784), output_dimensionality=10) # maybe add the white noise kernel \n",
    "# initialisation of inducing input locations (M random points from the training inputs)\n",
    "Z = train_data_bin[:M,...].copy() \n",
    "# create multioutput features from Z\n",
    "feature = mf.SharedIndependentMof(gpf.features.InducingPoints(Z)) "
   ]
  },
  {
   "cell_type": "markdown",
   "metadata": {},
   "source": [
    "## Own Kernel"
   ]
  },
  {
   "cell_type": "code",
   "execution_count": 9,
   "metadata": {},
   "outputs": [],
   "source": [
    "import tensorflow as tf\n",
    "\n",
    "class OPUKernel(gpf.kernels.Kernel):\n",
    "    def __init__(self, input_dim):\n",
    "        super().__init__(input_dim=1, active_dims=None)\n",
    "        self.poly_kernel = gpf.kernels.Polynomial(input_dim, degree=2.0, variance=1.0, offset=0, active_dims=None, ARD=False)\n",
    "        self.poly_kernel.variance.trainable = False\n",
    "        self.poly_kernel.offset.trainable = False\n",
    "        self.variance = gpf.Param(1.0, transform=gpf.transforms.positive)\n",
    "        self.dummy = gpf.Param(0.0, transform=gpf.transforms.positive)\n",
    "\n",
    "    def K(self, X, X2=None):\n",
    "        if X2 is None:\n",
    "            X2 = X\n",
    "            \n",
    "        print('X', X.shape)\n",
    "        print('X2', X2.shape)\n",
    "        \n",
    "        self.poly_kernel.offset = self.dummy\n",
    "        kernel = self.poly_kernel.K(X, X2=X2)\n",
    "        \n",
    "        print('Kernel', kernel.shape)\n",
    "        \n",
    "        norm_x_sq = tf.square(tf.norm(X, ord='euclidean', axis=1, keepdims=True) + self.dummy)\n",
    "        norm_y_sq = tf.square(tf.norm(X2, ord='euclidean', axis=1, keepdims=True) + self.dummy)\n",
    "        \n",
    "        print('Norm x', norm_x_sq.shape)\n",
    "        print('Norm y', tf.transpose(norm_y_sq).shape)\n",
    "        \n",
    "        kernel += tf.matmul(norm_x_sq, tf.transpose(norm_y_sq))\n",
    "        \n",
    "        print(kernel.shape)\n",
    "        \n",
    "        return self.variance * kernel\n",
    "\n",
    "    def Kdiag(self, X):\n",
    "        self.poly_kernel.offset = self.dummy\n",
    "        kernel = self.poly_kernel.Kdiag(X)\n",
    "        kernel += tf.square(tf.reduce_sum(tf.square(X), -1) + self.dummy)\n",
    "        \n",
    "        return self.variance * kernel"
   ]
  },
  {
   "cell_type": "markdown",
   "metadata": {},
   "source": [
    "## SGVP"
   ]
  },
  {
   "cell_type": "code",
   "execution_count": 10,
   "metadata": {},
   "outputs": [],
   "source": [
    "M = 500"
   ]
  },
  {
   "cell_type": "code",
   "execution_count": 11,
   "metadata": {},
   "outputs": [
    {
     "data": {
      "text/plain": [
       "MiniBatchKMeans(batch_size=1000, compute_labels=True, init='k-means++',\n",
       "        init_size=None, max_iter=100, max_no_improvement=10,\n",
       "        n_clusters=500, n_init=3, random_state=0, reassignment_ratio=0.01,\n",
       "        tol=0.0, verbose=0)"
      ]
     },
     "execution_count": 11,
     "metadata": {},
     "output_type": "execute_result"
    }
   ],
   "source": [
    "from sklearn.cluster import MiniBatchKMeans\n",
    "# manually fit on batches\n",
    "kmeans = MiniBatchKMeans(n_clusters=M, random_state=0, batch_size=1000)\n",
    "kmeans.fit(train_data_bin)"
   ]
  },
  {
   "cell_type": "code",
   "execution_count": 16,
   "metadata": {},
   "outputs": [],
   "source": [
    "Z =  kmeans.cluster_centers_"
   ]
  },
  {
   "cell_type": "code",
   "execution_count": 96,
   "metadata": {},
   "outputs": [
    {
     "data": {
      "text/plain": [
       "(500, 784)"
      ]
     },
     "execution_count": 96,
     "metadata": {},
     "output_type": "execute_result"
    }
   ],
   "source": [
    "Z.shape"
   ]
  },
  {
   "cell_type": "code",
   "execution_count": 10,
   "metadata": {},
   "outputs": [],
   "source": [
    "M = 500\n",
    "Z = train_data_bin[:M]"
   ]
  },
  {
   "cell_type": "code",
   "execution_count": 11,
   "metadata": {},
   "outputs": [],
   "source": [
    "gpf.reset_default_graph_and_session()"
   ]
  },
  {
   "cell_type": "code",
   "execution_count": 57,
   "metadata": {},
   "outputs": [],
   "source": [
    "kernel = gpf.kernels.RBF(784, ARD=False)"
   ]
  },
  {
   "cell_type": "code",
   "execution_count": 12,
   "metadata": {},
   "outputs": [],
   "source": [
    "kernel = OPUKernel(784)"
   ]
  },
  {
   "cell_type": "code",
   "execution_count": 12,
   "metadata": {},
   "outputs": [],
   "source": [
    "kernel = gpf.kernels.Polynomial(784, ARD=False, degree=2)"
   ]
  },
  {
   "cell_type": "code",
   "execution_count": 13,
   "metadata": {},
   "outputs": [
    {
     "data": {
      "text/html": [
       "<div>\n",
       "<style scoped>\n",
       "    .dataframe tbody tr th:only-of-type {\n",
       "        vertical-align: middle;\n",
       "    }\n",
       "\n",
       "    .dataframe tbody tr th {\n",
       "        vertical-align: top;\n",
       "    }\n",
       "\n",
       "    .dataframe thead th {\n",
       "        text-align: right;\n",
       "    }\n",
       "</style>\n",
       "<table border=\"1\" class=\"dataframe\">\n",
       "  <thead>\n",
       "    <tr style=\"text-align: right;\">\n",
       "      <th></th>\n",
       "      <th>class</th>\n",
       "      <th>prior</th>\n",
       "      <th>transform</th>\n",
       "      <th>trainable</th>\n",
       "      <th>shape</th>\n",
       "      <th>fixed_shape</th>\n",
       "      <th>value</th>\n",
       "    </tr>\n",
       "  </thead>\n",
       "  <tbody>\n",
       "    <tr>\n",
       "      <th>Polynomial/offset</th>\n",
       "      <td>Parameter</td>\n",
       "      <td>None</td>\n",
       "      <td>+ve</td>\n",
       "      <td>True</td>\n",
       "      <td>()</td>\n",
       "      <td>True</td>\n",
       "      <td>1.0</td>\n",
       "    </tr>\n",
       "    <tr>\n",
       "      <th>Polynomial/variance</th>\n",
       "      <td>Parameter</td>\n",
       "      <td>None</td>\n",
       "      <td>+ve</td>\n",
       "      <td>True</td>\n",
       "      <td>()</td>\n",
       "      <td>True</td>\n",
       "      <td>1.0</td>\n",
       "    </tr>\n",
       "  </tbody>\n",
       "</table>\n",
       "</div>"
      ],
      "text/plain": [
       "                         class prior transform  trainable shape  fixed_shape  \\\n",
       "Polynomial/offset    Parameter  None       +ve       True    ()         True   \n",
       "Polynomial/variance  Parameter  None       +ve       True    ()         True   \n",
       "\n",
       "                    value  \n",
       "Polynomial/offset     1.0  \n",
       "Polynomial/variance   1.0  "
      ]
     },
     "execution_count": 13,
     "metadata": {},
     "output_type": "execute_result"
    }
   ],
   "source": [
    "kernel.as_pandas_table()"
   ]
  },
  {
   "cell_type": "code",
   "execution_count": 13,
   "metadata": {},
   "outputs": [
    {
     "name": "stdout",
     "output_type": "stream",
     "text": [
      "X (500, 784)\n",
      "X2 (500, 784)\n",
      "Kernel (500, 500)\n",
      "Norm x (500, 1)\n",
      "Norm y (1, 500)\n",
      "(500, 500)\n",
      "X (500, 784)\n",
      "X2 <unknown>\n",
      "Kernel (500, ?)\n",
      "Norm x (500, 1)\n",
      "Norm y <unknown>\n",
      "(500, ?)\n"
     ]
    }
   ],
   "source": [
    "# create SVGP model as usual and optimise\n",
    "\n",
    "m = gpf.models.SVGP(\n",
    "        train_data_bin,\n",
    "        train_labels_bin,\n",
    "        kernel,\n",
    "        gpf.likelihoods.Gaussian(),\n",
    "        Z.copy(),\n",
    "        minibatch_size=60000,\n",
    "        whiten=True\n",
    ") \n",
    "\n",
    "# opt = gpf.train.ScipyOptimizer()\n",
    "# opt.minimize(m, disp=True, maxiter=MAXITER)"
   ]
  },
  {
   "cell_type": "code",
   "execution_count": 126,
   "metadata": {},
   "outputs": [],
   "source": [
    "minibatch_size = 100\n",
    "ground_truth = m.compute_log_likelihood()\n",
    "m.X.set_batch_size(minibatch_size)\n",
    "m.Y.set_batch_size(minibatch_size)"
   ]
  },
  {
   "cell_type": "code",
   "execution_count": 81,
   "metadata": {},
   "outputs": [],
   "source": [
    "evals = [m.compute_log_likelihood() for _ in range(100)]"
   ]
  },
  {
   "cell_type": "code",
   "execution_count": 82,
   "metadata": {},
   "outputs": [
    {
     "data": {
      "image/png": "[encoded data removed]",
      "text/plain": [
       "<Figure size 432x288 with 1 Axes>"
      ]
     },
     "metadata": {
      "needs_background": "light"
     },
     "output_type": "display_data"
    }
   ],
   "source": [
    "plt.hist(evals, label='Minibatch Estimations')\n",
    "plt.axvline(ground_truth, c='k', label='Ground Truth')\n",
    "plt.legend()\n",
    "plt.title('Histogram of ELBO evaluations using minibatches');"
   ]
  },
  {
   "cell_type": "code",
   "execution_count": 76,
   "metadata": {},
   "outputs": [
    {
     "data": {
      "text/html": [
       "<div>\n",
       "<style scoped>\n",
       "    .dataframe tbody tr th:only-of-type {\n",
       "        vertical-align: middle;\n",
       "    }\n",
       "\n",
       "    .dataframe tbody tr th {\n",
       "        vertical-align: top;\n",
       "    }\n",
       "\n",
       "    .dataframe thead th {\n",
       "        text-align: right;\n",
       "    }\n",
       "</style>\n",
       "<table border=\"1\" class=\"dataframe\">\n",
       "  <thead>\n",
       "    <tr style=\"text-align: right;\">\n",
       "      <th></th>\n",
       "      <th>class</th>\n",
       "      <th>prior</th>\n",
       "      <th>transform</th>\n",
       "      <th>trainable</th>\n",
       "      <th>shape</th>\n",
       "      <th>fixed_shape</th>\n",
       "      <th>value</th>\n",
       "    </tr>\n",
       "  </thead>\n",
       "  <tbody>\n",
       "    <tr>\n",
       "      <td>SVGP/feature/Z</td>\n",
       "      <td>Parameter</td>\n",
       "      <td>None</td>\n",
       "      <td>(none)</td>\n",
       "      <td>True</td>\n",
       "      <td>(244, 784)</td>\n",
       "      <td>True</td>\n",
       "      <td>[[0.0, 0.0, -2.726637349854944e-140, -2.686843...</td>\n",
       "    </tr>\n",
       "    <tr>\n",
       "      <td>SVGP/kern/lengthscales</td>\n",
       "      <td>Parameter</td>\n",
       "      <td>None</td>\n",
       "      <td>+ve</td>\n",
       "      <td>True</td>\n",
       "      <td>()</td>\n",
       "      <td>True</td>\n",
       "      <td>0.9999974716903142</td>\n",
       "    </tr>\n",
       "    <tr>\n",
       "      <td>SVGP/kern/variance</td>\n",
       "      <td>Parameter</td>\n",
       "      <td>None</td>\n",
       "      <td>+ve</td>\n",
       "      <td>True</td>\n",
       "      <td>()</td>\n",
       "      <td>True</td>\n",
       "      <td>1.0065795331188931e-06</td>\n",
       "    </tr>\n",
       "    <tr>\n",
       "      <td>SVGP/likelihood/variance</td>\n",
       "      <td>Parameter</td>\n",
       "      <td>None</td>\n",
       "      <td>+ve</td>\n",
       "      <td>True</td>\n",
       "      <td>()</td>\n",
       "      <td>True</td>\n",
       "      <td>0.9999886907426154</td>\n",
       "    </tr>\n",
       "    <tr>\n",
       "      <td>SVGP/q_mu</td>\n",
       "      <td>Parameter</td>\n",
       "      <td>None</td>\n",
       "      <td>(none)</td>\n",
       "      <td>True</td>\n",
       "      <td>(244, 10)</td>\n",
       "      <td>True</td>\n",
       "      <td>[[-9.303859171894316e-16, -9.303859171894316e-...</td>\n",
       "    </tr>\n",
       "    <tr>\n",
       "      <td>SVGP/q_sqrt</td>\n",
       "      <td>Parameter</td>\n",
       "      <td>None</td>\n",
       "      <td>LoTri-&gt;vec</td>\n",
       "      <td>True</td>\n",
       "      <td>(10, 244, 244)</td>\n",
       "      <td>True</td>\n",
       "      <td>[[[1.0, 0.0, 0.0, 0.0, 0.0, 0.0, 0.0, 0.0, 0.0...</td>\n",
       "    </tr>\n",
       "  </tbody>\n",
       "</table>\n",
       "</div>"
      ],
      "text/plain": [
       "<gpflow.models.svgp.SVGP at 0x7f7577fa6d10>"
      ]
     },
     "execution_count": 76,
     "metadata": {},
     "output_type": "execute_result"
    }
   ],
   "source": [
    "m"
   ]
  },
  {
   "cell_type": "code",
   "execution_count": 14,
   "metadata": {},
   "outputs": [],
   "source": [
    "class Logger(gpf.actions.Action):\n",
    "    def __init__(self, model):\n",
    "        self.model = model\n",
    "        self.logf = []\n",
    "        \n",
    "    def run(self, ctx):\n",
    "        if (ctx.iteration % 10) == 0:\n",
    "            # Extract likelihood tensor from Tensorflow session\n",
    "            likelihood = - ctx.session.run(self.model.likelihood_tensor)\n",
    "            # Append likelihood value to list\n",
    "            self.logf.append(likelihood)\n",
    "            \n",
    "            print('Iteration {}'.format(ctx.iteration), '-Likelihood: {}'.format(likelihood))"
   ]
  },
  {
   "cell_type": "code",
   "execution_count": 15,
   "metadata": {},
   "outputs": [],
   "source": [
    "minibatch_size = 500\n",
    "m.X.set_batch_size(minibatch_size)\n",
    "m.Y.set_batch_size(minibatch_size)\n",
    "\n",
    "# We turn of training for inducing point locations\n",
    "m.feature.trainable = True\n",
    "\n",
    "def run_adam(model, iterations):\n",
    "    \"\"\"\n",
    "    Utility function running the Adam Optimiser interleaved with a `Logger` action.\n",
    "    \n",
    "    :param model: GPflow model\n",
    "    :param interations: number of iterations\n",
    "    \"\"\"\n",
    "    # Create an Adam Optimiser action\n",
    "    adam = gpf.train.AdamOptimizer(learning_rate=0.001).make_optimize_action(model)\n",
    "    # adam = gpf.train.ScipyOptimizer(method='L-BFGS-B').minimize(model)\n",
    "    # Create a Logger action\n",
    "    logger = Logger(model)\n",
    "    actions = [adam, logger]\n",
    "    # Create optimisation loop that interleaves Adam with Logger\n",
    "    loop = gpf.actions.Loop(actions, stop=iterations)()\n",
    "    # Bind current TF session to model\n",
    "    model.anchor(model.enquire_session())\n",
    "    return logger"
   ]
  },
  {
   "cell_type": "code",
   "execution_count": 16,
   "metadata": {},
   "outputs": [
    {
     "name": "stdout",
     "output_type": "stream",
     "text": [
      "INFO:tensorflow:Optimization terminated with:\n",
      "  Message: b'CONVERGENCE: REL_REDUCTION_OF_F_<=_FACTR*EPSMCH'\n",
      "  Objective function value: 434241.142739\n",
      "  Number of iterations: 37\n",
      "  Number of functions evaluations: 46\n"
     ]
    },
    {
     "name": "stderr",
     "output_type": "stream",
     "text": [
      "INFO:tensorflow:Optimization terminated with:\n",
      "  Message: b'CONVERGENCE: REL_REDUCTION_OF_F_<=_FACTR*EPSMCH'\n",
      "  Objective function value: 434241.142739\n",
      "  Number of iterations: 37\n",
      "  Number of functions evaluations: 46\n"
     ]
    }
   ],
   "source": [
    "gpf.train.ScipyOptimizer().minimize(m)"
   ]
  },
  {
   "cell_type": "code",
   "execution_count": 17,
   "metadata": {},
   "outputs": [
    {
     "data": {
      "text/html": [
       "<div>\n",
       "<style scoped>\n",
       "    .dataframe tbody tr th:only-of-type {\n",
       "        vertical-align: middle;\n",
       "    }\n",
       "\n",
       "    .dataframe tbody tr th {\n",
       "        vertical-align: top;\n",
       "    }\n",
       "\n",
       "    .dataframe thead th {\n",
       "        text-align: right;\n",
       "    }\n",
       "</style>\n",
       "<table border=\"1\" class=\"dataframe\">\n",
       "  <thead>\n",
       "    <tr style=\"text-align: right;\">\n",
       "      <th></th>\n",
       "      <th>class</th>\n",
       "      <th>prior</th>\n",
       "      <th>transform</th>\n",
       "      <th>trainable</th>\n",
       "      <th>shape</th>\n",
       "      <th>fixed_shape</th>\n",
       "      <th>value</th>\n",
       "    </tr>\n",
       "  </thead>\n",
       "  <tbody>\n",
       "    <tr>\n",
       "      <th>SVGP/feature/Z</th>\n",
       "      <td>Parameter</td>\n",
       "      <td>None</td>\n",
       "      <td>(none)</td>\n",
       "      <td>True</td>\n",
       "      <td>(500, 784)</td>\n",
       "      <td>True</td>\n",
       "      <td>[[0.0, -6.520679671463266e-07, -0.000169026842...</td>\n",
       "    </tr>\n",
       "    <tr>\n",
       "      <th>SVGP/kern/dummy</th>\n",
       "      <td>Parameter</td>\n",
       "      <td>None</td>\n",
       "      <td>+ve</td>\n",
       "      <td>True</td>\n",
       "      <td>()</td>\n",
       "      <td>True</td>\n",
       "      <td>1.0000000002220446e-06</td>\n",
       "    </tr>\n",
       "    <tr>\n",
       "      <th>SVGP/kern/poly_kernel/variance</th>\n",
       "      <td>Parameter</td>\n",
       "      <td>None</td>\n",
       "      <td>+ve</td>\n",
       "      <td>False</td>\n",
       "      <td>()</td>\n",
       "      <td>True</td>\n",
       "      <td>1.0</td>\n",
       "    </tr>\n",
       "    <tr>\n",
       "      <th>SVGP/kern/variance</th>\n",
       "      <td>Parameter</td>\n",
       "      <td>None</td>\n",
       "      <td>+ve</td>\n",
       "      <td>True</td>\n",
       "      <td>()</td>\n",
       "      <td>True</td>\n",
       "      <td>1.0000642397246487e-06</td>\n",
       "    </tr>\n",
       "    <tr>\n",
       "      <th>SVGP/likelihood/variance</th>\n",
       "      <td>Parameter</td>\n",
       "      <td>None</td>\n",
       "      <td>+ve</td>\n",
       "      <td>True</td>\n",
       "      <td>()</td>\n",
       "      <td>True</td>\n",
       "      <td>0.2551775150291312</td>\n",
       "    </tr>\n",
       "    <tr>\n",
       "      <th>SVGP/q_mu</th>\n",
       "      <td>Parameter</td>\n",
       "      <td>None</td>\n",
       "      <td>(none)</td>\n",
       "      <td>True</td>\n",
       "      <td>(500, 10)</td>\n",
       "      <td>True</td>\n",
       "      <td>[[-2.2040289882153394, -1.961940161047706, -2....</td>\n",
       "    </tr>\n",
       "    <tr>\n",
       "      <th>SVGP/q_sqrt</th>\n",
       "      <td>Parameter</td>\n",
       "      <td>None</td>\n",
       "      <td>LoTri-&gt;vec</td>\n",
       "      <td>True</td>\n",
       "      <td>(10, 500, 500)</td>\n",
       "      <td>True</td>\n",
       "      <td>[[[0.09556229729651611, 0.0, 0.0, 0.0, 0.0, 0....</td>\n",
       "    </tr>\n",
       "  </tbody>\n",
       "</table>\n",
       "</div>"
      ],
      "text/plain": [
       "                                    class prior   transform  trainable  \\\n",
       "SVGP/feature/Z                  Parameter  None      (none)       True   \n",
       "SVGP/kern/dummy                 Parameter  None         +ve       True   \n",
       "SVGP/kern/poly_kernel/variance  Parameter  None         +ve      False   \n",
       "SVGP/kern/variance              Parameter  None         +ve       True   \n",
       "SVGP/likelihood/variance        Parameter  None         +ve       True   \n",
       "SVGP/q_mu                       Parameter  None      (none)       True   \n",
       "SVGP/q_sqrt                     Parameter  None  LoTri->vec       True   \n",
       "\n",
       "                                         shape  fixed_shape  \\\n",
       "SVGP/feature/Z                      (500, 784)         True   \n",
       "SVGP/kern/dummy                             ()         True   \n",
       "SVGP/kern/poly_kernel/variance              ()         True   \n",
       "SVGP/kern/variance                          ()         True   \n",
       "SVGP/likelihood/variance                    ()         True   \n",
       "SVGP/q_mu                            (500, 10)         True   \n",
       "SVGP/q_sqrt                     (10, 500, 500)         True   \n",
       "\n",
       "                                                                            value  \n",
       "SVGP/feature/Z                  [[0.0, -6.520679671463266e-07, -0.000169026842...  \n",
       "SVGP/kern/dummy                                            1.0000000002220446e-06  \n",
       "SVGP/kern/poly_kernel/variance                                                1.0  \n",
       "SVGP/kern/variance                                         1.0000642397246487e-06  \n",
       "SVGP/likelihood/variance                                       0.2551775150291312  \n",
       "SVGP/q_mu                       [[-2.2040289882153394, -1.961940161047706, -2....  \n",
       "SVGP/q_sqrt                     [[[0.09556229729651611, 0.0, 0.0, 0.0, 0.0, 0....  "
      ]
     },
     "execution_count": 17,
     "metadata": {},
     "output_type": "execute_result"
    }
   ],
   "source": [
    "m.as_pandas_table()"
   ]
  },
  {
   "cell_type": "code",
   "execution_count": 50,
   "metadata": {},
   "outputs": [
    {
     "name": "stdout",
     "output_type": "stream",
     "text": [
      "INFO:tensorflow:Optimization terminated with:\n",
      "  Message: b'CONVERGENCE: REL_REDUCTION_OF_F_<=_FACTR*EPSMCH'\n",
      "  Objective function value: 480185.563507\n",
      "  Number of iterations: 32\n",
      "  Number of functions evaluations: 46\n"
     ]
    },
    {
     "name": "stderr",
     "output_type": "stream",
     "text": [
      "INFO:tensorflow:Optimization terminated with:\n",
      "  Message: b'CONVERGENCE: REL_REDUCTION_OF_F_<=_FACTR*EPSMCH'\n",
      "  Objective function value: 480185.563507\n",
      "  Number of iterations: 32\n",
      "  Number of functions evaluations: 46\n"
     ]
    }
   ],
   "source": [
    "gpf.train.ScipyOptimizer().minimize(m)"
   ]
  },
  {
   "cell_type": "code",
   "execution_count": 18,
   "metadata": {},
   "outputs": [
    {
     "name": "stdout",
     "output_type": "stream",
     "text": [
      "Iteration 0 -Likelihood: 431559.88894407975\n",
      "Iteration 10 -Likelihood: 429706.6253059907\n",
      "Iteration 20 -Likelihood: 421488.9355559513\n",
      "Iteration 30 -Likelihood: 409470.8979395527\n",
      "Iteration 40 -Likelihood: 402937.3211061071\n",
      "Iteration 50 -Likelihood: 402793.79863347363\n",
      "Iteration 60 -Likelihood: 407537.99638958724\n",
      "Iteration 70 -Likelihood: 402562.05071366613\n",
      "Iteration 80 -Likelihood: 397583.6296683816\n",
      "Iteration 90 -Likelihood: 406612.2200567653\n",
      "Iteration 100 -Likelihood: 391109.39077234635\n",
      "Iteration 110 -Likelihood: 388682.9487594819\n",
      "Iteration 120 -Likelihood: 381098.3542442185\n",
      "Iteration 130 -Likelihood: 385026.99678229564\n",
      "Iteration 140 -Likelihood: 380689.680279183\n",
      "Iteration 150 -Likelihood: 371399.9792411052\n",
      "Iteration 160 -Likelihood: 369914.30915698805\n",
      "Iteration 170 -Likelihood: 370809.0997884975\n",
      "Iteration 180 -Likelihood: 380428.2700374243\n",
      "Iteration 190 -Likelihood: 370719.0052172551\n",
      "Iteration 200 -Likelihood: 358575.9692635073\n",
      "Iteration 210 -Likelihood: 365071.0872799319\n",
      "Iteration 220 -Likelihood: 360650.9889091166\n",
      "Iteration 230 -Likelihood: 360172.700604444\n",
      "Iteration 240 -Likelihood: 355564.6521953976\n",
      "Iteration 250 -Likelihood: 343081.76386114734\n",
      "Iteration 260 -Likelihood: 336425.843007841\n",
      "Iteration 270 -Likelihood: 366863.2418662186\n",
      "Iteration 280 -Likelihood: 345229.676822372\n",
      "Iteration 290 -Likelihood: 335088.091544595\n",
      "Iteration 300 -Likelihood: 344412.57422508905\n",
      "Iteration 310 -Likelihood: 350626.7523129757\n",
      "Iteration 320 -Likelihood: 351123.54549238883\n",
      "Iteration 330 -Likelihood: 349350.86646764487\n",
      "Iteration 340 -Likelihood: 343085.5596957839\n",
      "Iteration 350 -Likelihood: 329103.91267742007\n",
      "Iteration 360 -Likelihood: 329872.2608282473\n",
      "Iteration 370 -Likelihood: 338215.1244243349\n",
      "Iteration 380 -Likelihood: 330834.92139219766\n",
      "Iteration 390 -Likelihood: 336554.9097657684\n",
      "Iteration 400 -Likelihood: 335875.04756510764\n",
      "Iteration 410 -Likelihood: 328304.5673154323\n",
      "Iteration 420 -Likelihood: 319837.84248632076\n",
      "Iteration 430 -Likelihood: 322298.10078877973\n",
      "Iteration 440 -Likelihood: 320521.0683117921\n",
      "Iteration 450 -Likelihood: 325129.3964444432\n",
      "Iteration 460 -Likelihood: 311648.17382141936\n",
      "Iteration 470 -Likelihood: 314264.7643407144\n",
      "Iteration 480 -Likelihood: 302034.18613072444\n",
      "Iteration 490 -Likelihood: 298327.03277591476\n",
      "Iteration 500 -Likelihood: 319600.7747109845\n",
      "Iteration 510 -Likelihood: 303358.120757068\n",
      "Iteration 520 -Likelihood: 298877.8488984148\n",
      "Iteration 530 -Likelihood: 303220.8713803425\n",
      "Iteration 540 -Likelihood: 279517.2243778033\n",
      "Iteration 550 -Likelihood: 311148.1243445699\n",
      "Iteration 560 -Likelihood: 299901.71897650696\n",
      "Iteration 570 -Likelihood: 295403.9543880954\n",
      "Iteration 580 -Likelihood: 291740.8227162087\n",
      "Iteration 590 -Likelihood: 306274.1196188222\n",
      "Iteration 600 -Likelihood: 291625.8956068394\n",
      "Iteration 610 -Likelihood: 286065.34878153517\n",
      "Iteration 620 -Likelihood: 295480.9622982085\n",
      "Iteration 630 -Likelihood: 307525.0628946159\n",
      "Iteration 640 -Likelihood: 295663.565990039\n",
      "Iteration 650 -Likelihood: 279909.7812481681\n",
      "Iteration 660 -Likelihood: 288099.361533224\n",
      "Iteration 670 -Likelihood: 285540.720924657\n",
      "Iteration 680 -Likelihood: 274055.48083528766\n",
      "Iteration 690 -Likelihood: 287420.66810554086\n",
      "Iteration 700 -Likelihood: 256825.62463579228\n",
      "Iteration 710 -Likelihood: 297416.97191354993\n",
      "Iteration 720 -Likelihood: 242522.5255969716\n",
      "Iteration 730 -Likelihood: 270770.2041665439\n",
      "Iteration 740 -Likelihood: 253495.71278297863\n",
      "Iteration 750 -Likelihood: 273210.19351146324\n",
      "Iteration 760 -Likelihood: 280209.2930822513\n",
      "Iteration 770 -Likelihood: 278697.2797991742\n",
      "Iteration 780 -Likelihood: 277172.48442376254\n",
      "Iteration 790 -Likelihood: 268692.180485687\n",
      "Iteration 800 -Likelihood: 266166.7971089605\n",
      "Iteration 810 -Likelihood: 294388.53559991\n",
      "Iteration 820 -Likelihood: 276065.011776984\n",
      "Iteration 830 -Likelihood: 278024.6843476503\n",
      "Iteration 840 -Likelihood: 272361.57085632015\n",
      "Iteration 850 -Likelihood: 279288.4636664116\n",
      "Iteration 860 -Likelihood: 264662.7152900813\n",
      "Iteration 870 -Likelihood: 257378.9070151454\n",
      "Iteration 880 -Likelihood: 263074.36515664496\n",
      "Iteration 890 -Likelihood: 266340.8594813614\n",
      "Iteration 900 -Likelihood: 259855.26235809812\n",
      "Iteration 910 -Likelihood: 247374.44257996423\n",
      "Iteration 920 -Likelihood: 253473.70589736\n",
      "Iteration 930 -Likelihood: 272790.30671494314\n",
      "Iteration 940 -Likelihood: 273235.3064496468\n",
      "Iteration 950 -Likelihood: 248271.8538684353\n",
      "Iteration 960 -Likelihood: 248503.78784131055\n",
      "Iteration 970 -Likelihood: 243005.74498060602\n",
      "Iteration 980 -Likelihood: 259351.51629091965\n",
      "Iteration 990 -Likelihood: 253374.65923872983\n",
      "Iteration 1000 -Likelihood: 264706.8914348823\n",
      "Iteration 1010 -Likelihood: 241706.20880208982\n",
      "Iteration 1020 -Likelihood: 256416.53278359747\n",
      "Iteration 1030 -Likelihood: 249387.2211359174\n",
      "Iteration 1040 -Likelihood: 243793.08195797369\n",
      "Iteration 1050 -Likelihood: 244398.4397827657\n",
      "Iteration 1060 -Likelihood: 260326.9007151716\n",
      "Iteration 1070 -Likelihood: 257683.98226587632\n",
      "Iteration 1080 -Likelihood: 255886.25748384465\n",
      "Iteration 1090 -Likelihood: 254150.91117443485\n",
      "Iteration 1100 -Likelihood: 250897.84795047797\n",
      "Iteration 1110 -Likelihood: 258568.61563415913\n",
      "Iteration 1120 -Likelihood: 230484.44762275126\n",
      "Iteration 1130 -Likelihood: 256884.9277245382\n",
      "Iteration 1140 -Likelihood: 241306.45637696274\n",
      "Iteration 1150 -Likelihood: 242347.98885797407\n",
      "Iteration 1160 -Likelihood: 269554.6807779732\n",
      "Iteration 1170 -Likelihood: 246565.14401413623\n",
      "Iteration 1180 -Likelihood: 237655.05598090412\n",
      "Iteration 1190 -Likelihood: 243044.82975044395\n",
      "Iteration 1200 -Likelihood: 267153.8469163164\n",
      "Iteration 1210 -Likelihood: 232463.67088626127\n",
      "Iteration 1220 -Likelihood: 279712.7533421889\n",
      "Iteration 1230 -Likelihood: 228266.90423001887\n",
      "Iteration 1240 -Likelihood: 238337.38483848533\n",
      "Iteration 1250 -Likelihood: 214013.21956029793\n",
      "Iteration 1260 -Likelihood: 240249.4930767883\n",
      "Iteration 1270 -Likelihood: 241518.6155955569\n",
      "Iteration 1280 -Likelihood: 236007.4124166625\n",
      "Iteration 1290 -Likelihood: 242551.21208867469\n",
      "Iteration 1300 -Likelihood: 249906.7848285908\n",
      "Iteration 1310 -Likelihood: 225379.3883325257\n",
      "Iteration 1320 -Likelihood: 242288.86353511477\n",
      "Iteration 1330 -Likelihood: 238319.1968415751\n",
      "Iteration 1340 -Likelihood: 247327.51909253583\n",
      "Iteration 1350 -Likelihood: 241821.66807669165\n",
      "Iteration 1360 -Likelihood: 227377.34491028346\n",
      "Iteration 1370 -Likelihood: 209124.59787543194\n",
      "Iteration 1380 -Likelihood: 236905.93658577275\n",
      "Iteration 1390 -Likelihood: 244954.00361522552\n",
      "Iteration 1400 -Likelihood: 233490.35698897182\n",
      "Iteration 1410 -Likelihood: 213992.62310232822\n",
      "Iteration 1420 -Likelihood: 219419.35383863837\n",
      "Iteration 1430 -Likelihood: 216467.72145201723\n",
      "Iteration 1440 -Likelihood: 218716.73661421306\n",
      "Iteration 1450 -Likelihood: 219033.97892542847\n",
      "Iteration 1460 -Likelihood: 212549.11139091148\n",
      "Iteration 1470 -Likelihood: 222564.8460473157\n",
      "Iteration 1480 -Likelihood: 229769.02244246786\n",
      "Iteration 1490 -Likelihood: 255655.6127778094\n",
      "Iteration 1500 -Likelihood: 235838.94151591143\n",
      "Iteration 1510 -Likelihood: 230607.5322456373\n",
      "Iteration 1520 -Likelihood: 231442.7071778306\n",
      "Iteration 1530 -Likelihood: 228379.66536630737\n",
      "Iteration 1540 -Likelihood: 248824.5724302522\n",
      "Iteration 1550 -Likelihood: 222529.52174330846\n",
      "Iteration 1560 -Likelihood: 238100.2598543379\n",
      "Iteration 1570 -Likelihood: 226164.9832899924\n",
      "Iteration 1580 -Likelihood: 215480.634802708\n",
      "Iteration 1590 -Likelihood: 240627.5795171004\n",
      "Iteration 1600 -Likelihood: 251337.62127819684\n",
      "Iteration 1610 -Likelihood: 235453.47000721586\n",
      "Iteration 1620 -Likelihood: 203199.16311871746\n",
      "Iteration 1630 -Likelihood: 221968.8325791116\n",
      "Iteration 1640 -Likelihood: 233056.66002201758\n",
      "Iteration 1650 -Likelihood: 253400.34037143804\n",
      "Iteration 1660 -Likelihood: 212252.06535263718\n",
      "Iteration 1670 -Likelihood: 196747.15492969315\n",
      "Iteration 1680 -Likelihood: 225412.848464642\n",
      "Iteration 1690 -Likelihood: 206924.46659894614\n",
      "Iteration 1700 -Likelihood: 245967.12315377704\n",
      "Iteration 1710 -Likelihood: 221575.72981678796\n",
      "Iteration 1720 -Likelihood: 227471.98797220597\n",
      "Iteration 1730 -Likelihood: 237338.0957457505\n",
      "Iteration 1740 -Likelihood: 225017.56157870567\n",
      "Iteration 1750 -Likelihood: 231873.7222588792\n",
      "Iteration 1760 -Likelihood: 224117.90346033714\n",
      "Iteration 1770 -Likelihood: 236175.027974256\n",
      "Iteration 1780 -Likelihood: 227160.2049343874\n",
      "Iteration 1790 -Likelihood: 223458.79363711606\n",
      "Iteration 1800 -Likelihood: 235323.2262169069\n",
      "Iteration 1810 -Likelihood: 239733.17335233386\n",
      "Iteration 1820 -Likelihood: 243443.87001844632\n",
      "Iteration 1830 -Likelihood: 234178.09874277943\n",
      "Iteration 1840 -Likelihood: 219831.88963431545\n",
      "Iteration 1850 -Likelihood: 236674.5457651274\n",
      "Iteration 1860 -Likelihood: 224131.81672808476\n",
      "Iteration 1870 -Likelihood: 211331.9720483538\n",
      "Iteration 1880 -Likelihood: 207132.57619622606\n",
      "Iteration 1890 -Likelihood: 245766.31742008252\n",
      "Iteration 1900 -Likelihood: 223347.3917340688\n",
      "Iteration 1910 -Likelihood: 230465.31910019435\n",
      "Iteration 1920 -Likelihood: 225176.9268337802\n",
      "Iteration 1930 -Likelihood: 217811.29645808696\n",
      "Iteration 1940 -Likelihood: 221290.3561787119\n",
      "Iteration 1950 -Likelihood: 203307.53420783795\n",
      "Iteration 1960 -Likelihood: 213609.39714330045\n",
      "Iteration 1970 -Likelihood: 238004.68981115628\n",
      "Iteration 1980 -Likelihood: 228535.99179548252\n",
      "Iteration 1990 -Likelihood: 222673.01604391015\n"
     ]
    },
    {
     "data": {
      "image/png": "[encoded data removed]",
      "text/plain": [
       "<Figure size 432x288 with 1 Axes>"
      ]
     },
     "metadata": {
      "needs_background": "light"
     },
     "output_type": "display_data"
    }
   ],
   "source": [
    "logger = run_adam(m, gpf.test_util.notebook_niter(2000))\n",
    "plt.plot(-np.array(logger.logf))\n",
    "plt.xlabel('iteration')\n",
    "plt.ylabel('ELBO');"
   ]
  },
  {
   "cell_type": "code",
   "execution_count": 48,
   "metadata": {},
   "outputs": [
    {
     "name": "stdout",
     "output_type": "stream",
     "text": [
      "Iteration 0 -Likelihood: 7604646299.065756\n",
      "Iteration 10 -Likelihood: 492133537.82898307\n",
      "Iteration 20 -Likelihood: 230957035.38344944\n",
      "Iteration 30 -Likelihood: 154855658.55731365\n",
      "Iteration 40 -Likelihood: 120921268.62708369\n",
      "Iteration 50 -Likelihood: 101955279.61501391\n",
      "Iteration 60 -Likelihood: 89999577.2519541\n",
      "Iteration 70 -Likelihood: 80406731.89526471\n",
      "Iteration 80 -Likelihood: 72976919.88234597\n",
      "Iteration 90 -Likelihood: 67112502.8225801\n",
      "Iteration 100 -Likelihood: 61735273.30652521\n",
      "Iteration 110 -Likelihood: 57197437.633981995\n",
      "Iteration 120 -Likelihood: 53144010.35209016\n",
      "Iteration 130 -Likelihood: 49505386.82308758\n",
      "Iteration 140 -Likelihood: 46340695.291139044\n",
      "Iteration 150 -Likelihood: 43571746.174732395\n",
      "Iteration 160 -Likelihood: 40952485.40552382\n",
      "Iteration 170 -Likelihood: 38649931.68741358\n",
      "Iteration 180 -Likelihood: 36415981.066042565\n",
      "Iteration 190 -Likelihood: 34525654.40246689\n"
     ]
    },
    {
     "data": {
      "image/png": "[encoded data removed]",
      "text/plain": [
       "<Figure size 432x288 with 1 Axes>"
      ]
     },
     "metadata": {
      "needs_background": "light"
     },
     "output_type": "display_data"
    }
   ],
   "source": [
    "logger = run_adam(m, gpf.test_util.notebook_niter(200))\n",
    "plt.plot(-np.array(logger.logf))\n",
    "plt.xlabel('iteration')\n",
    "plt.ylabel('ELBO');"
   ]
  },
  {
   "cell_type": "code",
   "execution_count": 37,
   "metadata": {},
   "outputs": [
    {
     "name": "stdout",
     "output_type": "stream",
     "text": [
      "Iteration 0 -Likelihood: 57055599646.10222\n",
      "Iteration 10 -Likelihood: 7857316246.157918\n",
      "Iteration 20 -Likelihood: 3039689790.383281\n",
      "Iteration 30 -Likelihood: 949252718.3813705\n",
      "Iteration 40 -Likelihood: 612525209.7442998\n",
      "Iteration 50 -Likelihood: 426083192.40345716\n",
      "Iteration 60 -Likelihood: 361729262.4038894\n",
      "Iteration 70 -Likelihood: 327848516.7515662\n",
      "Iteration 80 -Likelihood: 304156487.2869207\n",
      "Iteration 90 -Likelihood: 291067104.0539652\n",
      "Iteration 100 -Likelihood: 277351204.0561661\n",
      "Iteration 110 -Likelihood: 265772076.39679882\n",
      "Iteration 120 -Likelihood: 254799360.12433052\n",
      "Iteration 130 -Likelihood: 243773566.9595441\n",
      "Iteration 140 -Likelihood: 233972434.1137157\n",
      "Iteration 150 -Likelihood: 225069485.60525715\n",
      "Iteration 160 -Likelihood: 215885894.472939\n",
      "Iteration 170 -Likelihood: 207495212.09358364\n",
      "Iteration 180 -Likelihood: 198820224.899781\n",
      "Iteration 190 -Likelihood: 191530627.5563605\n"
     ]
    },
    {
     "data": {
      "image/png": "[encoded data removed]",
      "text/plain": [
       "<Figure size 432x288 with 1 Axes>"
      ]
     },
     "metadata": {
      "needs_background": "light"
     },
     "output_type": "display_data"
    }
   ],
   "source": [
    "logger = run_adam(m, gpf.test_util.notebook_niter(200))\n",
    "plt.plot(-np.array(logger.logf))\n",
    "plt.xlabel('iteration')\n",
    "plt.ylabel('ELBO');"
   ]
  },
  {
   "cell_type": "code",
   "execution_count": 23,
   "metadata": {},
   "outputs": [
    {
     "name": "stdout",
     "output_type": "stream",
     "text": [
      "Iteration 0 -Likelihood: 1116250.573691209\n",
      "Iteration 10 -Likelihood: 959118.0576404427\n",
      "Iteration 20 -Likelihood: 856462.4691196523\n",
      "Iteration 30 -Likelihood: 718427.7164166907\n",
      "Iteration 40 -Likelihood: 516321.10334951564\n",
      "Iteration 50 -Likelihood: 313977.41016222275\n",
      "Iteration 60 -Likelihood: 229301.93686466437\n",
      "Iteration 70 -Likelihood: 191520.3277278901\n",
      "Iteration 80 -Likelihood: 178323.06340459135\n",
      "Iteration 90 -Likelihood: 171459.554599909\n",
      "Iteration 100 -Likelihood: 166398.0236343173\n",
      "Iteration 110 -Likelihood: 165893.14974940429\n",
      "Iteration 120 -Likelihood: 165535.51406816355\n",
      "Iteration 130 -Likelihood: 163207.9475844181\n",
      "Iteration 140 -Likelihood: 160855.47004363252\n",
      "Iteration 150 -Likelihood: 163968.9756829528\n",
      "Iteration 160 -Likelihood: 159414.02693986203\n",
      "Iteration 170 -Likelihood: 160904.37582217125\n",
      "Iteration 180 -Likelihood: 160742.14598306673\n",
      "Iteration 190 -Likelihood: 159409.26080105116\n"
     ]
    },
    {
     "data": {
      "image/png": "[encoded data removed]",
      "text/plain": [
       "<Figure size 432x288 with 1 Axes>"
      ]
     },
     "metadata": {
      "needs_background": "light"
     },
     "output_type": "display_data"
    }
   ],
   "source": [
    "logger = run_adam(m, gpf.test_util.notebook_niter(200))\n",
    "plt.plot(-np.array(logger.logf))\n",
    "plt.xlabel('iteration')\n",
    "plt.ylabel('ELBO');"
   ]
  },
  {
   "cell_type": "markdown",
   "metadata": {},
   "source": [
    "## Score"
   ]
  },
  {
   "cell_type": "code",
   "execution_count": 18,
   "metadata": {},
   "outputs": [],
   "source": [
    "predictions = m.predict_y(test_data_bin)"
   ]
  },
  {
   "cell_type": "code",
   "execution_count": 21,
   "metadata": {},
   "outputs": [
    {
     "name": "stdout",
     "output_type": "stream",
     "text": [
      "X (500, 784)\n",
      "X2 (500, 784)\n",
      "Kernel (500, 500)\n",
      "Norm x (500, 1)\n",
      "Norm y (1, 500)\n",
      "(500, 500)\n",
      "X (500, 784)\n",
      "X2 (?, ?)\n",
      "Kernel (500, ?)\n",
      "Norm x (500, 1)\n",
      "Norm y (1, ?)\n",
      "(500, ?)\n"
     ]
    }
   ],
   "source": [
    "predictions = m.predict_f(test_data_bin)"
   ]
  },
  {
   "cell_type": "code",
   "execution_count": 49,
   "metadata": {},
   "outputs": [
    {
     "data": {
      "text/plain": [
       "\u001b[0;31mSignature:\u001b[0m  \u001b[0mm\u001b[0m\u001b[0;34m.\u001b[0m\u001b[0mpredict_f\u001b[0m\u001b[0;34m(\u001b[0m\u001b[0mXnew\u001b[0m\u001b[0;34m)\u001b[0m\u001b[0;34m\u001b[0m\u001b[0m\n",
       "\u001b[0;31mSource:\u001b[0m   \n",
       "    \u001b[0;34m@\u001b[0m\u001b[0mautoflow\u001b[0m\u001b[0;34m(\u001b[0m\u001b[0;34m(\u001b[0m\u001b[0msettings\u001b[0m\u001b[0;34m.\u001b[0m\u001b[0mfloat_type\u001b[0m\u001b[0;34m,\u001b[0m \u001b[0;34m[\u001b[0m\u001b[0;32mNone\u001b[0m\u001b[0;34m,\u001b[0m \u001b[0;32mNone\u001b[0m\u001b[0;34m]\u001b[0m\u001b[0;34m)\u001b[0m\u001b[0;34m)\u001b[0m\u001b[0;34m\u001b[0m\n",
       "\u001b[0;34m\u001b[0m    \u001b[0;32mdef\u001b[0m \u001b[0mpredict_f\u001b[0m\u001b[0;34m(\u001b[0m\u001b[0mself\u001b[0m\u001b[0;34m,\u001b[0m \u001b[0mXnew\u001b[0m\u001b[0;34m)\u001b[0m\u001b[0;34m:\u001b[0m\u001b[0;34m\u001b[0m\n",
       "\u001b[0;34m\u001b[0m        \u001b[0;34m\"\"\"\u001b[0m\n",
       "\u001b[0;34m        Compute the mean and variance of the latent function(s) at the points\u001b[0m\n",
       "\u001b[0;34m        Xnew.\u001b[0m\n",
       "\u001b[0;34m        \"\"\"\u001b[0m\u001b[0;34m\u001b[0m\n",
       "\u001b[0;34m\u001b[0m        \u001b[0;32mreturn\u001b[0m \u001b[0mself\u001b[0m\u001b[0;34m.\u001b[0m\u001b[0m_build_predict\u001b[0m\u001b[0;34m(\u001b[0m\u001b[0mXnew\u001b[0m\u001b[0;34m)\u001b[0m\u001b[0;34m\u001b[0m\u001b[0m\n",
       "\u001b[0;31mFile:\u001b[0m      ~/.local/lib/python3.5/site-packages/gpflow/models/model.py\n",
       "\u001b[0;31mType:\u001b[0m      method\n"
      ]
     },
     "metadata": {},
     "output_type": "display_data"
    }
   ],
   "source": [
    "?? m.predict_f"
   ]
  },
  {
   "cell_type": "code",
   "execution_count": 38,
   "metadata": {},
   "outputs": [
    {
     "data": {
      "text/plain": [
       "(10000, 10)"
      ]
     },
     "execution_count": 38,
     "metadata": {},
     "output_type": "execute_result"
    }
   ],
   "source": [
    "predictions[0].shape"
   ]
  },
  {
   "cell_type": "code",
   "execution_count": 19,
   "metadata": {},
   "outputs": [],
   "source": [
    "test_score = np.sum(np.equal(np.argmax(predictions[0], 1), np.argmax(test_labels_bin, 1))) / len(test_data) * 100"
   ]
  },
  {
   "cell_type": "code",
   "execution_count": 20,
   "metadata": {},
   "outputs": [
    {
     "data": {
      "text/plain": [
       "61.77"
      ]
     },
     "execution_count": 20,
     "metadata": {},
     "output_type": "execute_result"
    }
   ],
   "source": [
    "test_score"
   ]
  },
  {
   "cell_type": "code",
   "execution_count": 63,
   "metadata": {},
   "outputs": [
    {
     "data": {
      "text/plain": [
       "-486207.5589229643"
      ]
     },
     "execution_count": 63,
     "metadata": {},
     "output_type": "execute_result"
    }
   ],
   "source": [
    "m.compute_log_likelihood()"
   ]
  },
  {
   "cell_type": "code",
   "execution_count": 19,
   "metadata": {},
   "outputs": [
    {
     "data": {
      "text/html": [
       "<div>\n",
       "<style scoped>\n",
       "    .dataframe tbody tr th:only-of-type {\n",
       "        vertical-align: middle;\n",
       "    }\n",
       "\n",
       "    .dataframe tbody tr th {\n",
       "        vertical-align: top;\n",
       "    }\n",
       "\n",
       "    .dataframe thead th {\n",
       "        text-align: right;\n",
       "    }\n",
       "</style>\n",
       "<table border=\"1\" class=\"dataframe\">\n",
       "  <thead>\n",
       "    <tr style=\"text-align: right;\">\n",
       "      <th></th>\n",
       "      <th>class</th>\n",
       "      <th>prior</th>\n",
       "      <th>transform</th>\n",
       "      <th>trainable</th>\n",
       "      <th>shape</th>\n",
       "      <th>fixed_shape</th>\n",
       "      <th>value</th>\n",
       "    </tr>\n",
       "  </thead>\n",
       "  <tbody>\n",
       "    <tr>\n",
       "      <th>SVGP/feature/Z</th>\n",
       "      <td>Parameter</td>\n",
       "      <td>None</td>\n",
       "      <td>(none)</td>\n",
       "      <td>True</td>\n",
       "      <td>(500, 784)</td>\n",
       "      <td>True</td>\n",
       "      <td>[[0.0009116464275071682, -0.12002359660102171,...</td>\n",
       "    </tr>\n",
       "    <tr>\n",
       "      <th>SVGP/kern/dummy</th>\n",
       "      <td>Parameter</td>\n",
       "      <td>None</td>\n",
       "      <td>+ve</td>\n",
       "      <td>True</td>\n",
       "      <td>()</td>\n",
       "      <td>True</td>\n",
       "      <td>1.0000000002225007e-06</td>\n",
       "    </tr>\n",
       "    <tr>\n",
       "      <th>SVGP/kern/poly_kernel/variance</th>\n",
       "      <td>Parameter</td>\n",
       "      <td>None</td>\n",
       "      <td>+ve</td>\n",
       "      <td>False</td>\n",
       "      <td>()</td>\n",
       "      <td>True</td>\n",
       "      <td>1.0</td>\n",
       "    </tr>\n",
       "    <tr>\n",
       "      <th>SVGP/kern/variance</th>\n",
       "      <td>Parameter</td>\n",
       "      <td>None</td>\n",
       "      <td>+ve</td>\n",
       "      <td>True</td>\n",
       "      <td>()</td>\n",
       "      <td>True</td>\n",
       "      <td>1.0007149574263396e-06</td>\n",
       "    </tr>\n",
       "    <tr>\n",
       "      <th>SVGP/likelihood/variance</th>\n",
       "      <td>Parameter</td>\n",
       "      <td>None</td>\n",
       "      <td>+ve</td>\n",
       "      <td>True</td>\n",
       "      <td>()</td>\n",
       "      <td>True</td>\n",
       "      <td>0.12010764059879336</td>\n",
       "    </tr>\n",
       "    <tr>\n",
       "      <th>SVGP/q_mu</th>\n",
       "      <td>Parameter</td>\n",
       "      <td>None</td>\n",
       "      <td>(none)</td>\n",
       "      <td>True</td>\n",
       "      <td>(500, 10)</td>\n",
       "      <td>True</td>\n",
       "      <td>[[-2.2493099253693796, -1.9904663729093899, -2...</td>\n",
       "    </tr>\n",
       "    <tr>\n",
       "      <th>SVGP/q_sqrt</th>\n",
       "      <td>Parameter</td>\n",
       "      <td>None</td>\n",
       "      <td>LoTri-&gt;vec</td>\n",
       "      <td>True</td>\n",
       "      <td>(10, 500, 500)</td>\n",
       "      <td>True</td>\n",
       "      <td>[[[0.10860809687630675, 0.0, 0.0, 0.0, 0.0, 0....</td>\n",
       "    </tr>\n",
       "  </tbody>\n",
       "</table>\n",
       "</div>"
      ],
      "text/plain": [
       "                                    class prior   transform  trainable  \\\n",
       "SVGP/feature/Z                  Parameter  None      (none)       True   \n",
       "SVGP/kern/dummy                 Parameter  None         +ve       True   \n",
       "SVGP/kern/poly_kernel/variance  Parameter  None         +ve      False   \n",
       "SVGP/kern/variance              Parameter  None         +ve       True   \n",
       "SVGP/likelihood/variance        Parameter  None         +ve       True   \n",
       "SVGP/q_mu                       Parameter  None      (none)       True   \n",
       "SVGP/q_sqrt                     Parameter  None  LoTri->vec       True   \n",
       "\n",
       "                                         shape  fixed_shape  \\\n",
       "SVGP/feature/Z                      (500, 784)         True   \n",
       "SVGP/kern/dummy                             ()         True   \n",
       "SVGP/kern/poly_kernel/variance              ()         True   \n",
       "SVGP/kern/variance                          ()         True   \n",
       "SVGP/likelihood/variance                    ()         True   \n",
       "SVGP/q_mu                            (500, 10)         True   \n",
       "SVGP/q_sqrt                     (10, 500, 500)         True   \n",
       "\n",
       "                                                                            value  \n",
       "SVGP/feature/Z                  [[0.0009116464275071682, -0.12002359660102171,...  \n",
       "SVGP/kern/dummy                                            1.0000000002225007e-06  \n",
       "SVGP/kern/poly_kernel/variance                                                1.0  \n",
       "SVGP/kern/variance                                         1.0007149574263396e-06  \n",
       "SVGP/likelihood/variance                                      0.12010764059879336  \n",
       "SVGP/q_mu                       [[-2.2493099253693796, -1.9904663729093899, -2...  \n",
       "SVGP/q_sqrt                     [[[0.10860809687630675, 0.0, 0.0, 0.0, 0.0, 0....  "
      ]
     },
     "execution_count": 19,
     "metadata": {},
     "output_type": "execute_result"
    }
   ],
   "source": [
    "m.as_pandas_table()"
   ]
  },
  {
   "cell_type": "code",
   "execution_count": 29,
   "metadata": {},
   "outputs": [
    {
     "name": "stdout",
     "output_type": "stream",
     "text": [
      "-30995651.903306656\n"
     ]
    }
   ],
   "source": [
    "# test score\n",
    "variance = 0.001\n",
    "alpha = 10\n",
    "\n",
    "m.kern.variance = 0.0018913713117732164\n",
    "m.likelihood.variance = 5.61412412417899\n",
    "\n",
    "print(m.compute_log_likelihood())"
   ]
  },
  {
   "cell_type": "code",
   "execution_count": 53,
   "metadata": {},
   "outputs": [
    {
     "name": "stdout",
     "output_type": "stream",
     "text": [
      "-1349785.1100260287\n"
     ]
    }
   ],
   "source": [
    "# test score\n",
    "variance = 0.001\n",
    "alpha = 10\n",
    "\n",
    "m.kern.variance = variance\n",
    "m.likelihood.variance = alpha\n",
    "\n",
    "print(m.compute_log_likelihood())"
   ]
  },
  {
   "cell_type": "code",
   "execution_count": 42,
   "metadata": {},
   "outputs": [
    {
     "ename": "KeyError",
     "evalue": "'the label [SVGP/kern/lengthscales] is not in the [index]'",
     "output_type": "error",
     "traceback": [
      "\u001b[0;31m---------------------------------------------------------------------------\u001b[0m",
      "\u001b[0;31mKeyError\u001b[0m                                  Traceback (most recent call last)",
      "\u001b[0;32m/usr/local/lib/python3.5/dist-packages/pandas/core/indexing.py\u001b[0m in \u001b[0;36m_validate_key\u001b[0;34m(self, key, axis)\u001b[0m\n\u001b[1;32m   1789\u001b[0m                 \u001b[0;32mif\u001b[0m \u001b[0;32mnot\u001b[0m \u001b[0max\u001b[0m\u001b[0;34m.\u001b[0m\u001b[0mcontains\u001b[0m\u001b[0;34m(\u001b[0m\u001b[0mkey\u001b[0m\u001b[0;34m)\u001b[0m\u001b[0;34m:\u001b[0m\u001b[0;34m\u001b[0m\u001b[0m\n\u001b[0;32m-> 1790\u001b[0;31m                     \u001b[0merror\u001b[0m\u001b[0;34m(\u001b[0m\u001b[0;34m)\u001b[0m\u001b[0;34m\u001b[0m\u001b[0m\n\u001b[0m\u001b[1;32m   1791\u001b[0m             \u001b[0;32mexcept\u001b[0m \u001b[0mTypeError\u001b[0m \u001b[0;32mas\u001b[0m \u001b[0me\u001b[0m\u001b[0;34m:\u001b[0m\u001b[0;34m\u001b[0m\u001b[0m\n",
      "\u001b[0;32m/usr/local/lib/python3.5/dist-packages/pandas/core/indexing.py\u001b[0m in \u001b[0;36merror\u001b[0;34m()\u001b[0m\n\u001b[1;32m   1784\u001b[0m                                .format(key=key,\n\u001b[0;32m-> 1785\u001b[0;31m                                        axis=self.obj._get_axis_name(axis)))\n\u001b[0m\u001b[1;32m   1786\u001b[0m \u001b[0;34m\u001b[0m\u001b[0m\n",
      "\u001b[0;31mKeyError\u001b[0m: 'the label [SVGP/kern/lengthscales] is not in the [index]'",
      "\nDuring handling of the above exception, another exception occurred:\n",
      "\u001b[0;31mKeyError\u001b[0m                                  Traceback (most recent call last)",
      "\u001b[0;32m<ipython-input-42-327d464c3caa>\u001b[0m in \u001b[0;36m<module>\u001b[0;34m\u001b[0m\n\u001b[0;32m----> 1\u001b[0;31m \u001b[0mlengthscale\u001b[0m \u001b[0;34m=\u001b[0m \u001b[0mm\u001b[0m\u001b[0;34m.\u001b[0m\u001b[0mas_pandas_table\u001b[0m\u001b[0;34m(\u001b[0m\u001b[0;34m)\u001b[0m\u001b[0;34m.\u001b[0m\u001b[0mloc\u001b[0m\u001b[0;34m[\u001b[0m\u001b[0;34m'SVGP/kern/lengthscales'\u001b[0m\u001b[0;34m]\u001b[0m\u001b[0;34m[\u001b[0m\u001b[0;34m'value'\u001b[0m\u001b[0;34m]\u001b[0m\u001b[0;34m\u001b[0m\u001b[0m\n\u001b[0m\u001b[1;32m      2\u001b[0m \u001b[0mvariance\u001b[0m \u001b[0;34m=\u001b[0m \u001b[0mm\u001b[0m\u001b[0;34m.\u001b[0m\u001b[0mas_pandas_table\u001b[0m\u001b[0;34m(\u001b[0m\u001b[0;34m)\u001b[0m\u001b[0;34m.\u001b[0m\u001b[0mloc\u001b[0m\u001b[0;34m[\u001b[0m\u001b[0;34m'SVGP/kern/variance'\u001b[0m\u001b[0;34m]\u001b[0m\u001b[0;34m[\u001b[0m\u001b[0;34m'value'\u001b[0m\u001b[0;34m]\u001b[0m\u001b[0;34m\u001b[0m\u001b[0m\n\u001b[1;32m      3\u001b[0m \u001b[0mnoise\u001b[0m \u001b[0;34m=\u001b[0m \u001b[0mm\u001b[0m\u001b[0;34m.\u001b[0m\u001b[0mas_pandas_table\u001b[0m\u001b[0;34m(\u001b[0m\u001b[0;34m)\u001b[0m\u001b[0;34m.\u001b[0m\u001b[0mloc\u001b[0m\u001b[0;34m[\u001b[0m\u001b[0;34m'SVGP/likelihood/variance'\u001b[0m\u001b[0;34m]\u001b[0m\u001b[0;34m[\u001b[0m\u001b[0;34m'value'\u001b[0m\u001b[0;34m]\u001b[0m\u001b[0;34m\u001b[0m\u001b[0m\n",
      "\u001b[0;32m/usr/local/lib/python3.5/dist-packages/pandas/core/indexing.py\u001b[0m in \u001b[0;36m__getitem__\u001b[0;34m(self, key)\u001b[0m\n\u001b[1;32m   1476\u001b[0m \u001b[0;34m\u001b[0m\u001b[0m\n\u001b[1;32m   1477\u001b[0m             \u001b[0mmaybe_callable\u001b[0m \u001b[0;34m=\u001b[0m \u001b[0mcom\u001b[0m\u001b[0;34m.\u001b[0m\u001b[0m_apply_if_callable\u001b[0m\u001b[0;34m(\u001b[0m\u001b[0mkey\u001b[0m\u001b[0;34m,\u001b[0m \u001b[0mself\u001b[0m\u001b[0;34m.\u001b[0m\u001b[0mobj\u001b[0m\u001b[0;34m)\u001b[0m\u001b[0;34m\u001b[0m\u001b[0m\n\u001b[0;32m-> 1478\u001b[0;31m             \u001b[0;32mreturn\u001b[0m \u001b[0mself\u001b[0m\u001b[0;34m.\u001b[0m\u001b[0m_getitem_axis\u001b[0m\u001b[0;34m(\u001b[0m\u001b[0mmaybe_callable\u001b[0m\u001b[0;34m,\u001b[0m \u001b[0maxis\u001b[0m\u001b[0;34m=\u001b[0m\u001b[0maxis\u001b[0m\u001b[0;34m)\u001b[0m\u001b[0;34m\u001b[0m\u001b[0m\n\u001b[0m\u001b[1;32m   1479\u001b[0m \u001b[0;34m\u001b[0m\u001b[0m\n\u001b[1;32m   1480\u001b[0m     \u001b[0;32mdef\u001b[0m \u001b[0m_is_scalar_access\u001b[0m\u001b[0;34m(\u001b[0m\u001b[0mself\u001b[0m\u001b[0;34m,\u001b[0m \u001b[0mkey\u001b[0m\u001b[0;34m)\u001b[0m\u001b[0;34m:\u001b[0m\u001b[0;34m\u001b[0m\u001b[0m\n",
      "\u001b[0;32m/usr/local/lib/python3.5/dist-packages/pandas/core/indexing.py\u001b[0m in \u001b[0;36m_getitem_axis\u001b[0;34m(self, key, axis)\u001b[0m\n\u001b[1;32m   1909\u001b[0m \u001b[0;34m\u001b[0m\u001b[0m\n\u001b[1;32m   1910\u001b[0m         \u001b[0;31m# fall thru to straight lookup\u001b[0m\u001b[0;34m\u001b[0m\u001b[0;34m\u001b[0m\u001b[0m\n\u001b[0;32m-> 1911\u001b[0;31m         \u001b[0mself\u001b[0m\u001b[0;34m.\u001b[0m\u001b[0m_validate_key\u001b[0m\u001b[0;34m(\u001b[0m\u001b[0mkey\u001b[0m\u001b[0;34m,\u001b[0m \u001b[0maxis\u001b[0m\u001b[0;34m)\u001b[0m\u001b[0;34m\u001b[0m\u001b[0m\n\u001b[0m\u001b[1;32m   1912\u001b[0m         \u001b[0;32mreturn\u001b[0m \u001b[0mself\u001b[0m\u001b[0;34m.\u001b[0m\u001b[0m_get_label\u001b[0m\u001b[0;34m(\u001b[0m\u001b[0mkey\u001b[0m\u001b[0;34m,\u001b[0m \u001b[0maxis\u001b[0m\u001b[0;34m=\u001b[0m\u001b[0maxis\u001b[0m\u001b[0;34m)\u001b[0m\u001b[0;34m\u001b[0m\u001b[0m\n\u001b[1;32m   1913\u001b[0m \u001b[0;34m\u001b[0m\u001b[0m\n",
      "\u001b[0;32m/usr/local/lib/python3.5/dist-packages/pandas/core/indexing.py\u001b[0m in \u001b[0;36m_validate_key\u001b[0;34m(self, key, axis)\u001b[0m\n\u001b[1;32m   1796\u001b[0m                 \u001b[0;32mraise\u001b[0m\u001b[0;34m\u001b[0m\u001b[0m\n\u001b[1;32m   1797\u001b[0m             \u001b[0;32mexcept\u001b[0m\u001b[0;34m:\u001b[0m\u001b[0;34m\u001b[0m\u001b[0m\n\u001b[0;32m-> 1798\u001b[0;31m                 \u001b[0merror\u001b[0m\u001b[0;34m(\u001b[0m\u001b[0;34m)\u001b[0m\u001b[0;34m\u001b[0m\u001b[0m\n\u001b[0m\u001b[1;32m   1799\u001b[0m \u001b[0;34m\u001b[0m\u001b[0m\n\u001b[1;32m   1800\u001b[0m     \u001b[0;32mdef\u001b[0m \u001b[0m_is_scalar_access\u001b[0m\u001b[0;34m(\u001b[0m\u001b[0mself\u001b[0m\u001b[0;34m,\u001b[0m \u001b[0mkey\u001b[0m\u001b[0;34m)\u001b[0m\u001b[0;34m:\u001b[0m\u001b[0;34m\u001b[0m\u001b[0m\n",
      "\u001b[0;32m/usr/local/lib/python3.5/dist-packages/pandas/core/indexing.py\u001b[0m in \u001b[0;36merror\u001b[0;34m()\u001b[0m\n\u001b[1;32m   1783\u001b[0m                 raise KeyError(u\"the label [{key}] is not in the [{axis}]\"\n\u001b[1;32m   1784\u001b[0m                                .format(key=key,\n\u001b[0;32m-> 1785\u001b[0;31m                                        axis=self.obj._get_axis_name(axis)))\n\u001b[0m\u001b[1;32m   1786\u001b[0m \u001b[0;34m\u001b[0m\u001b[0m\n\u001b[1;32m   1787\u001b[0m             \u001b[0;32mtry\u001b[0m\u001b[0;34m:\u001b[0m\u001b[0;34m\u001b[0m\u001b[0m\n",
      "\u001b[0;31mKeyError\u001b[0m: 'the label [SVGP/kern/lengthscales] is not in the [index]'"
     ]
    }
   ],
   "source": [
    "lengthscale = m.as_pandas_table().loc['SVGP/kern/lengthscales']['value']\n",
    "variance = m.as_pandas_table().loc['SVGP/kern/variance']['value']\n",
    "noise = m.as_pandas_table().loc['SVGP/likelihood/variance']['value']"
   ]
  },
  {
   "cell_type": "code",
   "execution_count": 47,
   "metadata": {},
   "outputs": [
    {
     "name": "stdout",
     "output_type": "stream",
     "text": [
      "8.16129484405451\n"
     ]
    }
   ],
   "source": [
    "print(lengthscale)"
   ]
  },
  {
   "cell_type": "code",
   "execution_count": 48,
   "metadata": {},
   "outputs": [
    {
     "name": "stdout",
     "output_type": "stream",
     "text": [
      "0.025693371349520586\n"
     ]
    }
   ],
   "source": [
    "print(variance)"
   ]
  },
  {
   "cell_type": "code",
   "execution_count": 49,
   "metadata": {},
   "outputs": [
    {
     "name": "stdout",
     "output_type": "stream",
     "text": [
      "0.09286533248745456\n"
     ]
    }
   ],
   "source": [
    "print(noise)"
   ]
  },
  {
   "cell_type": "markdown",
   "metadata": {},
   "source": [
    "## Verify using random features"
   ]
  },
  {
   "cell_type": "code",
   "execution_count": 39,
   "metadata": {},
   "outputs": [],
   "source": [
    "from sklearn.linear_model import RidgeClassifier\n",
    "from random_features import project_big_np_matrix\n",
    "import torch"
   ]
  },
  {
   "cell_type": "code",
   "execution_count": 36,
   "metadata": {},
   "outputs": [],
   "source": [
    "data = np.vstack([train_data_bin[:N], test_data_bin])"
   ]
  },
  {
   "cell_type": "code",
   "execution_count": 41,
   "metadata": {},
   "outputs": [
    {
     "name": "stdout",
     "output_type": "stream",
     "text": [
      "Processing chunk of size: torch.Size([5000, 784])\n",
      "Processing chunk of size: torch.Size([5000, 784])\n",
      "Processing chunk of size: torch.Size([5000, 784])\n",
      "Processing chunk of size: torch.Size([5000, 784])\n",
      "Processing chunk of size: torch.Size([5000, 784])\n",
      "Processing chunk of size: torch.Size([5000, 784])\n",
      "Processing chunk of size: torch.Size([5000, 784])\n",
      "Processing chunk of size: torch.Size([5000, 784])\n",
      "Processing chunk of size: torch.Size([5000, 784])\n",
      "Processing chunk of size: torch.Size([5000, 784])\n",
      "Processing chunk of size: torch.Size([5000, 784])\n",
      "Processing chunk of size: torch.Size([5000, 784])\n",
      "Processing chunk of size: torch.Size([5000, 784])\n",
      "Processing chunk of size: torch.Size([5000, 784])\n",
      "Total time elapsed (seconds): 17.265944242477417\n",
      "Time per chunk (seconds): 1.2332817316055298\n"
     ]
    }
   ],
   "source": [
    "proj_data, proj_time = project_big_np_matrix(\n",
    "                            data, out_dim=10000,\n",
    "                            chunk_size=5000, projection='rbf',\n",
    "                            framework='pytorch', dtype=torch.FloatTensor,\n",
    "                            cuda=False, log_lengthscale_init=np.log(lengthscale))"
   ]
  },
  {
   "cell_type": "code",
   "execution_count": 42,
   "metadata": {},
   "outputs": [],
   "source": [
    "clf = RidgeClassifier(alpha=noise)"
   ]
  },
  {
   "cell_type": "code",
   "execution_count": 44,
   "metadata": {},
   "outputs": [
    {
     "data": {
      "text/plain": [
       "RidgeClassifier(alpha=array(0.09287), class_weight=None, copy_X=True,\n",
       "        fit_intercept=True, max_iter=None, normalize=False,\n",
       "        random_state=None, solver='auto', tol=0.001)"
      ]
     },
     "execution_count": 44,
     "metadata": {},
     "output_type": "execute_result"
    }
   ],
   "source": [
    "clf.fit(np.sqrt(variance) * proj_data[:N], train_labels[:N])"
   ]
  },
  {
   "cell_type": "code",
   "execution_count": 46,
   "metadata": {},
   "outputs": [
    {
     "data": {
      "text/plain": [
       "0.8845"
      ]
     },
     "execution_count": 46,
     "metadata": {},
     "output_type": "execute_result"
    }
   ],
   "source": [
    "clf.score(np.sqrt(variance) * proj_data[N:], test_labels)"
   ]
  },
  {
   "cell_type": "code",
   "execution_count": null,
   "metadata": {},
   "outputs": [],
   "source": [
    "# => the hyperparameter fit seems to be good!"
   ]
  },
  {
   "cell_type": "code",
   "execution_count": null,
   "metadata": {},
   "outputs": [],
   "source": [
    "# full kernel only gets 0.8766"
   ]
  }
 ],
 "metadata": {
  "kernelspec": {
   "display_name": "Python 3",
   "language": "python",
   "name": "python3"
  },
  "language_info": {
   "codemirror_mode": {
    "name": "ipython",
    "version": 3
   },
   "file_extension": ".py",
   "mimetype": "text/x-python",
   "name": "python",
   "nbconvert_exporter": "python",
   "pygments_lexer": "ipython3",
   "version": "3.5.2"
  }
 },
 "nbformat": 4,
 "nbformat_minor": 2
}
