{
 "cells": [
  {
   "cell_type": "code",
   "execution_count": 1,
   "metadata": {},
   "outputs": [],
   "source": [
    "import numpy as np\n",
    "import matplotlib.pyplot as plt\n",
    "\n",
    "import torch\n",
    "\n",
    "from sklearn.svm import SVC\n",
    "from sklearn.svm import LinearSVC\n",
    "from sklearn.kernel_ridge import KernelRidge\n",
    "from sklearn.linear_model import RidgeClassifier\n",
    "from sklearn.kernel_approximation import RBFSampler\n",
    "\n",
    "from sklearn.linear_model import RidgeClassifier\n",
    "\n",
    "import matplotlib.pyplot as plt\n",
    "\n",
    "import time"
   ]
  },
  {
   "cell_type": "code",
   "execution_count": 2,
   "metadata": {},
   "outputs": [],
   "source": [
    "from lightonml.datasets import FashionMNIST"
   ]
  },
  {
   "cell_type": "code",
   "execution_count": 3,
   "metadata": {},
   "outputs": [],
   "source": [
    "# import os\n",
    "\n",
    "# os.environ[\"CUDA_VISIBLE_DEVICES\"]=\"1\""
   ]
  },
  {
   "cell_type": "markdown",
   "metadata": {},
   "source": [
    "## Loading the data"
   ]
  },
  {
   "cell_type": "code",
   "execution_count": 3,
   "metadata": {},
   "outputs": [],
   "source": [
    "(train_data, train_labels), (test_data, test_labels) = FashionMNIST()\n",
    "\n",
    "# train_data = np.load('../datasets/export/fashion_mnist/numpy/train_data_fashion_mnist.npy').astype('uint8')\n",
    "# test_data = np.load('../datasets/export/fashion_mnist/numpy/test_data_fashion_mnist.npy').astype('uint8')\n",
    "# train_labels = np.load('../datasets/export/fashion_mnist/numpy/train_targets_fashion_mnist.npy').astype('uint8')\n",
    "# test_labels = np.load('../datasets/export/fashion_mnist/numpy/test_targets_fashion_mnist.npy').astype('uint8')\n",
    "\n",
    "# Convert one-hot to integers\n",
    "# train_labels = np.argmax(train_labels, axis=1)\n",
    "# test_labels = np.argmax(test_labels, axis=1)\n",
    "\n",
    "D = train_data[0].reshape(-1).shape[0]\n",
    "\n",
    "# Flatten the images\n",
    "train_data = train_data.reshape(-1, D)\n",
    "test_data = test_data.reshape(-1, D)"
   ]
  },
  {
   "cell_type": "code",
   "execution_count": 4,
   "metadata": {},
   "outputs": [],
   "source": [
    "def threshold_binarize(data, threshold):\n",
    "    data_bin = np.where(data>threshold, 1, 0).astype('uint8')\n",
    "    return data_bin"
   ]
  },
  {
   "cell_type": "code",
   "execution_count": 5,
   "metadata": {},
   "outputs": [],
   "source": [
    "# fashion mnist has values between 0 and 255\n",
    "threshold = 10\n",
    "\n",
    "train_data_bin = threshold_binarize(train_data, threshold)\n",
    "test_data_bin = threshold_binarize(test_data, threshold)"
   ]
  },
  {
   "cell_type": "markdown",
   "metadata": {},
   "source": [
    "## OPU Projection"
   ]
  },
  {
   "cell_type": "code",
   "execution_count": 6,
   "metadata": {},
   "outputs": [],
   "source": [
    "from lightonml.projections.sklearn import OPUMap"
   ]
  },
  {
   "cell_type": "code",
   "execution_count": 2,
   "metadata": {},
   "outputs": [],
   "source": [
    "?? OPUMap"
   ]
  },
  {
   "cell_type": "code",
   "execution_count": 4,
   "metadata": {},
   "outputs": [],
   "source": [
    "?? OPU"
   ]
  },
  {
   "cell_type": "code",
   "execution_count": 7,
   "metadata": {},
   "outputs": [],
   "source": [
    "n_components = 1000 # number of random projections\n",
    "random_mapping = OPUMap(n_components=n_components, ndims=1)"
   ]
  },
  {
   "cell_type": "code",
   "execution_count": 7,
   "metadata": {},
   "outputs": [
    {
     "data": {
      "text/plain": [
       "['_OPU__check_booking',\n",
       " '_OPU__opu_config',\n",
       " '_OPU__transform',\n",
       " '_TransformSetup',\n",
       " '__class__',\n",
       " '__delattr__',\n",
       " '__dict__',\n",
       " '__dir__',\n",
       " '__doc__',\n",
       " '__enter__',\n",
       " '__eq__',\n",
       " '__exit__',\n",
       " '__format__',\n",
       " '__ge__',\n",
       " '__getattribute__',\n",
       " '__gt__',\n",
       " '__hash__',\n",
       " '__init__',\n",
       " '__le__',\n",
       " '__lt__',\n",
       " '__module__',\n",
       " '__ne__',\n",
       " '__new__',\n",
       " '__reduce__',\n",
       " '__reduce_ex__',\n",
       " '__repr__',\n",
       " '__setattr__',\n",
       " '__sizeof__',\n",
       " '__str__',\n",
       " '__subclasshook__',\n",
       " '__weakref__',\n",
       " '_allowed_roi',\n",
       " '_cam_roi',\n",
       " '_count_ones',\n",
       " '_dmd_roi',\n",
       " '_max_n_features',\n",
       " '_min_batch_size',\n",
       " '_min_components',\n",
       " '_n_components',\n",
       " '_n_count',\n",
       " '_n_samples_by_pass',\n",
       " '_print',\n",
       " '_projection_times',\n",
       " '_resize_rnd_matrix',\n",
       " 'batch_transform',\n",
       " 'close',\n",
       " 'device',\n",
       " 'dmd_strategy',\n",
       " 'features_fmt',\n",
       " 'is_simulated',\n",
       " 'max_n_components',\n",
       " 'max_n_features',\n",
       " 'n_components',\n",
       " 'n_samples_by_pass',\n",
       " 'open',\n",
       " 'transform',\n",
       " 'transform1d',\n",
       " 'transform2d',\n",
       " 'verbose',\n",
       " 'version']"
      ]
     },
     "execution_count": 7,
     "metadata": {},
     "output_type": "execute_result"
    }
   ],
   "source": [
    "dir(random_mapping.opu)"
   ]
  },
  {
   "cell_type": "code",
   "execution_count": 8,
   "metadata": {},
   "outputs": [
    {
     "data": {
      "text/plain": [
       "1039680"
      ]
     },
     "execution_count": 8,
     "metadata": {},
     "output_type": "execute_result"
    }
   ],
   "source": [
    "random_mapping.opu._max_n_features"
   ]
  },
  {
   "cell_type": "code",
   "execution_count": 10,
   "metadata": {},
   "outputs": [
    {
     "data": {
      "text/plain": [
       "[[960, 0], [960, 1080]]"
      ]
     },
     "execution_count": 10,
     "metadata": {},
     "output_type": "execute_result"
    }
   ],
   "source": [
    "random_mapping.opu._cam_roi.allowed_roi"
   ]
  },
  {
   "cell_type": "code",
   "execution_count": 16,
   "metadata": {},
   "outputs": [
    {
     "data": {
      "text/plain": [
       "400"
      ]
     },
     "execution_count": 16,
     "metadata": {},
     "output_type": "execute_result"
    }
   ],
   "source": [
    "random_mapping.opu.device.exposure_us"
   ]
  },
  {
   "cell_type": "code",
   "execution_count": 17,
   "metadata": {},
   "outputs": [
    {
     "data": {
      "text/plain": [
       "500"
      ]
     },
     "execution_count": 17,
     "metadata": {},
     "output_type": "execute_result"
    }
   ],
   "source": [
    "random_mapping.opu.device.frametime_us"
   ]
  },
  {
   "cell_type": "code",
   "execution_count": 18,
   "metadata": {},
   "outputs": [
    {
     "data": {
      "text/plain": [
       "([1270, 348], [341, 384])"
      ]
     },
     "execution_count": 18,
     "metadata": {},
     "output_type": "execute_result"
    }
   ],
   "source": [
    "random_mapping.opu.device.cam_ROI"
   ]
  },
  {
   "cell_type": "code",
   "execution_count": 15,
   "metadata": {},
   "outputs": [
    {
     "data": {
      "text/plain": [
       "['_OpuDevice__opu',\n",
       " '__class__',\n",
       " '__deepcopy__',\n",
       " '__delattr__',\n",
       " '__dict__',\n",
       " '__dir__',\n",
       " '__doc__',\n",
       " '__enter__',\n",
       " '__eq__',\n",
       " '__exit__',\n",
       " '__format__',\n",
       " '__ge__',\n",
       " '__getattribute__',\n",
       " '__getstate__',\n",
       " '__gt__',\n",
       " '__hash__',\n",
       " '__init__',\n",
       " '__le__',\n",
       " '__lt__',\n",
       " '__module__',\n",
       " '__ne__',\n",
       " '__new__',\n",
       " '__reduce__',\n",
       " '__reduce_ex__',\n",
       " '__repr__',\n",
       " '__setattr__',\n",
       " '__setstate__',\n",
       " '__sizeof__',\n",
       " '__str__',\n",
       " '__subclasshook__',\n",
       " '__weakref__',\n",
       " '_cam_ROI_off',\n",
       " '_cam_roi_increment',\n",
       " '_cam_shape_max',\n",
       " '_cam_strategy',\n",
       " '_exposure_us_off',\n",
       " '_frametime_us_off',\n",
       " '_gain_dB_off',\n",
       " '_reserved_off',\n",
       " '_sequence_nb_prelim',\n",
       " 'acquire_seq',\n",
       " 'acquiring',\n",
       " 'active',\n",
       " 'cam_ROI',\n",
       " 'cam_readout_us',\n",
       " 'cam_roi_increment',\n",
       " 'cam_roi_strategy',\n",
       " 'cam_shape',\n",
       " 'cam_shape_max',\n",
       " 'close',\n",
       " 'dmd_shape',\n",
       " 'exposure_us',\n",
       " 'fill_dmd',\n",
       " 'frametime_us',\n",
       " 'gain_dB',\n",
       " 'input_size',\n",
       " 'nb_features',\n",
       " 'open',\n",
       " 'opu_type',\n",
       " 'reserve',\n",
       " 'transform1',\n",
       " 'transform2',\n",
       " 'transform_single',\n",
       " 'verbose',\n",
       " 'versions']"
      ]
     },
     "execution_count": 15,
     "metadata": {},
     "output_type": "execute_result"
    }
   ],
   "source": [
    "dir(random_mapping.opu.device)"
   ]
  },
  {
   "cell_type": "markdown",
   "metadata": {},
   "source": [
    "## Good exp distribution"
   ]
  },
  {
   "cell_type": "code",
   "execution_count": 21,
   "metadata": {},
   "outputs": [],
   "source": [
    "class OPUModuleNumpy(object):\n",
    "    def __init__(self, input_features, output_features, activation=None, bias=False, initial_log_scale='auto', dtype='float32'):\n",
    "        super(OPUModuleNumpy, self).__init__()\n",
    "        \n",
    "        self.real_matrix = np.random.normal(loc=0.0, scale=np.sqrt(0.5), size=(input_features, output_features)).astype(dtype)\n",
    "        self.img_matrix = np.random.normal(loc=0.0, scale=np.sqrt(0.5), size=(input_features, output_features)).astype(dtype)\n",
    "        \n",
    "        if bias:\n",
    "            self.bias = np.random.uniform(low=0.0, high=2 * np.pi, size=(1, output_features))\n",
    "        else:\n",
    "            self.bias = None\n",
    "            \n",
    "        self.activation = activation\n",
    "        \n",
    "        if initial_log_scale == 'auto':\n",
    "            self.log_scale = -0.5 * np.log(input_features)\n",
    "        else:\n",
    "            self.log_scale = initial_log_scale\n",
    "        \n",
    "    def project(self, data, matrix):\n",
    "        return np.dot(data, matrix)\n",
    "        \n",
    "    def forward(self, data):\n",
    "        out_real = self.project(data, self.real_matrix) ** 2\n",
    "        out_img = self.project(data, self.img_matrix) ** 2\n",
    "        \n",
    "        output = (out_real + out_img)\n",
    "        if self.bias is not None:\n",
    "            output += self.bias\n",
    "        if self.activation is not None:\n",
    "            output = self.activation(output)\n",
    "\n",
    "        return np.exp(self.log_scale) * output"
   ]
  },
  {
   "cell_type": "code",
   "execution_count": 22,
   "metadata": {},
   "outputs": [],
   "source": [
    "opm = OPUModuleNumpy(784, 10000)"
   ]
  },
  {
   "cell_type": "code",
   "execution_count": 23,
   "metadata": {},
   "outputs": [],
   "source": [
    "np_projection = opm.forward(np.vstack([train_data_bin, test_data_bin]))"
   ]
  },
  {
   "cell_type": "code",
   "execution_count": 36,
   "metadata": {},
   "outputs": [
    {
     "data": {
      "text/plain": [
       "(array([919., 842., 776., 698., 712., 635., 546., 480., 444., 349., 353.,\n",
       "        332., 304., 238., 212., 228., 183., 162., 139., 155., 138., 103.,\n",
       "        105.,  97.,  68.,  71.,  70.,  68.,  53.,  58.,  45.,  35.,  31.,\n",
       "         32.,  33.,  31.,  27.,  10.,  26.,  21.,  18.,  16.,   6.,   8.,\n",
       "         10.,   9.,   8.,  13.,  11.,   9.,   6.,   6.,   7.,   7.,   3.,\n",
       "          4.,   1.,   0.,   2.,   3.,   3.,   4.,   3.,   1.,   1.,   1.,\n",
       "          2.,   1.,   1.,   0.,   0.,   0.,   0.,   1.,   1.,   0.,   0.,\n",
       "          0.,   0.,   0.,   1.,   0.,   1.,   0.,   0.,   1.,   0.,   0.,\n",
       "          0.,   1.,   0.,   0.,   0.,   0.,   0.,   0.,   0.,   0.,   0.,\n",
       "          1.]),\n",
       " array([3.7400962e-06, 1.0003703e-02, 2.0003665e-02, 3.0003628e-02,\n",
       "        4.0003590e-02, 5.0003555e-02, 6.0003515e-02, 7.0003480e-02,\n",
       "        8.0003440e-02, 9.0003401e-02, 1.0000337e-01, 1.1000333e-01,\n",
       "        1.2000329e-01, 1.3000326e-01, 1.4000322e-01, 1.5000318e-01,\n",
       "        1.6000314e-01, 1.7000310e-01, 1.8000306e-01, 1.9000302e-01,\n",
       "        2.0000300e-01, 2.1000296e-01, 2.2000292e-01, 2.3000288e-01,\n",
       "        2.4000284e-01, 2.5000280e-01, 2.6000276e-01, 2.7000272e-01,\n",
       "        2.8000268e-01, 2.9000264e-01, 3.0000260e-01, 3.1000260e-01,\n",
       "        3.2000256e-01, 3.3000252e-01, 3.4000248e-01, 3.5000244e-01,\n",
       "        3.6000240e-01, 3.7000236e-01, 3.8000232e-01, 3.9000228e-01,\n",
       "        4.0000224e-01, 4.1000220e-01, 4.2000216e-01, 4.3000212e-01,\n",
       "        4.4000208e-01, 4.5000204e-01, 4.6000201e-01, 4.7000200e-01,\n",
       "        4.8000196e-01, 4.9000192e-01, 5.0000185e-01, 5.1000184e-01,\n",
       "        5.2000177e-01, 5.3000176e-01, 5.4000175e-01, 5.5000168e-01,\n",
       "        5.6000167e-01, 5.7000160e-01, 5.8000159e-01, 5.9000152e-01,\n",
       "        6.0000151e-01, 6.1000144e-01, 6.2000144e-01, 6.3000137e-01,\n",
       "        6.4000136e-01, 6.5000129e-01, 6.6000128e-01, 6.7000121e-01,\n",
       "        6.8000120e-01, 6.9000113e-01, 7.0000112e-01, 7.1000111e-01,\n",
       "        7.2000104e-01, 7.3000103e-01, 7.4000096e-01, 7.5000095e-01,\n",
       "        7.6000088e-01, 7.7000087e-01, 7.8000081e-01, 7.9000080e-01,\n",
       "        8.0000073e-01, 8.1000072e-01, 8.2000065e-01, 8.3000064e-01,\n",
       "        8.4000057e-01, 8.5000056e-01, 8.6000055e-01, 8.7000048e-01,\n",
       "        8.8000047e-01, 8.9000040e-01, 9.0000039e-01, 9.1000032e-01,\n",
       "        9.2000031e-01, 9.3000025e-01, 9.4000024e-01, 9.5000017e-01,\n",
       "        9.6000016e-01, 9.7000009e-01, 9.8000008e-01, 9.9000001e-01,\n",
       "        1.0000000e+00], dtype=float32),\n",
       " <a list of 100 Patch objects>)"
      ]
     },
     "execution_count": 36,
     "metadata": {},
     "output_type": "execute_result"
    },
    {
     "data": {
      "image/png": "[encoded data removed]",
      "text/plain": [
       "<Figure size 432x288 with 1 Axes>"
      ]
     },
     "metadata": {
      "needs_background": "light"
     },
     "output_type": "display_data"
    }
   ],
   "source": [
    "plt.hist(np_projection[1] / np.max(np_projection[1]), bins=100)"
   ]
  },
  {
   "cell_type": "code",
   "execution_count": 37,
   "metadata": {},
   "outputs": [],
   "source": [
    "a = 1 if 1 == 1 else 0"
   ]
  },
  {
   "cell_type": "code",
   "execution_count": 38,
   "metadata": {},
   "outputs": [
    {
     "data": {
      "text/plain": [
       "1"
      ]
     },
     "execution_count": 38,
     "metadata": {},
     "output_type": "execute_result"
    }
   ],
   "source": [
    "a"
   ]
  },
  {
   "cell_type": "code",
   "execution_count": 45,
   "metadata": {},
   "outputs": [
    {
     "data": {
      "text/plain": [
       "[(1, 'a'),\n",
       " (1, 'b'),\n",
       " (1, 'c'),\n",
       " (2, 'a'),\n",
       " (2, 'b'),\n",
       " (2, 'c'),\n",
       " (3, 'a'),\n",
       " (3, 'b'),\n",
       " (3, 'c')]"
      ]
     },
     "execution_count": 45,
     "metadata": {},
     "output_type": "execute_result"
    }
   ],
   "source": [
    "import itertools\n",
    "\n",
    "a=[1,2,3]\n",
    "b=['a', 'b', 'c']\n",
    "# c=[]\n",
    "\n",
    "list(itertools.product(a, b))"
   ]
  },
  {
   "cell_type": "code",
   "execution_count": 35,
   "metadata": {},
   "outputs": [
    {
     "data": {
      "text/plain": [
       "(array([145., 445., 953., 553., 884., 543., 770., 455., 889.,  95., 511.,\n",
       "        282., 308., 329., 202., 315., 127., 203., 144., 207., 131., 186.,\n",
       "         65., 141.,  72.,  82., 104.,  55.,  94.,  53.,  67.,  43.,  51.,\n",
       "         43.,  54.,  12.,  36.,  19.,  22.,  30.,  16.,  29.,  21.,  20.,\n",
       "         11.,  18.,  12.,  17.,   1.,  12.,  14.,   6.,   7.,   6.,   6.,\n",
       "          7.,   2.,   4.,   6.,   3.,   5.,   4.,   4.,   6.,   1.,   5.,\n",
       "          3.,   3.,   1.,   3.,   2.,   2.,   1.,   3.,   0.,   2.,   2.,\n",
       "          1.,   2.,   0.,   3.,   1.,   1.,   3.,   0.,   1.,   1.,   0.,\n",
       "          0.,   0.,   0.,   0.,   1.,   0.,   0.,   0.,   0.,   0.,   0.,\n",
       "          1.]),\n",
       " array([0.03529412, 0.04494118, 0.05458824, 0.06423529, 0.07388235,\n",
       "        0.08352941, 0.09317647, 0.10282353, 0.11247059, 0.12211765,\n",
       "        0.13176471, 0.14141176, 0.15105882, 0.16070588, 0.17035294,\n",
       "        0.18      , 0.18964706, 0.19929412, 0.20894118, 0.21858824,\n",
       "        0.22823529, 0.23788235, 0.24752941, 0.25717647, 0.26682353,\n",
       "        0.27647059, 0.28611765, 0.29576471, 0.30541176, 0.31505882,\n",
       "        0.32470588, 0.33435294, 0.344     , 0.35364706, 0.36329412,\n",
       "        0.37294118, 0.38258824, 0.39223529, 0.40188235, 0.41152941,\n",
       "        0.42117647, 0.43082353, 0.44047059, 0.45011765, 0.45976471,\n",
       "        0.46941176, 0.47905882, 0.48870588, 0.49835294, 0.508     ,\n",
       "        0.51764706, 0.52729412, 0.53694118, 0.54658824, 0.55623529,\n",
       "        0.56588235, 0.57552941, 0.58517647, 0.59482353, 0.60447059,\n",
       "        0.61411765, 0.62376471, 0.63341176, 0.64305882, 0.65270588,\n",
       "        0.66235294, 0.672     , 0.68164706, 0.69129412, 0.70094118,\n",
       "        0.71058824, 0.72023529, 0.72988235, 0.73952941, 0.74917647,\n",
       "        0.75882353, 0.76847059, 0.77811765, 0.78776471, 0.79741176,\n",
       "        0.80705882, 0.81670588, 0.82635294, 0.836     , 0.84564706,\n",
       "        0.85529412, 0.86494118, 0.87458824, 0.88423529, 0.89388235,\n",
       "        0.90352941, 0.91317647, 0.92282353, 0.93247059, 0.94211765,\n",
       "        0.95176471, 0.96141176, 0.97105882, 0.98070588, 0.99035294,\n",
       "        1.        ]),\n",
       " <a list of 100 Patch objects>)"
      ]
     },
     "execution_count": 35,
     "metadata": {},
     "output_type": "execute_result"
    },
    {
     "data": {
      "image/png": "[encoded data removed]",
      "text/plain": [
       "<Figure size 432x288 with 1 Axes>"
      ]
     },
     "metadata": {
      "needs_background": "light"
     },
     "output_type": "display_data"
    }
   ],
   "source": [
    "plt.hist(train_random_features[1] / np.max(train_random_features[1]), bins=100)"
   ]
  },
  {
   "cell_type": "code",
   "execution_count": 12,
   "metadata": {},
   "outputs": [
    {
     "data": {
      "text/plain": [
       "array([ 912, 1140])"
      ]
     },
     "execution_count": 12,
     "metadata": {},
     "output_type": "execute_result"
    }
   ],
   "source": [
    "random_mapping.opu._dmd_roi.dmd_shape"
   ]
  },
  {
   "cell_type": "code",
   "execution_count": null,
   "metadata": {},
   "outputs": [],
   "source": [
    "random_mapping.opu.device.cam_roi_increment"
   ]
  },
  {
   "cell_type": "code",
   "execution_count": 31,
   "metadata": {},
   "outputs": [],
   "source": [
    "random_mapping.opu.device.exposure_us = 400\n",
    "random_mapping.opu.device.frametime_us = 500"
   ]
  },
  {
   "cell_type": "code",
   "execution_count": 8,
   "metadata": {},
   "outputs": [
    {
     "data": {
      "text/plain": [
       "[341, 384]"
      ]
     },
     "execution_count": 8,
     "metadata": {},
     "output_type": "execute_result"
    }
   ],
   "source": [
    "random_mapping.opu.device.cam_shape"
   ]
  },
  {
   "cell_type": "code",
   "execution_count": 1,
   "metadata": {},
   "outputs": [
    {
     "ename": "NameError",
     "evalue": "name 'random_mapping' is not defined",
     "output_type": "error",
     "traceback": [
      "\u001b[0;31m---------------------------------------------------------------------------\u001b[0m",
      "\u001b[0;31mNameError\u001b[0m                                 Traceback (most recent call last)",
      "\u001b[0;32m<ipython-input-1-3e7b4d5e5490>\u001b[0m in \u001b[0;36m<module>\u001b[0;34m\u001b[0m\n\u001b[0;32m----> 1\u001b[0;31m \u001b[0mrandom_mapping\u001b[0m\u001b[0;34m.\u001b[0m\u001b[0mopu\u001b[0m\u001b[0;34m.\u001b[0m\u001b[0mclose\u001b[0m\u001b[0;34m(\u001b[0m\u001b[0;34m)\u001b[0m\u001b[0;34m\u001b[0m\u001b[0m\n\u001b[0m",
      "\u001b[0;31mNameError\u001b[0m: name 'random_mapping' is not defined"
     ]
    }
   ],
   "source": [
    "random_mapping.opu.close()"
   ]
  },
  {
   "cell_type": "code",
   "execution_count": null,
   "metadata": {},
   "outputs": [],
   "source": [
    "train_random_features = random_mapping.transform(train_data_bin)\n",
    "test_random_features = random_mapping.transform(test_data_bin)"
   ]
  },
  {
   "cell_type": "code",
   "execution_count": 39,
   "metadata": {},
   "outputs": [],
   "source": [
    "np.save('opu_fashion_mnist_features/train_{}K.npy'.format(n_components//1000), train_random_features)"
   ]
  },
  {
   "cell_type": "code",
   "execution_count": 40,
   "metadata": {},
   "outputs": [],
   "source": [
    "np.save('opu_fashion_mnist_features/test_{}K.npy'.format(n_components//1000), test_random_features)"
   ]
  },
  {
   "cell_type": "code",
   "execution_count": 47,
   "metadata": {},
   "outputs": [
    {
     "data": {
      "text/plain": [
       "array([[1, 1],\n",
       "       [2, 2],\n",
       "       [3, 3],\n",
       "       [4, 4]])"
      ]
     },
     "execution_count": 47,
     "metadata": {},
     "output_type": "execute_result"
    }
   ],
   "source": [
    "np.hstack([np.array([1,2,3,4]).reshape((-1, 1)), np.array([1,2,3,4]).reshape((-1, 1))])"
   ]
  },
  {
   "cell_type": "markdown",
   "metadata": {},
   "source": [
    "## Ridge Classifier"
   ]
  },
  {
   "cell_type": "code",
   "execution_count": 28,
   "metadata": {},
   "outputs": [
    {
     "name": "stdout",
     "output_type": "stream",
     "text": [
      "Score: 0.8444\n",
      "Time: 0.8923864364624023\n"
     ]
    }
   ],
   "source": [
    "# OPU: dim=1K, std_dev=0.5, 32bits\n",
    "since = time.time()\n",
    "\n",
    "clf = RidgeClassifier(alpha=1.0)\n",
    "clf.fit(train_random_features, train_labels)\n",
    "score = clf.score(test_random_features, test_labels)\n",
    "\n",
    "elapsed = time.time() - since\n",
    "\n",
    "print('Score:', score)\n",
    "print('Time:', elapsed)"
   ]
  },
  {
   "cell_type": "code",
   "execution_count": 11,
   "metadata": {},
   "outputs": [
    {
     "name": "stdout",
     "output_type": "stream",
     "text": [
      "Score: 0.8773\n",
      "Time: 35.18646216392517\n"
     ]
    }
   ],
   "source": [
    "# OPU: dim=10K, std_dev=0.5, 32bits\n",
    "since = time.time()\n",
    "\n",
    "clf = RidgeClassifier(alpha=1.0)\n",
    "clf.fit(train_random_features, train_labels)\n",
    "score = clf.score(test_random_features, test_labels)\n",
    "\n",
    "elapsed = time.time() - since\n",
    "\n",
    "print('Score:', score)\n",
    "print('Time:', elapsed)"
   ]
  },
  {
   "cell_type": "code",
   "execution_count": 41,
   "metadata": {},
   "outputs": [
    {
     "name": "stdout",
     "output_type": "stream",
     "text": [
      "Score: 0.8671\n",
      "Time: 130.62805652618408\n"
     ]
    }
   ],
   "source": [
    "# OPU: dim=20K, std_dev=0.5, 32bits\n",
    "since = time.time()\n",
    "\n",
    "clf = RidgeClassifier(alpha=1.0)\n",
    "clf.fit(train_random_features, train_labels)\n",
    "score = clf.score(test_random_features, test_labels)\n",
    "\n",
    "elapsed = time.time() - since\n",
    "\n",
    "print('Score:', score)\n",
    "print('Time:', elapsed)"
   ]
  },
  {
   "cell_type": "code",
   "execution_count": null,
   "metadata": {},
   "outputs": [],
   "source": []
  }
 ],
 "metadata": {
  "kernelspec": {
   "display_name": "Python 3 (LightOn OPU)",
   "language": "python",
   "name": "lighton_python3"
  },
  "language_info": {
   "codemirror_mode": {
    "name": "ipython",
    "version": 3
   },
   "file_extension": ".py",
   "mimetype": "text/x-python",
   "name": "python",
   "nbconvert_exporter": "python",
   "pygments_lexer": "ipython3",
   "version": "3.5.2"
  }
 },
 "nbformat": 4,
 "nbformat_minor": 2
}
