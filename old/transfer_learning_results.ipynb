{
 "cells": [
  {
   "cell_type": "code",
   "execution_count": 55,
   "metadata": {},
   "outputs": [
    {
     "name": "stdout",
     "output_type": "stream",
     "text": [
      "opu_degrees_optimized_5000.csv\n",
      "opu_degrees_optimized_degree_half_dummy_0_p1.csv\n",
      "opu_degrees_optimized_degree_half_dummy_0_p2.csv\n",
      "opu_degrees_optimized_degree_half_dummy_1.csv\n",
      "opu_degrees_optimized_degree_half_dummy_10.csv\n",
      "opu_degrees_optimized_degree_half_dummy_20.csv\n",
      "opu_degrees_optimized_degree_half_dummy_5.csv\n",
      "ridge_benchmark.csv\n",
      "ridge_benchmark_first.csv\n",
      "ridge_benchmark_opu.csv\n",
      "ridge_benchmark_opu_1000.csv\n",
      "ridge_benchmark_opu_300_600_700_no_dummy.csv\n",
      "ridge_benchmark_opu_400_500.csv\n",
      "ridge_benchmark_opu_optimized_1000.csv\n",
      "ridge_benchmark_opu_optimized_300_400.csv\n",
      "ridge_benchmark_opu_optimized_500.csv\n",
      "ridge_benchmark_opu_optimized_600.csv\n",
      "ridge_benchmark_opu_optimized_700.csv\n",
      "ridge_benchmark_rbf.csv\n",
      "ridge_benchmark_rbf_optimized.csv\n",
      "ridge_benchmark_syn_opu.csv\n",
      "ridge_benchmark_syn_opu_1.csv\n",
      "ridge_benchmark_syn_opu_2.csv\n",
      "ridge_benchmark_syn_opu_optimized.csv\n",
      "ridge_benchmark_syn_opu_optimized_all.csv\n",
      "ridge_benchmark_syn_opu_optimized_new.csv\n",
      "ridge_benchmark_syn_opu_optimized_p2.csv\n",
      "ridge_benchmark_syn_opu_sqrt_optimized_new.csv\n",
      "ridge_benchmark_transfer_learning_alex_opu_stl.csv\n",
      "ridge_benchmark_transfer_learning_linear_cifar10_alex.csv\n",
      "ridge_benchmark_transfer_learning_linear_cifar10_resnet.csv\n",
      "ridge_benchmark_transfer_learning_linear_stl.csv\n",
      "ridge_benchmark_transfer_learning_linear_vgg_cifar10.csv\n",
      "ridge_benchmark_transfer_learning_opu_alex_cifar10.csv\n",
      "ridge_benchmark_transfer_learning_opu_cifar10_full_newscale.csv\n",
      "ridge_benchmark_transfer_learning_opu_cifar10_layers.csv\n",
      "ridge_benchmark_transfer_learning_opu_resnet_cifar10.csv\n",
      "ridge_benchmark_transfer_learning_opu_vgg_cifar10.csv\n",
      "ridge_benchmark_transfer_learning_opu_vgg_cifar10_high_projection.csv\n",
      "ridge_benchmark_transfer_learning_opu_vgg_cifar10_lasso.csv\n",
      "ridge_benchmark_transfer_learning_opu_vgg_cifar10_noth.csv\n",
      "ridge_benchmark_transfer_learning_rbf_cifar10.csv\n",
      "ridge_benchmark_transfer_learning_rbf_linear_cifar10_layers.csv\n",
      "ridge_benchmark_transfer_learning_rbf_linear_cifar10_layers_vgg.csv\n",
      "ridge_benchmark_transfer_learning_rbf_stl.csv\n",
      "ridge_benchmark_transfer_learning_rbf_stl10_vgg.csv\n"
     ]
    }
   ],
   "source": [
    "! ls csv"
   ]
  },
  {
   "cell_type": "code",
   "execution_count": 1,
   "metadata": {},
   "outputs": [],
   "source": [
    "import pandas as pd\n",
    "import numpy as np\n",
    "import matplotlib.pyplot as plt"
   ]
  },
  {
   "cell_type": "code",
   "execution_count": 3,
   "metadata": {},
   "outputs": [],
   "source": [
    "import torchvision.models as models\n",
    "resnet34 = models.resnet34()\n",
    "alexnet = models.alexnet()\n",
    "vgg16_bn = models.vgg16_bn()\n",
    "squeezenet = models.squeezenet1_0()\n",
    "densenet = models.densenet161()\n",
    "inception = models.inception_v3()\n",
    "googlenet = models.googlenet()"
   ]
  },
  {
   "cell_type": "code",
   "execution_count": 10,
   "metadata": {},
   "outputs": [],
   "source": [
    "features = np.load('conv_features/cifar10/vgg16_bn_33.npz')"
   ]
  },
  {
   "cell_type": "code",
   "execution_count": 11,
   "metadata": {},
   "outputs": [
    {
     "data": {
      "text/plain": [
       "(10000, 2048)"
      ]
     },
     "execution_count": 11,
     "metadata": {},
     "output_type": "execute_result"
    }
   ],
   "source": [
    "features['test'].shape"
   ]
  },
  {
   "cell_type": "code",
   "execution_count": 2,
   "metadata": {},
   "outputs": [],
   "source": [
    "# opu = pd.read_csv('csv/ridge_benchmark_transfer_learning_opu_cifar10_layers.csv')\n",
    "opu = pd.read_csv('csv/ridge_benchmark_transfer_learning_opu_cifar10_full_newscale.csv')"
   ]
  },
  {
   "cell_type": "code",
   "execution_count": 27,
   "metadata": {},
   "outputs": [],
   "source": [
    "rbf_linear = pd.read_csv('csv/ridge_benchmark_transfer_learning_rbf_cifar10.csv')"
   ]
  },
  {
   "cell_type": "code",
   "execution_count": 6,
   "metadata": {},
   "outputs": [],
   "source": [
    "linear = pd.read_csv('csv/ridge_benchmark_transfer_learning_linear_cifar10_alex.csv')"
   ]
  },
  {
   "cell_type": "code",
   "execution_count": 58,
   "metadata": {},
   "outputs": [],
   "source": [
    "rbf = pd.read_csv('csv/ridge_benchmark_transfer_learning_rbf_cifar10.csv')"
   ]
  },
  {
   "cell_type": "code",
   "execution_count": 28,
   "metadata": {},
   "outputs": [],
   "source": [
    "rbf = rbf_linear[rbf_linear['kernel']=='rbf']"
   ]
  },
  {
   "cell_type": "code",
   "execution_count": 8,
   "metadata": {},
   "outputs": [],
   "source": [
    "linear = rbf_linear[rbf_linear['kernel']=='linear']"
   ]
  },
  {
   "cell_type": "code",
   "execution_count": 29,
   "metadata": {},
   "outputs": [
    {
     "data": {
      "text/html": [
       "<div>\n",
       "<style scoped>\n",
       "    .dataframe tbody tr th:only-of-type {\n",
       "        vertical-align: middle;\n",
       "    }\n",
       "\n",
       "    .dataframe tbody tr th {\n",
       "        vertical-align: top;\n",
       "    }\n",
       "\n",
       "    .dataframe thead th {\n",
       "        text-align: right;\n",
       "    }\n",
       "</style>\n",
       "<table border=\"1\" class=\"dataframe\">\n",
       "  <thead>\n",
       "    <tr style=\"text-align: right;\">\n",
       "      <th></th>\n",
       "      <th>alpha</th>\n",
       "      <th>dataset</th>\n",
       "      <th>gamma</th>\n",
       "      <th>kernel</th>\n",
       "      <th>model</th>\n",
       "      <th>output_dim</th>\n",
       "      <th>scale</th>\n",
       "      <th>test_score</th>\n",
       "      <th>threshold</th>\n",
       "      <th>training_time</th>\n",
       "      <th>validation_score</th>\n",
       "      <th>warnings</th>\n",
       "    </tr>\n",
       "  </thead>\n",
       "  <tbody>\n",
       "    <tr>\n",
       "      <th>327</th>\n",
       "      <td>0.10</td>\n",
       "      <td>cifar10</td>\n",
       "      <td>0.00001</td>\n",
       "      <td>rbf</td>\n",
       "      <td>vgg16_bn_avgpool.npz</td>\n",
       "      <td>10000.0</td>\n",
       "      <td>1.0</td>\n",
       "      <td>0.8522</td>\n",
       "      <td>0.4</td>\n",
       "      <td>293.295311</td>\n",
       "      <td>0.8548</td>\n",
       "      <td>0.0</td>\n",
       "    </tr>\n",
       "    <tr>\n",
       "      <th>363</th>\n",
       "      <td>0.10</td>\n",
       "      <td>cifar10</td>\n",
       "      <td>0.00002</td>\n",
       "      <td>rbf</td>\n",
       "      <td>vgg16_bn_avgpool.npz</td>\n",
       "      <td>10000.0</td>\n",
       "      <td>1.0</td>\n",
       "      <td>0.8515</td>\n",
       "      <td>0.4</td>\n",
       "      <td>301.305607</td>\n",
       "      <td>0.8545</td>\n",
       "      <td>0.0</td>\n",
       "    </tr>\n",
       "    <tr>\n",
       "      <th>399</th>\n",
       "      <td>0.10</td>\n",
       "      <td>cifar10</td>\n",
       "      <td>0.00003</td>\n",
       "      <td>rbf</td>\n",
       "      <td>vgg16_bn_avgpool.npz</td>\n",
       "      <td>10000.0</td>\n",
       "      <td>1.0</td>\n",
       "      <td>0.8505</td>\n",
       "      <td>0.4</td>\n",
       "      <td>294.235791</td>\n",
       "      <td>0.8525</td>\n",
       "      <td>0.0</td>\n",
       "    </tr>\n",
       "    <tr>\n",
       "      <th>478</th>\n",
       "      <td>0.01</td>\n",
       "      <td>cifar10</td>\n",
       "      <td>0.00005</td>\n",
       "      <td>rbf</td>\n",
       "      <td>vgg16_bn_avgpool.npz</td>\n",
       "      <td>10000.0</td>\n",
       "      <td>0.1</td>\n",
       "      <td>0.8508</td>\n",
       "      <td>0.4</td>\n",
       "      <td>298.729893</td>\n",
       "      <td>0.8510</td>\n",
       "      <td>0.0</td>\n",
       "    </tr>\n",
       "    <tr>\n",
       "      <th>470</th>\n",
       "      <td>1.00</td>\n",
       "      <td>cifar10</td>\n",
       "      <td>0.00005</td>\n",
       "      <td>rbf</td>\n",
       "      <td>vgg16_bn_avgpool.npz</td>\n",
       "      <td>10000.0</td>\n",
       "      <td>1.0</td>\n",
       "      <td>0.8508</td>\n",
       "      <td>0.4</td>\n",
       "      <td>301.704202</td>\n",
       "      <td>0.8510</td>\n",
       "      <td>0.0</td>\n",
       "    </tr>\n",
       "    <tr>\n",
       "      <th>506</th>\n",
       "      <td>1.00</td>\n",
       "      <td>cifar10</td>\n",
       "      <td>0.00006</td>\n",
       "      <td>rbf</td>\n",
       "      <td>vgg16_bn_avgpool.npz</td>\n",
       "      <td>10000.0</td>\n",
       "      <td>1.0</td>\n",
       "      <td>0.8502</td>\n",
       "      <td>0.4</td>\n",
       "      <td>305.926325</td>\n",
       "      <td>0.8508</td>\n",
       "      <td>0.0</td>\n",
       "    </tr>\n",
       "    <tr>\n",
       "      <th>514</th>\n",
       "      <td>0.01</td>\n",
       "      <td>cifar10</td>\n",
       "      <td>0.00006</td>\n",
       "      <td>rbf</td>\n",
       "      <td>vgg16_bn_avgpool.npz</td>\n",
       "      <td>10000.0</td>\n",
       "      <td>0.1</td>\n",
       "      <td>0.8502</td>\n",
       "      <td>0.4</td>\n",
       "      <td>296.830221</td>\n",
       "      <td>0.8508</td>\n",
       "      <td>0.0</td>\n",
       "    </tr>\n",
       "    <tr>\n",
       "      <th>622</th>\n",
       "      <td>0.01</td>\n",
       "      <td>cifar10</td>\n",
       "      <td>0.00009</td>\n",
       "      <td>rbf</td>\n",
       "      <td>vgg16_bn_avgpool.npz</td>\n",
       "      <td>10000.0</td>\n",
       "      <td>0.1</td>\n",
       "      <td>0.8496</td>\n",
       "      <td>0.4</td>\n",
       "      <td>295.568401</td>\n",
       "      <td>0.8505</td>\n",
       "      <td>0.0</td>\n",
       "    </tr>\n",
       "    <tr>\n",
       "      <th>614</th>\n",
       "      <td>1.00</td>\n",
       "      <td>cifar10</td>\n",
       "      <td>0.00009</td>\n",
       "      <td>rbf</td>\n",
       "      <td>vgg16_bn_avgpool.npz</td>\n",
       "      <td>10000.0</td>\n",
       "      <td>1.0</td>\n",
       "      <td>0.8496</td>\n",
       "      <td>0.4</td>\n",
       "      <td>296.502195</td>\n",
       "      <td>0.8505</td>\n",
       "      <td>0.0</td>\n",
       "    </tr>\n",
       "    <tr>\n",
       "      <th>434</th>\n",
       "      <td>1.00</td>\n",
       "      <td>cifar10</td>\n",
       "      <td>0.00004</td>\n",
       "      <td>rbf</td>\n",
       "      <td>vgg16_bn_avgpool.npz</td>\n",
       "      <td>10000.0</td>\n",
       "      <td>1.0</td>\n",
       "      <td>0.8493</td>\n",
       "      <td>0.4</td>\n",
       "      <td>304.289381</td>\n",
       "      <td>0.8502</td>\n",
       "      <td>0.0</td>\n",
       "    </tr>\n",
       "  </tbody>\n",
       "</table>\n",
       "</div>"
      ],
      "text/plain": [
       "     alpha  dataset    gamma kernel                 model  output_dim  scale  \\\n",
       "327   0.10  cifar10  0.00001    rbf  vgg16_bn_avgpool.npz     10000.0    1.0   \n",
       "363   0.10  cifar10  0.00002    rbf  vgg16_bn_avgpool.npz     10000.0    1.0   \n",
       "399   0.10  cifar10  0.00003    rbf  vgg16_bn_avgpool.npz     10000.0    1.0   \n",
       "478   0.01  cifar10  0.00005    rbf  vgg16_bn_avgpool.npz     10000.0    0.1   \n",
       "470   1.00  cifar10  0.00005    rbf  vgg16_bn_avgpool.npz     10000.0    1.0   \n",
       "506   1.00  cifar10  0.00006    rbf  vgg16_bn_avgpool.npz     10000.0    1.0   \n",
       "514   0.01  cifar10  0.00006    rbf  vgg16_bn_avgpool.npz     10000.0    0.1   \n",
       "622   0.01  cifar10  0.00009    rbf  vgg16_bn_avgpool.npz     10000.0    0.1   \n",
       "614   1.00  cifar10  0.00009    rbf  vgg16_bn_avgpool.npz     10000.0    1.0   \n",
       "434   1.00  cifar10  0.00004    rbf  vgg16_bn_avgpool.npz     10000.0    1.0   \n",
       "\n",
       "     test_score  threshold  training_time  validation_score  warnings  \n",
       "327      0.8522        0.4     293.295311            0.8548       0.0  \n",
       "363      0.8515        0.4     301.305607            0.8545       0.0  \n",
       "399      0.8505        0.4     294.235791            0.8525       0.0  \n",
       "478      0.8508        0.4     298.729893            0.8510       0.0  \n",
       "470      0.8508        0.4     301.704202            0.8510       0.0  \n",
       "506      0.8502        0.4     305.926325            0.8508       0.0  \n",
       "514      0.8502        0.4     296.830221            0.8508       0.0  \n",
       "622      0.8496        0.4     295.568401            0.8505       0.0  \n",
       "614      0.8496        0.4     296.502195            0.8505       0.0  \n",
       "434      0.8493        0.4     304.289381            0.8502       0.0  "
      ]
     },
     "execution_count": 29,
     "metadata": {},
     "output_type": "execute_result"
    }
   ],
   "source": [
    "rbf[rbf['model'] == 'vgg16_bn_avgpool.npz'].sort_values(by='validation_score', ascending=False).iloc[:10]"
   ]
  },
  {
   "cell_type": "code",
   "execution_count": 12,
   "metadata": {},
   "outputs": [
    {
     "data": {
      "text/html": [
       "<div>\n",
       "<style scoped>\n",
       "    .dataframe tbody tr th:only-of-type {\n",
       "        vertical-align: middle;\n",
       "    }\n",
       "\n",
       "    .dataframe tbody tr th {\n",
       "        vertical-align: top;\n",
       "    }\n",
       "\n",
       "    .dataframe thead th {\n",
       "        text-align: right;\n",
       "    }\n",
       "</style>\n",
       "<table border=\"1\" class=\"dataframe\">\n",
       "  <thead>\n",
       "    <tr style=\"text-align: right;\">\n",
       "      <th></th>\n",
       "      <th>alpha</th>\n",
       "      <th>dataset</th>\n",
       "      <th>gamma</th>\n",
       "      <th>kernel</th>\n",
       "      <th>model</th>\n",
       "      <th>output_dim</th>\n",
       "      <th>scale</th>\n",
       "      <th>test_score</th>\n",
       "      <th>threshold</th>\n",
       "      <th>training_time</th>\n",
       "      <th>validation_score</th>\n",
       "      <th>warnings</th>\n",
       "    </tr>\n",
       "  </thead>\n",
       "  <tbody>\n",
       "    <tr>\n",
       "      <th>2138</th>\n",
       "      <td>1.00</td>\n",
       "      <td>cifar10</td>\n",
       "      <td>NaN</td>\n",
       "      <td>linear</td>\n",
       "      <td>vgg16_bn_13.npz</td>\n",
       "      <td>10000.0</td>\n",
       "      <td>0.010</td>\n",
       "      <td>0.7293</td>\n",
       "      <td>0.6</td>\n",
       "      <td>692.326513</td>\n",
       "      <td>0.7240</td>\n",
       "      <td>0.0</td>\n",
       "    </tr>\n",
       "    <tr>\n",
       "      <th>2146</th>\n",
       "      <td>0.01</td>\n",
       "      <td>cifar10</td>\n",
       "      <td>NaN</td>\n",
       "      <td>linear</td>\n",
       "      <td>vgg16_bn_13.npz</td>\n",
       "      <td>10000.0</td>\n",
       "      <td>0.001</td>\n",
       "      <td>0.7293</td>\n",
       "      <td>0.6</td>\n",
       "      <td>658.725884</td>\n",
       "      <td>0.7240</td>\n",
       "      <td>0.0</td>\n",
       "    </tr>\n",
       "    <tr>\n",
       "      <th>2130</th>\n",
       "      <td>100.00</td>\n",
       "      <td>cifar10</td>\n",
       "      <td>NaN</td>\n",
       "      <td>linear</td>\n",
       "      <td>vgg16_bn_13.npz</td>\n",
       "      <td>10000.0</td>\n",
       "      <td>0.100</td>\n",
       "      <td>0.7293</td>\n",
       "      <td>0.6</td>\n",
       "      <td>670.739937</td>\n",
       "      <td>0.7240</td>\n",
       "      <td>0.0</td>\n",
       "    </tr>\n",
       "    <tr>\n",
       "      <th>2131</th>\n",
       "      <td>10.00</td>\n",
       "      <td>cifar10</td>\n",
       "      <td>NaN</td>\n",
       "      <td>linear</td>\n",
       "      <td>vgg16_bn_13.npz</td>\n",
       "      <td>10000.0</td>\n",
       "      <td>0.100</td>\n",
       "      <td>0.7276</td>\n",
       "      <td>0.6</td>\n",
       "      <td>670.739937</td>\n",
       "      <td>0.7204</td>\n",
       "      <td>0.0</td>\n",
       "    </tr>\n",
       "    <tr>\n",
       "      <th>2139</th>\n",
       "      <td>0.10</td>\n",
       "      <td>cifar10</td>\n",
       "      <td>NaN</td>\n",
       "      <td>linear</td>\n",
       "      <td>vgg16_bn_13.npz</td>\n",
       "      <td>10000.0</td>\n",
       "      <td>0.010</td>\n",
       "      <td>0.7276</td>\n",
       "      <td>0.6</td>\n",
       "      <td>692.326513</td>\n",
       "      <td>0.7204</td>\n",
       "      <td>0.0</td>\n",
       "    </tr>\n",
       "    <tr>\n",
       "      <th>2124</th>\n",
       "      <td>100.00</td>\n",
       "      <td>cifar10</td>\n",
       "      <td>NaN</td>\n",
       "      <td>linear</td>\n",
       "      <td>vgg16_bn_13.npz</td>\n",
       "      <td>10000.0</td>\n",
       "      <td>1.000</td>\n",
       "      <td>0.7055</td>\n",
       "      <td>0.6</td>\n",
       "      <td>709.375815</td>\n",
       "      <td>0.6940</td>\n",
       "      <td>0.0</td>\n",
       "    </tr>\n",
       "    <tr>\n",
       "      <th>2132</th>\n",
       "      <td>1.00</td>\n",
       "      <td>cifar10</td>\n",
       "      <td>NaN</td>\n",
       "      <td>linear</td>\n",
       "      <td>vgg16_bn_13.npz</td>\n",
       "      <td>10000.0</td>\n",
       "      <td>0.100</td>\n",
       "      <td>0.7055</td>\n",
       "      <td>0.6</td>\n",
       "      <td>670.739937</td>\n",
       "      <td>0.6940</td>\n",
       "      <td>0.0</td>\n",
       "    </tr>\n",
       "    <tr>\n",
       "      <th>2140</th>\n",
       "      <td>0.01</td>\n",
       "      <td>cifar10</td>\n",
       "      <td>NaN</td>\n",
       "      <td>linear</td>\n",
       "      <td>vgg16_bn_13.npz</td>\n",
       "      <td>10000.0</td>\n",
       "      <td>0.010</td>\n",
       "      <td>0.7055</td>\n",
       "      <td>0.6</td>\n",
       "      <td>692.326513</td>\n",
       "      <td>0.6940</td>\n",
       "      <td>0.0</td>\n",
       "    </tr>\n",
       "    <tr>\n",
       "      <th>2133</th>\n",
       "      <td>0.10</td>\n",
       "      <td>cifar10</td>\n",
       "      <td>NaN</td>\n",
       "      <td>linear</td>\n",
       "      <td>vgg16_bn_13.npz</td>\n",
       "      <td>10000.0</td>\n",
       "      <td>0.100</td>\n",
       "      <td>0.7017</td>\n",
       "      <td>0.6</td>\n",
       "      <td>670.739937</td>\n",
       "      <td>0.6863</td>\n",
       "      <td>0.0</td>\n",
       "    </tr>\n",
       "    <tr>\n",
       "      <th>2125</th>\n",
       "      <td>10.00</td>\n",
       "      <td>cifar10</td>\n",
       "      <td>NaN</td>\n",
       "      <td>linear</td>\n",
       "      <td>vgg16_bn_13.npz</td>\n",
       "      <td>10000.0</td>\n",
       "      <td>1.000</td>\n",
       "      <td>0.7017</td>\n",
       "      <td>0.6</td>\n",
       "      <td>709.375815</td>\n",
       "      <td>0.6863</td>\n",
       "      <td>0.0</td>\n",
       "    </tr>\n",
       "  </tbody>\n",
       "</table>\n",
       "</div>"
      ],
      "text/plain": [
       "       alpha  dataset  gamma  kernel            model  output_dim  scale  \\\n",
       "2138    1.00  cifar10    NaN  linear  vgg16_bn_13.npz     10000.0  0.010   \n",
       "2146    0.01  cifar10    NaN  linear  vgg16_bn_13.npz     10000.0  0.001   \n",
       "2130  100.00  cifar10    NaN  linear  vgg16_bn_13.npz     10000.0  0.100   \n",
       "2131   10.00  cifar10    NaN  linear  vgg16_bn_13.npz     10000.0  0.100   \n",
       "2139    0.10  cifar10    NaN  linear  vgg16_bn_13.npz     10000.0  0.010   \n",
       "2124  100.00  cifar10    NaN  linear  vgg16_bn_13.npz     10000.0  1.000   \n",
       "2132    1.00  cifar10    NaN  linear  vgg16_bn_13.npz     10000.0  0.100   \n",
       "2140    0.01  cifar10    NaN  linear  vgg16_bn_13.npz     10000.0  0.010   \n",
       "2133    0.10  cifar10    NaN  linear  vgg16_bn_13.npz     10000.0  0.100   \n",
       "2125   10.00  cifar10    NaN  linear  vgg16_bn_13.npz     10000.0  1.000   \n",
       "\n",
       "      test_score  threshold  training_time  validation_score  warnings  \n",
       "2138      0.7293        0.6     692.326513            0.7240       0.0  \n",
       "2146      0.7293        0.6     658.725884            0.7240       0.0  \n",
       "2130      0.7293        0.6     670.739937            0.7240       0.0  \n",
       "2131      0.7276        0.6     670.739937            0.7204       0.0  \n",
       "2139      0.7276        0.6     692.326513            0.7204       0.0  \n",
       "2124      0.7055        0.6     709.375815            0.6940       0.0  \n",
       "2132      0.7055        0.6     670.739937            0.6940       0.0  \n",
       "2140      0.7055        0.6     692.326513            0.6940       0.0  \n",
       "2133      0.7017        0.6     670.739937            0.6863       0.0  \n",
       "2125      0.7017        0.6     709.375815            0.6863       0.0  "
      ]
     },
     "execution_count": 12,
     "metadata": {},
     "output_type": "execute_result"
    }
   ],
   "source": [
    "linear[linear['model'] == 'vgg16_bn_13.npz'].sort_values(by='validation_score', ascending=False).iloc[:10]"
   ]
  },
  {
   "cell_type": "code",
   "execution_count": 3,
   "metadata": {},
   "outputs": [
    {
     "data": {
      "text/html": [
       "<div>\n",
       "<style scoped>\n",
       "    .dataframe tbody tr th:only-of-type {\n",
       "        vertical-align: middle;\n",
       "    }\n",
       "\n",
       "    .dataframe tbody tr th {\n",
       "        vertical-align: top;\n",
       "    }\n",
       "\n",
       "    .dataframe thead th {\n",
       "        text-align: right;\n",
       "    }\n",
       "</style>\n",
       "<table border=\"1\" class=\"dataframe\">\n",
       "  <thead>\n",
       "    <tr style=\"text-align: right;\">\n",
       "      <th></th>\n",
       "      <th>alpha</th>\n",
       "      <th>dataset</th>\n",
       "      <th>degree</th>\n",
       "      <th>dummy</th>\n",
       "      <th>kernel</th>\n",
       "      <th>model</th>\n",
       "      <th>output_dim</th>\n",
       "      <th>scale</th>\n",
       "      <th>test_score</th>\n",
       "      <th>threshold</th>\n",
       "      <th>training_time</th>\n",
       "      <th>validation_score</th>\n",
       "      <th>warnings</th>\n",
       "    </tr>\n",
       "  </thead>\n",
       "  <tbody>\n",
       "    <tr>\n",
       "      <th>1722</th>\n",
       "      <td>100.00</td>\n",
       "      <td>cifar10</td>\n",
       "      <td>1.0</td>\n",
       "      <td>100.0</td>\n",
       "      <td>opu</td>\n",
       "      <td>vgg16_bn_avgpool.npz</td>\n",
       "      <td>10000.0</td>\n",
       "      <td>0.00001</td>\n",
       "      <td>0.8483</td>\n",
       "      <td>0.4</td>\n",
       "      <td>293.430091</td>\n",
       "      <td>0.8502</td>\n",
       "      <td>10.0</td>\n",
       "    </tr>\n",
       "    <tr>\n",
       "      <th>1723</th>\n",
       "      <td>10.00</td>\n",
       "      <td>cifar10</td>\n",
       "      <td>1.0</td>\n",
       "      <td>100.0</td>\n",
       "      <td>opu</td>\n",
       "      <td>vgg16_bn_avgpool.npz</td>\n",
       "      <td>10000.0</td>\n",
       "      <td>0.00001</td>\n",
       "      <td>0.8399</td>\n",
       "      <td>0.4</td>\n",
       "      <td>293.430091</td>\n",
       "      <td>0.8413</td>\n",
       "      <td>10.0</td>\n",
       "    </tr>\n",
       "    <tr>\n",
       "      <th>1724</th>\n",
       "      <td>1.00</td>\n",
       "      <td>cifar10</td>\n",
       "      <td>1.0</td>\n",
       "      <td>100.0</td>\n",
       "      <td>opu</td>\n",
       "      <td>vgg16_bn_avgpool.npz</td>\n",
       "      <td>10000.0</td>\n",
       "      <td>0.00001</td>\n",
       "      <td>0.8315</td>\n",
       "      <td>0.4</td>\n",
       "      <td>293.430091</td>\n",
       "      <td>0.8280</td>\n",
       "      <td>10.0</td>\n",
       "    </tr>\n",
       "    <tr>\n",
       "      <th>1716</th>\n",
       "      <td>100.00</td>\n",
       "      <td>cifar10</td>\n",
       "      <td>1.0</td>\n",
       "      <td>100.0</td>\n",
       "      <td>opu</td>\n",
       "      <td>vgg16_bn_avgpool.npz</td>\n",
       "      <td>10000.0</td>\n",
       "      <td>0.00010</td>\n",
       "      <td>0.8316</td>\n",
       "      <td>0.4</td>\n",
       "      <td>292.040826</td>\n",
       "      <td>0.8280</td>\n",
       "      <td>12.0</td>\n",
       "    </tr>\n",
       "    <tr>\n",
       "      <th>1725</th>\n",
       "      <td>0.10</td>\n",
       "      <td>cifar10</td>\n",
       "      <td>1.0</td>\n",
       "      <td>100.0</td>\n",
       "      <td>opu</td>\n",
       "      <td>vgg16_bn_avgpool.npz</td>\n",
       "      <td>10000.0</td>\n",
       "      <td>0.00001</td>\n",
       "      <td>0.8292</td>\n",
       "      <td>0.4</td>\n",
       "      <td>293.430091</td>\n",
       "      <td>0.8255</td>\n",
       "      <td>10.0</td>\n",
       "    </tr>\n",
       "    <tr>\n",
       "      <th>1717</th>\n",
       "      <td>10.00</td>\n",
       "      <td>cifar10</td>\n",
       "      <td>1.0</td>\n",
       "      <td>100.0</td>\n",
       "      <td>opu</td>\n",
       "      <td>vgg16_bn_avgpool.npz</td>\n",
       "      <td>10000.0</td>\n",
       "      <td>0.00010</td>\n",
       "      <td>0.8293</td>\n",
       "      <td>0.4</td>\n",
       "      <td>292.040826</td>\n",
       "      <td>0.8254</td>\n",
       "      <td>12.0</td>\n",
       "    </tr>\n",
       "    <tr>\n",
       "      <th>1702</th>\n",
       "      <td>0.01</td>\n",
       "      <td>cifar10</td>\n",
       "      <td>1.0</td>\n",
       "      <td>100.0</td>\n",
       "      <td>opu</td>\n",
       "      <td>vgg16_bn_avgpool.npz</td>\n",
       "      <td>10000.0</td>\n",
       "      <td>0.10000</td>\n",
       "      <td>0.8291</td>\n",
       "      <td>0.4</td>\n",
       "      <td>291.816358</td>\n",
       "      <td>0.8252</td>\n",
       "      <td>12.0</td>\n",
       "    </tr>\n",
       "    <tr>\n",
       "      <th>1707</th>\n",
       "      <td>0.10</td>\n",
       "      <td>cifar10</td>\n",
       "      <td>1.0</td>\n",
       "      <td>100.0</td>\n",
       "      <td>opu</td>\n",
       "      <td>vgg16_bn_avgpool.npz</td>\n",
       "      <td>10000.0</td>\n",
       "      <td>0.01000</td>\n",
       "      <td>0.8292</td>\n",
       "      <td>0.4</td>\n",
       "      <td>289.996620</td>\n",
       "      <td>0.8252</td>\n",
       "      <td>12.0</td>\n",
       "    </tr>\n",
       "    <tr>\n",
       "      <th>1698</th>\n",
       "      <td>100.00</td>\n",
       "      <td>cifar10</td>\n",
       "      <td>1.0</td>\n",
       "      <td>100.0</td>\n",
       "      <td>opu</td>\n",
       "      <td>vgg16_bn_avgpool.npz</td>\n",
       "      <td>10000.0</td>\n",
       "      <td>0.10000</td>\n",
       "      <td>0.8291</td>\n",
       "      <td>0.4</td>\n",
       "      <td>291.816358</td>\n",
       "      <td>0.8252</td>\n",
       "      <td>12.0</td>\n",
       "    </tr>\n",
       "    <tr>\n",
       "      <th>1705</th>\n",
       "      <td>10.00</td>\n",
       "      <td>cifar10</td>\n",
       "      <td>1.0</td>\n",
       "      <td>100.0</td>\n",
       "      <td>opu</td>\n",
       "      <td>vgg16_bn_avgpool.npz</td>\n",
       "      <td>10000.0</td>\n",
       "      <td>0.01000</td>\n",
       "      <td>0.8291</td>\n",
       "      <td>0.4</td>\n",
       "      <td>289.996620</td>\n",
       "      <td>0.8252</td>\n",
       "      <td>12.0</td>\n",
       "    </tr>\n",
       "  </tbody>\n",
       "</table>\n",
       "</div>"
      ],
      "text/plain": [
       "       alpha  dataset  degree  dummy kernel                 model  output_dim  \\\n",
       "1722  100.00  cifar10     1.0  100.0    opu  vgg16_bn_avgpool.npz     10000.0   \n",
       "1723   10.00  cifar10     1.0  100.0    opu  vgg16_bn_avgpool.npz     10000.0   \n",
       "1724    1.00  cifar10     1.0  100.0    opu  vgg16_bn_avgpool.npz     10000.0   \n",
       "1716  100.00  cifar10     1.0  100.0    opu  vgg16_bn_avgpool.npz     10000.0   \n",
       "1725    0.10  cifar10     1.0  100.0    opu  vgg16_bn_avgpool.npz     10000.0   \n",
       "1717   10.00  cifar10     1.0  100.0    opu  vgg16_bn_avgpool.npz     10000.0   \n",
       "1702    0.01  cifar10     1.0  100.0    opu  vgg16_bn_avgpool.npz     10000.0   \n",
       "1707    0.10  cifar10     1.0  100.0    opu  vgg16_bn_avgpool.npz     10000.0   \n",
       "1698  100.00  cifar10     1.0  100.0    opu  vgg16_bn_avgpool.npz     10000.0   \n",
       "1705   10.00  cifar10     1.0  100.0    opu  vgg16_bn_avgpool.npz     10000.0   \n",
       "\n",
       "        scale  test_score  threshold  training_time  validation_score  \\\n",
       "1722  0.00001      0.8483        0.4     293.430091            0.8502   \n",
       "1723  0.00001      0.8399        0.4     293.430091            0.8413   \n",
       "1724  0.00001      0.8315        0.4     293.430091            0.8280   \n",
       "1716  0.00010      0.8316        0.4     292.040826            0.8280   \n",
       "1725  0.00001      0.8292        0.4     293.430091            0.8255   \n",
       "1717  0.00010      0.8293        0.4     292.040826            0.8254   \n",
       "1702  0.10000      0.8291        0.4     291.816358            0.8252   \n",
       "1707  0.01000      0.8292        0.4     289.996620            0.8252   \n",
       "1698  0.10000      0.8291        0.4     291.816358            0.8252   \n",
       "1705  0.01000      0.8291        0.4     289.996620            0.8252   \n",
       "\n",
       "      warnings  \n",
       "1722      10.0  \n",
       "1723      10.0  \n",
       "1724      10.0  \n",
       "1716      12.0  \n",
       "1725      10.0  \n",
       "1717      12.0  \n",
       "1702      12.0  \n",
       "1707      12.0  \n",
       "1698      12.0  \n",
       "1705      12.0  "
      ]
     },
     "execution_count": 3,
     "metadata": {},
     "output_type": "execute_result"
    }
   ],
   "source": [
    "opu[opu['model'] == 'vgg16_bn_avgpool.npz'].sort_values(by='validation_score', ascending=False).iloc[:10]"
   ]
  },
  {
   "cell_type": "code",
   "execution_count": 21,
   "metadata": {},
   "outputs": [
    {
     "data": {
      "text/html": [
       "<div>\n",
       "<style scoped>\n",
       "    .dataframe tbody tr th:only-of-type {\n",
       "        vertical-align: middle;\n",
       "    }\n",
       "\n",
       "    .dataframe tbody tr th {\n",
       "        vertical-align: top;\n",
       "    }\n",
       "\n",
       "    .dataframe thead th {\n",
       "        text-align: right;\n",
       "    }\n",
       "</style>\n",
       "<table border=\"1\" class=\"dataframe\">\n",
       "  <thead>\n",
       "    <tr style=\"text-align: right;\">\n",
       "      <th></th>\n",
       "      <th>alpha</th>\n",
       "      <th>dataset</th>\n",
       "      <th>kernel</th>\n",
       "      <th>model</th>\n",
       "      <th>output_dim</th>\n",
       "      <th>scale</th>\n",
       "      <th>test_score</th>\n",
       "      <th>threshold</th>\n",
       "      <th>training_time</th>\n",
       "      <th>validation_score</th>\n",
       "      <th>warnings</th>\n",
       "    </tr>\n",
       "  </thead>\n",
       "  <tbody>\n",
       "    <tr>\n",
       "      <th>22</th>\n",
       "      <td>0.01</td>\n",
       "      <td>cifar10</td>\n",
       "      <td>linear</td>\n",
       "      <td>alexnet_avgpool.npz</td>\n",
       "      <td>10000.0</td>\n",
       "      <td>0.001</td>\n",
       "      <td>0.8037</td>\n",
       "      <td>0.9</td>\n",
       "      <td>268.374840</td>\n",
       "      <td>0.8024</td>\n",
       "      <td>0.0</td>\n",
       "    </tr>\n",
       "    <tr>\n",
       "      <th>14</th>\n",
       "      <td>1.00</td>\n",
       "      <td>cifar10</td>\n",
       "      <td>linear</td>\n",
       "      <td>alexnet_avgpool.npz</td>\n",
       "      <td>10000.0</td>\n",
       "      <td>0.010</td>\n",
       "      <td>0.8037</td>\n",
       "      <td>0.9</td>\n",
       "      <td>263.793370</td>\n",
       "      <td>0.8024</td>\n",
       "      <td>0.0</td>\n",
       "    </tr>\n",
       "    <tr>\n",
       "      <th>6</th>\n",
       "      <td>100.00</td>\n",
       "      <td>cifar10</td>\n",
       "      <td>linear</td>\n",
       "      <td>alexnet_avgpool.npz</td>\n",
       "      <td>10000.0</td>\n",
       "      <td>0.100</td>\n",
       "      <td>0.8037</td>\n",
       "      <td>0.9</td>\n",
       "      <td>269.278262</td>\n",
       "      <td>0.8024</td>\n",
       "      <td>0.0</td>\n",
       "    </tr>\n",
       "    <tr>\n",
       "      <th>15</th>\n",
       "      <td>0.10</td>\n",
       "      <td>cifar10</td>\n",
       "      <td>linear</td>\n",
       "      <td>alexnet_avgpool.npz</td>\n",
       "      <td>10000.0</td>\n",
       "      <td>0.010</td>\n",
       "      <td>0.8010</td>\n",
       "      <td>0.9</td>\n",
       "      <td>263.793370</td>\n",
       "      <td>0.7954</td>\n",
       "      <td>0.0</td>\n",
       "    </tr>\n",
       "    <tr>\n",
       "      <th>7</th>\n",
       "      <td>10.00</td>\n",
       "      <td>cifar10</td>\n",
       "      <td>linear</td>\n",
       "      <td>alexnet_avgpool.npz</td>\n",
       "      <td>10000.0</td>\n",
       "      <td>0.100</td>\n",
       "      <td>0.8010</td>\n",
       "      <td>0.9</td>\n",
       "      <td>269.278262</td>\n",
       "      <td>0.7954</td>\n",
       "      <td>0.0</td>\n",
       "    </tr>\n",
       "    <tr>\n",
       "      <th>0</th>\n",
       "      <td>100.00</td>\n",
       "      <td>cifar10</td>\n",
       "      <td>linear</td>\n",
       "      <td>alexnet_avgpool.npz</td>\n",
       "      <td>10000.0</td>\n",
       "      <td>1.000</td>\n",
       "      <td>0.7844</td>\n",
       "      <td>0.9</td>\n",
       "      <td>274.813468</td>\n",
       "      <td>0.7707</td>\n",
       "      <td>0.0</td>\n",
       "    </tr>\n",
       "    <tr>\n",
       "      <th>16</th>\n",
       "      <td>0.01</td>\n",
       "      <td>cifar10</td>\n",
       "      <td>linear</td>\n",
       "      <td>alexnet_avgpool.npz</td>\n",
       "      <td>10000.0</td>\n",
       "      <td>0.010</td>\n",
       "      <td>0.7844</td>\n",
       "      <td>0.9</td>\n",
       "      <td>263.793370</td>\n",
       "      <td>0.7707</td>\n",
       "      <td>0.0</td>\n",
       "    </tr>\n",
       "    <tr>\n",
       "      <th>8</th>\n",
       "      <td>1.00</td>\n",
       "      <td>cifar10</td>\n",
       "      <td>linear</td>\n",
       "      <td>alexnet_avgpool.npz</td>\n",
       "      <td>10000.0</td>\n",
       "      <td>0.100</td>\n",
       "      <td>0.7844</td>\n",
       "      <td>0.9</td>\n",
       "      <td>269.278262</td>\n",
       "      <td>0.7707</td>\n",
       "      <td>0.0</td>\n",
       "    </tr>\n",
       "    <tr>\n",
       "      <th>13</th>\n",
       "      <td>10.00</td>\n",
       "      <td>cifar10</td>\n",
       "      <td>linear</td>\n",
       "      <td>alexnet_avgpool.npz</td>\n",
       "      <td>10000.0</td>\n",
       "      <td>0.010</td>\n",
       "      <td>0.7643</td>\n",
       "      <td>0.9</td>\n",
       "      <td>263.793370</td>\n",
       "      <td>0.7601</td>\n",
       "      <td>0.0</td>\n",
       "    </tr>\n",
       "    <tr>\n",
       "      <th>9</th>\n",
       "      <td>0.10</td>\n",
       "      <td>cifar10</td>\n",
       "      <td>linear</td>\n",
       "      <td>alexnet_avgpool.npz</td>\n",
       "      <td>10000.0</td>\n",
       "      <td>0.100</td>\n",
       "      <td>0.7781</td>\n",
       "      <td>0.9</td>\n",
       "      <td>269.278262</td>\n",
       "      <td>0.7601</td>\n",
       "      <td>0.0</td>\n",
       "    </tr>\n",
       "  </tbody>\n",
       "</table>\n",
       "</div>"
      ],
      "text/plain": [
       "     alpha  dataset  kernel                model  output_dim  scale  \\\n",
       "22    0.01  cifar10  linear  alexnet_avgpool.npz     10000.0  0.001   \n",
       "14    1.00  cifar10  linear  alexnet_avgpool.npz     10000.0  0.010   \n",
       "6   100.00  cifar10  linear  alexnet_avgpool.npz     10000.0  0.100   \n",
       "15    0.10  cifar10  linear  alexnet_avgpool.npz     10000.0  0.010   \n",
       "7    10.00  cifar10  linear  alexnet_avgpool.npz     10000.0  0.100   \n",
       "0   100.00  cifar10  linear  alexnet_avgpool.npz     10000.0  1.000   \n",
       "16    0.01  cifar10  linear  alexnet_avgpool.npz     10000.0  0.010   \n",
       "8     1.00  cifar10  linear  alexnet_avgpool.npz     10000.0  0.100   \n",
       "13   10.00  cifar10  linear  alexnet_avgpool.npz     10000.0  0.010   \n",
       "9     0.10  cifar10  linear  alexnet_avgpool.npz     10000.0  0.100   \n",
       "\n",
       "    test_score  threshold  training_time  validation_score  warnings  \n",
       "22      0.8037        0.9     268.374840            0.8024       0.0  \n",
       "14      0.8037        0.9     263.793370            0.8024       0.0  \n",
       "6       0.8037        0.9     269.278262            0.8024       0.0  \n",
       "15      0.8010        0.9     263.793370            0.7954       0.0  \n",
       "7       0.8010        0.9     269.278262            0.7954       0.0  \n",
       "0       0.7844        0.9     274.813468            0.7707       0.0  \n",
       "16      0.7844        0.9     263.793370            0.7707       0.0  \n",
       "8       0.7844        0.9     269.278262            0.7707       0.0  \n",
       "13      0.7643        0.9     263.793370            0.7601       0.0  \n",
       "9       0.7781        0.9     269.278262            0.7601       0.0  "
      ]
     },
     "execution_count": 21,
     "metadata": {},
     "output_type": "execute_result"
    }
   ],
   "source": [
    "linear[linear['model'] == 'alexnet_avgpool.npz'].sort_values(by='validation_score', ascending=False).iloc[:10]"
   ]
  },
  {
   "cell_type": "code",
   "execution_count": 22,
   "metadata": {},
   "outputs": [
    {
     "data": {
      "text/html": [
       "<div>\n",
       "<style scoped>\n",
       "    .dataframe tbody tr th:only-of-type {\n",
       "        vertical-align: middle;\n",
       "    }\n",
       "\n",
       "    .dataframe tbody tr th {\n",
       "        vertical-align: top;\n",
       "    }\n",
       "\n",
       "    .dataframe thead th {\n",
       "        text-align: right;\n",
       "    }\n",
       "</style>\n",
       "<table border=\"1\" class=\"dataframe\">\n",
       "  <thead>\n",
       "    <tr style=\"text-align: right;\">\n",
       "      <th></th>\n",
       "      <th>alpha</th>\n",
       "      <th>dataset</th>\n",
       "      <th>gamma</th>\n",
       "      <th>kernel</th>\n",
       "      <th>model</th>\n",
       "      <th>output_dim</th>\n",
       "      <th>scale</th>\n",
       "      <th>test_score</th>\n",
       "      <th>threshold</th>\n",
       "      <th>training_time</th>\n",
       "      <th>validation_score</th>\n",
       "      <th>warnings</th>\n",
       "    </tr>\n",
       "  </thead>\n",
       "  <tbody>\n",
       "    <tr>\n",
       "      <th>74</th>\n",
       "      <td>1.00</td>\n",
       "      <td>cifar10</td>\n",
       "      <td>0.0003</td>\n",
       "      <td>rbf</td>\n",
       "      <td>alexnet_avgpool.npz</td>\n",
       "      <td>10000.0</td>\n",
       "      <td>1.0</td>\n",
       "      <td>0.8086</td>\n",
       "      <td>0.9</td>\n",
       "      <td>294.479042</td>\n",
       "      <td>0.8029</td>\n",
       "      <td>0.0</td>\n",
       "    </tr>\n",
       "    <tr>\n",
       "      <th>82</th>\n",
       "      <td>0.01</td>\n",
       "      <td>cifar10</td>\n",
       "      <td>0.0003</td>\n",
       "      <td>rbf</td>\n",
       "      <td>alexnet_avgpool.npz</td>\n",
       "      <td>10000.0</td>\n",
       "      <td>0.1</td>\n",
       "      <td>0.8086</td>\n",
       "      <td>0.9</td>\n",
       "      <td>307.025131</td>\n",
       "      <td>0.8029</td>\n",
       "      <td>0.0</td>\n",
       "    </tr>\n",
       "    <tr>\n",
       "      <th>46</th>\n",
       "      <td>0.01</td>\n",
       "      <td>cifar10</td>\n",
       "      <td>0.0002</td>\n",
       "      <td>rbf</td>\n",
       "      <td>alexnet_avgpool.npz</td>\n",
       "      <td>10000.0</td>\n",
       "      <td>0.1</td>\n",
       "      <td>0.8087</td>\n",
       "      <td>0.9</td>\n",
       "      <td>303.415771</td>\n",
       "      <td>0.8028</td>\n",
       "      <td>0.0</td>\n",
       "    </tr>\n",
       "    <tr>\n",
       "      <th>38</th>\n",
       "      <td>1.00</td>\n",
       "      <td>cifar10</td>\n",
       "      <td>0.0002</td>\n",
       "      <td>rbf</td>\n",
       "      <td>alexnet_avgpool.npz</td>\n",
       "      <td>10000.0</td>\n",
       "      <td>1.0</td>\n",
       "      <td>0.8087</td>\n",
       "      <td>0.9</td>\n",
       "      <td>299.612852</td>\n",
       "      <td>0.8028</td>\n",
       "      <td>0.0</td>\n",
       "    </tr>\n",
       "    <tr>\n",
       "      <th>2</th>\n",
       "      <td>1.00</td>\n",
       "      <td>cifar10</td>\n",
       "      <td>0.0001</td>\n",
       "      <td>rbf</td>\n",
       "      <td>alexnet_avgpool.npz</td>\n",
       "      <td>10000.0</td>\n",
       "      <td>1.0</td>\n",
       "      <td>0.8028</td>\n",
       "      <td>0.9</td>\n",
       "      <td>298.249890</td>\n",
       "      <td>0.7996</td>\n",
       "      <td>0.0</td>\n",
       "    </tr>\n",
       "    <tr>\n",
       "      <th>110</th>\n",
       "      <td>1.00</td>\n",
       "      <td>cifar10</td>\n",
       "      <td>0.0004</td>\n",
       "      <td>rbf</td>\n",
       "      <td>alexnet_avgpool.npz</td>\n",
       "      <td>10000.0</td>\n",
       "      <td>1.0</td>\n",
       "      <td>0.8079</td>\n",
       "      <td>0.9</td>\n",
       "      <td>291.464351</td>\n",
       "      <td>0.7996</td>\n",
       "      <td>0.0</td>\n",
       "    </tr>\n",
       "    <tr>\n",
       "      <th>10</th>\n",
       "      <td>0.01</td>\n",
       "      <td>cifar10</td>\n",
       "      <td>0.0001</td>\n",
       "      <td>rbf</td>\n",
       "      <td>alexnet_avgpool.npz</td>\n",
       "      <td>10000.0</td>\n",
       "      <td>0.1</td>\n",
       "      <td>0.8028</td>\n",
       "      <td>0.9</td>\n",
       "      <td>294.900458</td>\n",
       "      <td>0.7996</td>\n",
       "      <td>0.0</td>\n",
       "    </tr>\n",
       "    <tr>\n",
       "      <th>118</th>\n",
       "      <td>0.01</td>\n",
       "      <td>cifar10</td>\n",
       "      <td>0.0004</td>\n",
       "      <td>rbf</td>\n",
       "      <td>alexnet_avgpool.npz</td>\n",
       "      <td>10000.0</td>\n",
       "      <td>0.1</td>\n",
       "      <td>0.8079</td>\n",
       "      <td>0.9</td>\n",
       "      <td>300.469680</td>\n",
       "      <td>0.7996</td>\n",
       "      <td>0.0</td>\n",
       "    </tr>\n",
       "    <tr>\n",
       "      <th>3</th>\n",
       "      <td>0.10</td>\n",
       "      <td>cifar10</td>\n",
       "      <td>0.0001</td>\n",
       "      <td>rbf</td>\n",
       "      <td>alexnet_avgpool.npz</td>\n",
       "      <td>10000.0</td>\n",
       "      <td>1.0</td>\n",
       "      <td>0.8032</td>\n",
       "      <td>0.9</td>\n",
       "      <td>298.249890</td>\n",
       "      <td>0.7985</td>\n",
       "      <td>0.0</td>\n",
       "    </tr>\n",
       "    <tr>\n",
       "      <th>146</th>\n",
       "      <td>1.00</td>\n",
       "      <td>cifar10</td>\n",
       "      <td>0.0005</td>\n",
       "      <td>rbf</td>\n",
       "      <td>alexnet_avgpool.npz</td>\n",
       "      <td>10000.0</td>\n",
       "      <td>1.0</td>\n",
       "      <td>0.8042</td>\n",
       "      <td>0.9</td>\n",
       "      <td>294.085236</td>\n",
       "      <td>0.7971</td>\n",
       "      <td>0.0</td>\n",
       "    </tr>\n",
       "  </tbody>\n",
       "</table>\n",
       "</div>"
      ],
      "text/plain": [
       "     alpha  dataset   gamma kernel                model  output_dim  scale  \\\n",
       "74    1.00  cifar10  0.0003    rbf  alexnet_avgpool.npz     10000.0    1.0   \n",
       "82    0.01  cifar10  0.0003    rbf  alexnet_avgpool.npz     10000.0    0.1   \n",
       "46    0.01  cifar10  0.0002    rbf  alexnet_avgpool.npz     10000.0    0.1   \n",
       "38    1.00  cifar10  0.0002    rbf  alexnet_avgpool.npz     10000.0    1.0   \n",
       "2     1.00  cifar10  0.0001    rbf  alexnet_avgpool.npz     10000.0    1.0   \n",
       "110   1.00  cifar10  0.0004    rbf  alexnet_avgpool.npz     10000.0    1.0   \n",
       "10    0.01  cifar10  0.0001    rbf  alexnet_avgpool.npz     10000.0    0.1   \n",
       "118   0.01  cifar10  0.0004    rbf  alexnet_avgpool.npz     10000.0    0.1   \n",
       "3     0.10  cifar10  0.0001    rbf  alexnet_avgpool.npz     10000.0    1.0   \n",
       "146   1.00  cifar10  0.0005    rbf  alexnet_avgpool.npz     10000.0    1.0   \n",
       "\n",
       "     test_score  threshold  training_time  validation_score  warnings  \n",
       "74       0.8086        0.9     294.479042            0.8029       0.0  \n",
       "82       0.8086        0.9     307.025131            0.8029       0.0  \n",
       "46       0.8087        0.9     303.415771            0.8028       0.0  \n",
       "38       0.8087        0.9     299.612852            0.8028       0.0  \n",
       "2        0.8028        0.9     298.249890            0.7996       0.0  \n",
       "110      0.8079        0.9     291.464351            0.7996       0.0  \n",
       "10       0.8028        0.9     294.900458            0.7996       0.0  \n",
       "118      0.8079        0.9     300.469680            0.7996       0.0  \n",
       "3        0.8032        0.9     298.249890            0.7985       0.0  \n",
       "146      0.8042        0.9     294.085236            0.7971       0.0  "
      ]
     },
     "execution_count": 22,
     "metadata": {},
     "output_type": "execute_result"
    }
   ],
   "source": [
    "rbf[rbf['model'] == 'alexnet_avgpool.npz'].sort_values(by='validation_score', ascending=False).iloc[:10]"
   ]
  },
  {
   "cell_type": "code",
   "execution_count": null,
   "metadata": {},
   "outputs": [],
   "source": [
    "rbf[rbf['model'] == 'vgg16_bn_avgpool.npz'].sort_values(by='validation_score', ascending=False).iloc[:10]"
   ]
  },
  {
   "cell_type": "code",
   "execution_count": null,
   "metadata": {},
   "outputs": [],
   "source": []
  },
  {
   "cell_type": "code",
   "execution_count": 60,
   "metadata": {},
   "outputs": [],
   "source": [
    "conv_features = np.load('conv_features/stl10/models/resnet34.npz')"
   ]
  },
  {
   "cell_type": "code",
   "execution_count": 61,
   "metadata": {},
   "outputs": [
    {
     "data": {
      "text/plain": [
       "(5000, 512)"
      ]
     },
     "execution_count": 61,
     "metadata": {},
     "output_type": "execute_result"
    }
   ],
   "source": [
    "conv_features['train'].shape"
   ]
  },
  {
   "cell_type": "code",
   "execution_count": 28,
   "metadata": {},
   "outputs": [],
   "source": [
    "d_in = conv_features['train'].shape[1]"
   ]
  },
  {
   "cell_type": "code",
   "execution_count": 29,
   "metadata": {},
   "outputs": [],
   "source": [
    "initial_gamma_str = str(1. / d_in)"
   ]
  },
  {
   "cell_type": "code",
   "execution_count": 30,
   "metadata": {},
   "outputs": [
    {
     "data": {
      "text/plain": [
       "'3.985969387755102e-05'"
      ]
     },
     "execution_count": 30,
     "metadata": {},
     "output_type": "execute_result"
    }
   ],
   "source": [
    "initial_gamma_str"
   ]
  },
  {
   "cell_type": "code",
   "execution_count": 32,
   "metadata": {},
   "outputs": [
    {
     "data": {
      "text/plain": [
       "'0.00003985969387755102'"
      ]
     },
     "execution_count": 32,
     "metadata": {},
     "output_type": "execute_result"
    }
   ],
   "source": [
    "'{:.20f}'.format(1. / d_in)"
   ]
  },
  {
   "cell_type": "markdown",
   "metadata": {},
   "source": [
    "## Projection Time"
   ]
  },
  {
   "cell_type": "code",
   "execution_count": 2,
   "metadata": {},
   "outputs": [],
   "source": [
    "from random_features import project_big_np_matrix\n",
    "from random_features import OPUModuleNumpy, RBFModuleNumpy\n",
    "import numpy as np"
   ]
  },
  {
   "cell_type": "markdown",
   "metadata": {},
   "source": [
    "## Binarization"
   ]
  },
  {
   "cell_type": "code",
   "execution_count": 14,
   "metadata": {},
   "outputs": [],
   "source": [
    "from sklearn.linear_model import RidgeClassifier"
   ]
  },
  {
   "cell_type": "code",
   "execution_count": 15,
   "metadata": {},
   "outputs": [],
   "source": [
    "def threshold_binarize(data, threshold):\n",
    "    data_bin = np.where(data>threshold, 1, 0).astype('uint8')\n",
    "    return data_bin"
   ]
  },
  {
   "cell_type": "code",
   "execution_count": 3,
   "metadata": {},
   "outputs": [],
   "source": [
    "features = np.load('conv_features/cifar10/models/vgg16_bn_avgpool.npz')"
   ]
  },
  {
   "cell_type": "code",
   "execution_count": 6,
   "metadata": {},
   "outputs": [
    {
     "data": {
      "text/plain": [
       "(44073989,)"
      ]
     },
     "execution_count": 6,
     "metadata": {},
     "output_type": "execute_result"
    }
   ],
   "source": [
    "features['test'][ np.where( features['test'] > 0 ) ].shape"
   ]
  },
  {
   "cell_type": "code",
   "execution_count": 7,
   "metadata": {},
   "outputs": [
    {
     "data": {
      "text/plain": [
       "250880000"
      ]
     },
     "execution_count": 7,
     "metadata": {},
     "output_type": "execute_result"
    }
   ],
   "source": [
    "(features['test'].shape[0] * features['test'].shape[1])"
   ]
  },
  {
   "cell_type": "code",
   "execution_count": 9,
   "metadata": {},
   "outputs": [
    {
     "data": {
      "text/plain": [
       "0.1756775709502551"
      ]
     },
     "execution_count": 9,
     "metadata": {},
     "output_type": "execute_result"
    }
   ],
   "source": [
    "len(features['test'][ np.where( features['test'] > 0 ) ]) / (features['test'].shape[0] * features['test'].shape[1])"
   ]
  },
  {
   "cell_type": "code",
   "execution_count": 19,
   "metadata": {},
   "outputs": [],
   "source": [
    "labels = np.load('conv_features/cifar10/labels.npz')"
   ]
  },
  {
   "cell_type": "code",
   "execution_count": 35,
   "metadata": {},
   "outputs": [],
   "source": [
    "features_bin = features"
   ]
  },
  {
   "cell_type": "code",
   "execution_count": 20,
   "metadata": {},
   "outputs": [],
   "source": [
    "features_bin = {'train': threshold_binarize(features['train'], 0.4), 'test': threshold_binarize(features['test'], 0.4)}"
   ]
  },
  {
   "cell_type": "markdown",
   "metadata": {},
   "source": [
    "## Linear"
   ]
  },
  {
   "cell_type": "code",
   "execution_count": 21,
   "metadata": {},
   "outputs": [],
   "source": [
    "clf = RidgeClassifier(alpha=0.01)"
   ]
  },
  {
   "cell_type": "code",
   "execution_count": 22,
   "metadata": {},
   "outputs": [],
   "source": [
    "scale = 0.001"
   ]
  },
  {
   "cell_type": "code",
   "execution_count": null,
   "metadata": {},
   "outputs": [],
   "source": [
    "clf.fit(scale * features_bin['train'], labels['train'])"
   ]
  },
  {
   "cell_type": "code",
   "execution_count": null,
   "metadata": {},
   "outputs": [],
   "source": [
    "clf.score(scale * features_bin['test'], labels['test'])"
   ]
  },
  {
   "cell_type": "markdown",
   "metadata": {},
   "source": [
    "## OPU"
   ]
  },
  {
   "cell_type": "code",
   "execution_count": 40,
   "metadata": {},
   "outputs": [],
   "source": [
    "module = OPUModuleNumpy(features_bin['test'].shape[1] + 1, 10000, dtype='float64')"
   ]
  },
  {
   "cell_type": "code",
   "execution_count": 41,
   "metadata": {},
   "outputs": [],
   "source": [
    "dummy = 20\n",
    "data = np.vstack([features_bin['train'], features_bin['test']])\n",
    "data = np.hstack([data, np.ones((data.shape[0], 1)) * dummy]).astype('float32')"
   ]
  },
  {
   "cell_type": "code",
   "execution_count": 42,
   "metadata": {},
   "outputs": [],
   "source": [
    "projection, scale = module.get_projection_and_rawscale(data)"
   ]
  },
  {
   "cell_type": "code",
   "execution_count": 43,
   "metadata": {},
   "outputs": [],
   "source": [
    "projection = projection / scale * 0.00001"
   ]
  },
  {
   "cell_type": "code",
   "execution_count": 44,
   "metadata": {},
   "outputs": [],
   "source": [
    "clf = RidgeClassifier(alpha=0.01)"
   ]
  },
  {
   "cell_type": "code",
   "execution_count": 45,
   "metadata": {},
   "outputs": [
    {
     "data": {
      "text/plain": [
       "RidgeClassifier(alpha=0.01, class_weight=None, copy_X=True, fit_intercept=True,\n",
       "                max_iter=None, normalize=False, random_state=None,\n",
       "                solver='auto', tol=0.001)"
      ]
     },
     "execution_count": 45,
     "metadata": {},
     "output_type": "execute_result"
    }
   ],
   "source": [
    "clf.fit(projection[:50000], labels['train'])"
   ]
  },
  {
   "cell_type": "code",
   "execution_count": 46,
   "metadata": {},
   "outputs": [
    {
     "data": {
      "text/plain": [
       "0.8243"
      ]
     },
     "execution_count": 46,
     "metadata": {},
     "output_type": "execute_result"
    }
   ],
   "source": [
    "clf.score(projection[50000:], labels['test'])"
   ]
  },
  {
   "cell_type": "markdown",
   "metadata": {},
   "source": [
    "## RBF"
   ]
  },
  {
   "cell_type": "code",
   "execution_count": 58,
   "metadata": {},
   "outputs": [],
   "source": [
    "gamma = 1 / features_bin['test'].shape[1]\n",
    "log_lengthscale = -0.5 * np.log(2*gamma)"
   ]
  },
  {
   "cell_type": "code",
   "execution_count": 59,
   "metadata": {},
   "outputs": [],
   "source": [
    "module = RBFModuleNumpy(features_bin['test'].shape[1], 10000, log_lengthscale_init=log_lengthscale, dtype='float64')"
   ]
  },
  {
   "cell_type": "code",
   "execution_count": 60,
   "metadata": {},
   "outputs": [],
   "source": [
    "projection = module.forward(np.vstack([features_bin['train'], features_bin['test']]))"
   ]
  },
  {
   "cell_type": "code",
   "execution_count": 61,
   "metadata": {},
   "outputs": [],
   "source": [
    "clf = RidgeClassifier(alpha=1.0)"
   ]
  },
  {
   "cell_type": "code",
   "execution_count": 62,
   "metadata": {},
   "outputs": [
    {
     "data": {
      "text/plain": [
       "RidgeClassifier(alpha=1.0, class_weight=None, copy_X=True, fit_intercept=True,\n",
       "                max_iter=None, normalize=False, random_state=None,\n",
       "                solver='auto', tol=0.001)"
      ]
     },
     "execution_count": 62,
     "metadata": {},
     "output_type": "execute_result"
    }
   ],
   "source": [
    "clf.fit(projection[:50000], labels['train'])"
   ]
  },
  {
   "cell_type": "code",
   "execution_count": 63,
   "metadata": {},
   "outputs": [
    {
     "data": {
      "text/plain": [
       "0.8298"
      ]
     },
     "execution_count": 63,
     "metadata": {},
     "output_type": "execute_result"
    }
   ],
   "source": [
    "clf.score(projection[50000:], labels['test'])"
   ]
  },
  {
   "cell_type": "code",
   "execution_count": null,
   "metadata": {},
   "outputs": [],
   "source": []
  }
 ],
 "metadata": {
  "kernelspec": {
   "display_name": "Python 3",
   "language": "python",
   "name": "python3"
  },
  "language_info": {
   "codemirror_mode": {
    "name": "ipython",
    "version": 3
   },
   "file_extension": ".py",
   "mimetype": "text/x-python",
   "name": "python",
   "nbconvert_exporter": "python",
   "pygments_lexer": "ipython3",
   "version": "3.5.2"
  }
 },
 "nbformat": 4,
 "nbformat_minor": 4
}
